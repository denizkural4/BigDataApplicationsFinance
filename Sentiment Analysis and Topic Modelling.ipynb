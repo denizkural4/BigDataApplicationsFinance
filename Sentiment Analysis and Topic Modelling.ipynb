{
 "cells": [
  {
   "cell_type": "markdown",
   "metadata": {},
   "source": [
    "### Sentiment Analysis and Topic Modelling\n",
    "\n",
    "#### FRE9733 - Homework 9\n",
    "\n",
    "#### Deniz Kural - dk3703"
   ]
  },
  {
   "attachments": {},
   "cell_type": "markdown",
   "metadata": {},
   "source": [
    "### Steps to follow:\n",
    "------------------------\n",
    "i) Download 2000 reviews from the following link:<br>\n",
    "http://www.cs.cornell.edu/people/pabo/movie-review-data/review_polarity.tar.gz <br> \n",
    "ii) Build a Sentiment Analysis model by comparing two classifiers, and use the better-performed one as the final model <br>\n",
    "iii) Build a topic model to group the 2000 reviews  <br>\n",
    "iv) Summarize your finding into a brief report\n"
   ]
  },
  {
   "cell_type": "markdown",
   "metadata": {},
   "source": [
    "## Sentiment Analysis"
   ]
  },
  {
   "cell_type": "code",
   "execution_count": 1,
   "metadata": {},
   "outputs": [
    {
     "name": "stderr",
     "output_type": "stream",
     "text": [
      "C:\\Users\\deniz\\anaconda3\\lib\\site-packages\\gensim\\similarities\\__init__.py:15: UserWarning: The gensim.similarities.levenshtein submodule is disabled, because the optional Levenshtein package <https://pypi.org/project/python-Levenshtein/> is unavailable. Install Levenhstein (e.g. `pip install python-Levenshtein`) to suppress this warning.\n",
      "  warnings.warn(msg)\n"
     ]
    }
   ],
   "source": [
    "import nltk\n",
    "import glob\n",
    "import os\n",
    "import pandas as pd\n",
    "import numpy as np\n",
    "import string\n",
    "\n",
    "# Modelling\n",
    "from sklearn.model_selection import train_test_split, cross_validate, GridSearchCV, RandomizedSearchCV\n",
    "from sklearn.linear_model import LogisticRegression, SGDClassifier\n",
    "from sklearn.naive_bayes import MultinomialNB\n",
    "from sklearn.metrics import classification_report, confusion_matrix\n",
    "from sklearn.pipeline import Pipeline\n",
    "\n",
    "# Text preprocessing/analysis\n",
    "import re\n",
    "from nltk.corpus import stopwords\n",
    "from nltk.stem import WordNetLemmatizer\n",
    "from nltk.tokenize import RegexpTokenizer\n",
    "from nltk.sentiment.vader import SentimentIntensityAnalyzer\n",
    "from textblob import TextBlob\n",
    "from scipy.sparse import hstack, csr_matrix\n",
    "from sklearn.feature_extraction.text import TfidfVectorizer\n",
    "from sklearn.preprocessing import MinMaxScaler\n",
    "\n",
    "# Visualisation\n",
    "import matplotlib.pyplot as plt\n",
    "import seaborn as sns\n",
    "%matplotlib inline\n",
    "sns.set(style=\"whitegrid\", context='talk')\n",
    "\n",
    "#Topic Modelling\n",
    "from wordcloud import WordCloud\n",
    "import gensim\n",
    "from gensim.utils import simple_preprocess\n"
   ]
  },
  {
   "cell_type": "code",
   "execution_count": 2,
   "metadata": {
    "scrolled": true
   },
   "outputs": [],
   "source": [
    "file_list = glob.glob(os.path.join(os.getcwd(), r\"C:\\Users\\deniz\\Downloads\\review_polarity\\txt_sentoken\\neg\", \"*.txt\"))\n",
    "\n",
    "corpus_neg = []\n",
    "\n",
    "for file_path in file_list:\n",
    "    with open(file_path) as f_input:\n",
    "        corpus_neg.append(f_input.read())\n",
    "\n",
    "df_neg=pd.DataFrame(corpus_neg,columns=[\"Text\"])\n",
    "df_neg[\"Sentiment\"]=0"
   ]
  },
  {
   "cell_type": "code",
   "execution_count": 3,
   "metadata": {},
   "outputs": [],
   "source": [
    "file_list = glob.glob(os.path.join(os.getcwd(), r\"C:\\Users\\deniz\\Downloads\\review_polarity\\txt_sentoken\\pos\", \"*.txt\"))\n",
    "\n",
    "corpus_pos = []\n",
    "\n",
    "for file_path in file_list:\n",
    "    with open(file_path) as f_input:\n",
    "        corpus_pos.append(f_input.read())\n",
    "        \n",
    "df_pos=pd.DataFrame(corpus_pos,columns=[\"Text\"])\n",
    "df_pos[\"Sentiment\"]=1"
   ]
  },
  {
   "cell_type": "code",
   "execution_count": 4,
   "metadata": {},
   "outputs": [],
   "source": [
    "df_all=pd.concat([df_pos,df_neg])"
   ]
  },
  {
   "cell_type": "code",
   "execution_count": 5,
   "metadata": {},
   "outputs": [
    {
     "data": {
      "text/html": [
       "<div>\n",
       "<style scoped>\n",
       "    .dataframe tbody tr th:only-of-type {\n",
       "        vertical-align: middle;\n",
       "    }\n",
       "\n",
       "    .dataframe tbody tr th {\n",
       "        vertical-align: top;\n",
       "    }\n",
       "\n",
       "    .dataframe thead th {\n",
       "        text-align: right;\n",
       "    }\n",
       "</style>\n",
       "<table border=\"1\" class=\"dataframe\">\n",
       "  <thead>\n",
       "    <tr style=\"text-align: right;\">\n",
       "      <th></th>\n",
       "      <th>Text</th>\n",
       "      <th>Sentiment</th>\n",
       "    </tr>\n",
       "  </thead>\n",
       "  <tbody>\n",
       "    <tr>\n",
       "      <th>0</th>\n",
       "      <td>films adapted from comic books have had plenty...</td>\n",
       "      <td>1</td>\n",
       "    </tr>\n",
       "    <tr>\n",
       "      <th>1</th>\n",
       "      <td>every now and then a movie comes along from a ...</td>\n",
       "      <td>1</td>\n",
       "    </tr>\n",
       "    <tr>\n",
       "      <th>2</th>\n",
       "      <td>you've got mail works alot better than it dese...</td>\n",
       "      <td>1</td>\n",
       "    </tr>\n",
       "    <tr>\n",
       "      <th>3</th>\n",
       "      <td>\" jaws \" is a rare film that grabs your atten...</td>\n",
       "      <td>1</td>\n",
       "    </tr>\n",
       "    <tr>\n",
       "      <th>4</th>\n",
       "      <td>moviemaking is a lot like being the general ma...</td>\n",
       "      <td>1</td>\n",
       "    </tr>\n",
       "  </tbody>\n",
       "</table>\n",
       "</div>"
      ],
      "text/plain": [
       "                                                Text  Sentiment\n",
       "0  films adapted from comic books have had plenty...          1\n",
       "1  every now and then a movie comes along from a ...          1\n",
       "2  you've got mail works alot better than it dese...          1\n",
       "3   \" jaws \" is a rare film that grabs your atten...          1\n",
       "4  moviemaking is a lot like being the general ma...          1"
      ]
     },
     "execution_count": 5,
     "metadata": {},
     "output_type": "execute_result"
    }
   ],
   "source": [
    "df_all.head()"
   ]
  },
  {
   "cell_type": "code",
   "execution_count": 6,
   "metadata": {},
   "outputs": [
    {
     "data": {
      "text/html": [
       "<div>\n",
       "<style scoped>\n",
       "    .dataframe tbody tr th:only-of-type {\n",
       "        vertical-align: middle;\n",
       "    }\n",
       "\n",
       "    .dataframe tbody tr th {\n",
       "        vertical-align: top;\n",
       "    }\n",
       "\n",
       "    .dataframe thead th {\n",
       "        text-align: right;\n",
       "    }\n",
       "</style>\n",
       "<table border=\"1\" class=\"dataframe\">\n",
       "  <thead>\n",
       "    <tr style=\"text-align: right;\">\n",
       "      <th></th>\n",
       "      <th>Text</th>\n",
       "      <th>Sentiment</th>\n",
       "    </tr>\n",
       "  </thead>\n",
       "  <tbody>\n",
       "    <tr>\n",
       "      <th>995</th>\n",
       "      <td>if anything , \" stigmata \" should be taken as ...</td>\n",
       "      <td>0</td>\n",
       "    </tr>\n",
       "    <tr>\n",
       "      <th>996</th>\n",
       "      <td>john boorman's \" zardoz \" is a goofy cinematic...</td>\n",
       "      <td>0</td>\n",
       "    </tr>\n",
       "    <tr>\n",
       "      <th>997</th>\n",
       "      <td>the kids in the hall are an acquired taste . \\...</td>\n",
       "      <td>0</td>\n",
       "    </tr>\n",
       "    <tr>\n",
       "      <th>998</th>\n",
       "      <td>there was a time when john carpenter was a gre...</td>\n",
       "      <td>0</td>\n",
       "    </tr>\n",
       "    <tr>\n",
       "      <th>999</th>\n",
       "      <td>two party guys bob their heads to haddaway's d...</td>\n",
       "      <td>0</td>\n",
       "    </tr>\n",
       "  </tbody>\n",
       "</table>\n",
       "</div>"
      ],
      "text/plain": [
       "                                                  Text  Sentiment\n",
       "995  if anything , \" stigmata \" should be taken as ...          0\n",
       "996  john boorman's \" zardoz \" is a goofy cinematic...          0\n",
       "997  the kids in the hall are an acquired taste . \\...          0\n",
       "998  there was a time when john carpenter was a gre...          0\n",
       "999  two party guys bob their heads to haddaway's d...          0"
      ]
     },
     "execution_count": 6,
     "metadata": {},
     "output_type": "execute_result"
    }
   ],
   "source": [
    "df_all.tail()"
   ]
  },
  {
   "cell_type": "code",
   "execution_count": 7,
   "metadata": {},
   "outputs": [
    {
     "data": {
      "text/plain": [
       "0    1000\n",
       "1    1000\n",
       "Name: Sentiment, dtype: int64"
      ]
     },
     "execution_count": 7,
     "metadata": {},
     "output_type": "execute_result"
    }
   ],
   "source": [
    "df_all[\"Sentiment\"].value_counts()"
   ]
  },
  {
   "cell_type": "code",
   "execution_count": 8,
   "metadata": {},
   "outputs": [],
   "source": [
    "# Split data into train & test\n",
    "seed=3\n",
    "X_train, X_test, y_train, y_test = train_test_split(df_all['Text'], df_all['Sentiment'], test_size=250, random_state=seed, \n",
    "                                                    stratify=df_all['Sentiment'])\n",
    "# Append sentiment back using indices\n",
    "train = pd.concat([X_train, y_train], axis=1)\n",
    "test = pd.concat([X_test, y_test], axis=1)"
   ]
  },
  {
   "cell_type": "code",
   "execution_count": 9,
   "metadata": {},
   "outputs": [
    {
     "data": {
      "text/html": [
       "<div>\n",
       "<style scoped>\n",
       "    .dataframe tbody tr th:only-of-type {\n",
       "        vertical-align: middle;\n",
       "    }\n",
       "\n",
       "    .dataframe tbody tr th {\n",
       "        vertical-align: top;\n",
       "    }\n",
       "\n",
       "    .dataframe thead th {\n",
       "        text-align: right;\n",
       "    }\n",
       "</style>\n",
       "<table border=\"1\" class=\"dataframe\">\n",
       "  <thead>\n",
       "    <tr style=\"text-align: right;\">\n",
       "      <th></th>\n",
       "      <th>Text</th>\n",
       "      <th>Sentiment</th>\n",
       "    </tr>\n",
       "  </thead>\n",
       "  <tbody>\n",
       "    <tr>\n",
       "      <th>884</th>\n",
       "      <td>for those interested in the true spirit of mov...</td>\n",
       "      <td>0</td>\n",
       "    </tr>\n",
       "    <tr>\n",
       "      <th>343</th>\n",
       "      <td>\" it's not good to know too much about someon...</td>\n",
       "      <td>1</td>\n",
       "    </tr>\n",
       "    <tr>\n",
       "      <th>310</th>\n",
       "      <td>i'm not sure if silvio horta wrote urban legen...</td>\n",
       "      <td>0</td>\n",
       "    </tr>\n",
       "    <tr>\n",
       "      <th>233</th>\n",
       "      <td>at times , you'd think edtv would be an entert...</td>\n",
       "      <td>0</td>\n",
       "    </tr>\n",
       "    <tr>\n",
       "      <th>677</th>\n",
       "      <td>'pleasantville' ( 1998 ) taps into hollywood's...</td>\n",
       "      <td>1</td>\n",
       "    </tr>\n",
       "  </tbody>\n",
       "</table>\n",
       "</div>"
      ],
      "text/plain": [
       "                                                  Text  Sentiment\n",
       "884  for those interested in the true spirit of mov...          0\n",
       "343   \" it's not good to know too much about someon...          1\n",
       "310  i'm not sure if silvio horta wrote urban legen...          0\n",
       "233  at times , you'd think edtv would be an entert...          0\n",
       "677  'pleasantville' ( 1998 ) taps into hollywood's...          1"
      ]
     },
     "execution_count": 9,
     "metadata": {},
     "output_type": "execute_result"
    }
   ],
   "source": [
    "train.head()"
   ]
  },
  {
   "cell_type": "code",
   "execution_count": 10,
   "metadata": {},
   "outputs": [
    {
     "data": {
      "text/html": [
       "<div>\n",
       "<style scoped>\n",
       "    .dataframe tbody tr th:only-of-type {\n",
       "        vertical-align: middle;\n",
       "    }\n",
       "\n",
       "    .dataframe tbody tr th {\n",
       "        vertical-align: top;\n",
       "    }\n",
       "\n",
       "    .dataframe thead th {\n",
       "        text-align: right;\n",
       "    }\n",
       "</style>\n",
       "<table border=\"1\" class=\"dataframe\">\n",
       "  <thead>\n",
       "    <tr style=\"text-align: right;\">\n",
       "      <th></th>\n",
       "      <th>Text</th>\n",
       "      <th>Sentiment</th>\n",
       "    </tr>\n",
       "  </thead>\n",
       "  <tbody>\n",
       "    <tr>\n",
       "      <th>2</th>\n",
       "      <td>you've got mail works alot better than it dese...</td>\n",
       "      <td>1</td>\n",
       "    </tr>\n",
       "    <tr>\n",
       "      <th>0</th>\n",
       "      <td>plot : two teen couples go to a church party ,...</td>\n",
       "      <td>0</td>\n",
       "    </tr>\n",
       "    <tr>\n",
       "      <th>674</th>\n",
       "      <td>look back at all the times in your life when t...</td>\n",
       "      <td>1</td>\n",
       "    </tr>\n",
       "    <tr>\n",
       "      <th>789</th>\n",
       "      <td>_dirty_work_ has a premise of deliciously mean...</td>\n",
       "      <td>0</td>\n",
       "    </tr>\n",
       "    <tr>\n",
       "      <th>413</th>\n",
       "      <td>there's a scene somewhere in this film where o...</td>\n",
       "      <td>0</td>\n",
       "    </tr>\n",
       "  </tbody>\n",
       "</table>\n",
       "</div>"
      ],
      "text/plain": [
       "                                                  Text  Sentiment\n",
       "2    you've got mail works alot better than it dese...          1\n",
       "0    plot : two teen couples go to a church party ,...          0\n",
       "674  look back at all the times in your life when t...          1\n",
       "789  _dirty_work_ has a premise of deliciously mean...          0\n",
       "413  there's a scene somewhere in this film where o...          0"
      ]
     },
     "execution_count": 10,
     "metadata": {},
     "output_type": "execute_result"
    }
   ],
   "source": [
    "test.head()"
   ]
  },
  {
   "cell_type": "markdown",
   "metadata": {},
   "source": [
    "### Sentiment Analysis\n",
    "\n",
    "Method for Sentiment Analysis: VADER "
   ]
  },
  {
   "cell_type": "code",
   "execution_count": 11,
   "metadata": {},
   "outputs": [],
   "source": [
    "#Define VADER Sentiment Analysis\n",
    "sid = SentimentIntensityAnalyzer()\n",
    "#Apply VADER sentiment analysis to get the polarity for each document in corpus\n",
    "train[['neg', 'neu', 'pos', 'compound']] = train['Text'].apply(sid.polarity_scores).apply(pd.Series)\n"
   ]
  },
  {
   "cell_type": "code",
   "execution_count": 12,
   "metadata": {},
   "outputs": [
    {
     "data": {
      "text/html": [
       "<div>\n",
       "<style scoped>\n",
       "    .dataframe tbody tr th:only-of-type {\n",
       "        vertical-align: middle;\n",
       "    }\n",
       "\n",
       "    .dataframe tbody tr th {\n",
       "        vertical-align: top;\n",
       "    }\n",
       "\n",
       "    .dataframe thead th {\n",
       "        text-align: right;\n",
       "    }\n",
       "</style>\n",
       "<table border=\"1\" class=\"dataframe\">\n",
       "  <thead>\n",
       "    <tr style=\"text-align: right;\">\n",
       "      <th></th>\n",
       "      <th>Text</th>\n",
       "      <th>Sentiment</th>\n",
       "      <th>neg</th>\n",
       "      <th>neu</th>\n",
       "      <th>pos</th>\n",
       "      <th>compound</th>\n",
       "    </tr>\n",
       "  </thead>\n",
       "  <tbody>\n",
       "    <tr>\n",
       "      <th>884</th>\n",
       "      <td>for those interested in the true spirit of mov...</td>\n",
       "      <td>0</td>\n",
       "      <td>0.092</td>\n",
       "      <td>0.792</td>\n",
       "      <td>0.116</td>\n",
       "      <td>0.8437</td>\n",
       "    </tr>\n",
       "    <tr>\n",
       "      <th>343</th>\n",
       "      <td>\" it's not good to know too much about someon...</td>\n",
       "      <td>1</td>\n",
       "      <td>0.129</td>\n",
       "      <td>0.729</td>\n",
       "      <td>0.142</td>\n",
       "      <td>0.8942</td>\n",
       "    </tr>\n",
       "    <tr>\n",
       "      <th>310</th>\n",
       "      <td>i'm not sure if silvio horta wrote urban legen...</td>\n",
       "      <td>0</td>\n",
       "      <td>0.153</td>\n",
       "      <td>0.683</td>\n",
       "      <td>0.164</td>\n",
       "      <td>0.8987</td>\n",
       "    </tr>\n",
       "    <tr>\n",
       "      <th>233</th>\n",
       "      <td>at times , you'd think edtv would be an entert...</td>\n",
       "      <td>0</td>\n",
       "      <td>0.166</td>\n",
       "      <td>0.683</td>\n",
       "      <td>0.151</td>\n",
       "      <td>-0.9153</td>\n",
       "    </tr>\n",
       "    <tr>\n",
       "      <th>677</th>\n",
       "      <td>'pleasantville' ( 1998 ) taps into hollywood's...</td>\n",
       "      <td>1</td>\n",
       "      <td>0.102</td>\n",
       "      <td>0.770</td>\n",
       "      <td>0.129</td>\n",
       "      <td>0.9884</td>\n",
       "    </tr>\n",
       "  </tbody>\n",
       "</table>\n",
       "</div>"
      ],
      "text/plain": [
       "                                                  Text  Sentiment    neg  \\\n",
       "884  for those interested in the true spirit of mov...          0  0.092   \n",
       "343   \" it's not good to know too much about someon...          1  0.129   \n",
       "310  i'm not sure if silvio horta wrote urban legen...          0  0.153   \n",
       "233  at times , you'd think edtv would be an entert...          0  0.166   \n",
       "677  'pleasantville' ( 1998 ) taps into hollywood's...          1  0.102   \n",
       "\n",
       "       neu    pos  compound  \n",
       "884  0.792  0.116    0.8437  \n",
       "343  0.729  0.142    0.8942  \n",
       "310  0.683  0.164    0.8987  \n",
       "233  0.683  0.151   -0.9153  \n",
       "677  0.770  0.129    0.9884  "
      ]
     },
     "execution_count": 12,
     "metadata": {},
     "output_type": "execute_result"
    }
   ],
   "source": [
    "train.head()"
   ]
  },
  {
   "cell_type": "markdown",
   "metadata": {},
   "source": [
    "As we can see from above training example, we have polarity scores such as negative (neg), neutral (neu), positive (pos) and compound score. Compound score is the overall ploarity score that ranges between -1 and 1 where -1 representing the most negative score and 1 representing the most positive score."
   ]
  },
  {
   "cell_type": "markdown",
   "metadata": {},
   "source": [
    "We can analyze the results and see if our results match with give polarities from the source. Let's analyze first 10 reviews and their scores with sentiments."
   ]
  },
  {
   "cell_type": "code",
   "execution_count": 13,
   "metadata": {},
   "outputs": [
    {
     "data": {
      "text/html": [
       "<div>\n",
       "<style scoped>\n",
       "    .dataframe tbody tr th:only-of-type {\n",
       "        vertical-align: middle;\n",
       "    }\n",
       "\n",
       "    .dataframe tbody tr th {\n",
       "        vertical-align: top;\n",
       "    }\n",
       "\n",
       "    .dataframe thead th {\n",
       "        text-align: right;\n",
       "    }\n",
       "</style>\n",
       "<table border=\"1\" class=\"dataframe\">\n",
       "  <thead>\n",
       "    <tr style=\"text-align: right;\">\n",
       "      <th></th>\n",
       "      <th>Text</th>\n",
       "      <th>Sentiment</th>\n",
       "      <th>neg</th>\n",
       "      <th>neu</th>\n",
       "      <th>pos</th>\n",
       "      <th>compound</th>\n",
       "    </tr>\n",
       "  </thead>\n",
       "  <tbody>\n",
       "    <tr>\n",
       "      <th>144</th>\n",
       "      <td>the dramatic comedy cousins has all the necess...</td>\n",
       "      <td>1</td>\n",
       "      <td>0.030</td>\n",
       "      <td>0.640</td>\n",
       "      <td>0.330</td>\n",
       "      <td>0.9993</td>\n",
       "    </tr>\n",
       "    <tr>\n",
       "      <th>542</th>\n",
       "      <td>don't let the following quirks of this review ...</td>\n",
       "      <td>1</td>\n",
       "      <td>0.046</td>\n",
       "      <td>0.629</td>\n",
       "      <td>0.326</td>\n",
       "      <td>0.9983</td>\n",
       "    </tr>\n",
       "    <tr>\n",
       "      <th>517</th>\n",
       "      <td>the happy bastard's 30-second review \\nnotting...</td>\n",
       "      <td>1</td>\n",
       "      <td>0.057</td>\n",
       "      <td>0.637</td>\n",
       "      <td>0.306</td>\n",
       "      <td>0.9966</td>\n",
       "    </tr>\n",
       "    <tr>\n",
       "      <th>751</th>\n",
       "      <td>life is beautiful is a rare treat : a lighthea...</td>\n",
       "      <td>1</td>\n",
       "      <td>0.105</td>\n",
       "      <td>0.597</td>\n",
       "      <td>0.298</td>\n",
       "      <td>0.9989</td>\n",
       "    </tr>\n",
       "    <tr>\n",
       "      <th>752</th>\n",
       "      <td>you've probably heard the one about the priest...</td>\n",
       "      <td>1</td>\n",
       "      <td>0.059</td>\n",
       "      <td>0.650</td>\n",
       "      <td>0.291</td>\n",
       "      <td>0.9996</td>\n",
       "    </tr>\n",
       "    <tr>\n",
       "      <th>509</th>\n",
       "      <td>as i write the review for the new hanks/ryan r...</td>\n",
       "      <td>1</td>\n",
       "      <td>0.044</td>\n",
       "      <td>0.668</td>\n",
       "      <td>0.288</td>\n",
       "      <td>0.9999</td>\n",
       "    </tr>\n",
       "    <tr>\n",
       "      <th>780</th>\n",
       "      <td>note : some may consider portions of the follo...</td>\n",
       "      <td>1</td>\n",
       "      <td>0.038</td>\n",
       "      <td>0.675</td>\n",
       "      <td>0.287</td>\n",
       "      <td>0.9999</td>\n",
       "    </tr>\n",
       "    <tr>\n",
       "      <th>587</th>\n",
       "      <td>the happy bastard's quick movie review \\nme ta...</td>\n",
       "      <td>1</td>\n",
       "      <td>0.056</td>\n",
       "      <td>0.672</td>\n",
       "      <td>0.272</td>\n",
       "      <td>0.9990</td>\n",
       "    </tr>\n",
       "    <tr>\n",
       "      <th>728</th>\n",
       "      <td>playwright tom stoppard and screenwriter marc ...</td>\n",
       "      <td>1</td>\n",
       "      <td>0.065</td>\n",
       "      <td>0.662</td>\n",
       "      <td>0.272</td>\n",
       "      <td>0.9998</td>\n",
       "    </tr>\n",
       "    <tr>\n",
       "      <th>355</th>\n",
       "      <td>to paraphrase a song title from an earlier dis...</td>\n",
       "      <td>1</td>\n",
       "      <td>0.035</td>\n",
       "      <td>0.706</td>\n",
       "      <td>0.259</td>\n",
       "      <td>0.9990</td>\n",
       "    </tr>\n",
       "  </tbody>\n",
       "</table>\n",
       "</div>"
      ],
      "text/plain": [
       "                                                  Text  Sentiment    neg  \\\n",
       "144  the dramatic comedy cousins has all the necess...          1  0.030   \n",
       "542  don't let the following quirks of this review ...          1  0.046   \n",
       "517  the happy bastard's 30-second review \\nnotting...          1  0.057   \n",
       "751  life is beautiful is a rare treat : a lighthea...          1  0.105   \n",
       "752  you've probably heard the one about the priest...          1  0.059   \n",
       "509  as i write the review for the new hanks/ryan r...          1  0.044   \n",
       "780  note : some may consider portions of the follo...          1  0.038   \n",
       "587  the happy bastard's quick movie review \\nme ta...          1  0.056   \n",
       "728  playwright tom stoppard and screenwriter marc ...          1  0.065   \n",
       "355  to paraphrase a song title from an earlier dis...          1  0.035   \n",
       "\n",
       "       neu    pos  compound  \n",
       "144  0.640  0.330    0.9993  \n",
       "542  0.629  0.326    0.9983  \n",
       "517  0.637  0.306    0.9966  \n",
       "751  0.597  0.298    0.9989  \n",
       "752  0.650  0.291    0.9996  \n",
       "509  0.668  0.288    0.9999  \n",
       "780  0.675  0.287    0.9999  \n",
       "587  0.672  0.272    0.9990  \n",
       "728  0.662  0.272    0.9998  \n",
       "355  0.706  0.259    0.9990  "
      ]
     },
     "execution_count": 13,
     "metadata": {},
     "output_type": "execute_result"
    }
   ],
   "source": [
    "train.nlargest(10, ['pos'])"
   ]
  },
  {
   "cell_type": "code",
   "execution_count": 14,
   "metadata": {},
   "outputs": [
    {
     "data": {
      "text/html": [
       "<div>\n",
       "<style scoped>\n",
       "    .dataframe tbody tr th:only-of-type {\n",
       "        vertical-align: middle;\n",
       "    }\n",
       "\n",
       "    .dataframe tbody tr th {\n",
       "        vertical-align: top;\n",
       "    }\n",
       "\n",
       "    .dataframe thead th {\n",
       "        text-align: right;\n",
       "    }\n",
       "</style>\n",
       "<table border=\"1\" class=\"dataframe\">\n",
       "  <thead>\n",
       "    <tr style=\"text-align: right;\">\n",
       "      <th></th>\n",
       "      <th>Text</th>\n",
       "      <th>Sentiment</th>\n",
       "      <th>neg</th>\n",
       "      <th>neu</th>\n",
       "      <th>pos</th>\n",
       "      <th>compound</th>\n",
       "    </tr>\n",
       "  </thead>\n",
       "  <tbody>\n",
       "    <tr>\n",
       "      <th>955</th>\n",
       "      <td>words i thought i'd never write : the sequel t...</td>\n",
       "      <td>0</td>\n",
       "      <td>0.254</td>\n",
       "      <td>0.670</td>\n",
       "      <td>0.077</td>\n",
       "      <td>-0.9979</td>\n",
       "    </tr>\n",
       "    <tr>\n",
       "      <th>64</th>\n",
       "      <td>rated : r for strong violence , language , dru...</td>\n",
       "      <td>0</td>\n",
       "      <td>0.243</td>\n",
       "      <td>0.640</td>\n",
       "      <td>0.117</td>\n",
       "      <td>-0.9989</td>\n",
       "    </tr>\n",
       "    <tr>\n",
       "      <th>404</th>\n",
       "      <td>can a horror movie truly be called a horror mo...</td>\n",
       "      <td>0</td>\n",
       "      <td>0.240</td>\n",
       "      <td>0.717</td>\n",
       "      <td>0.044</td>\n",
       "      <td>-0.9987</td>\n",
       "    </tr>\n",
       "    <tr>\n",
       "      <th>651</th>\n",
       "      <td>it might surprise some to know that joel and e...</td>\n",
       "      <td>1</td>\n",
       "      <td>0.238</td>\n",
       "      <td>0.688</td>\n",
       "      <td>0.074</td>\n",
       "      <td>-0.9993</td>\n",
       "    </tr>\n",
       "    <tr>\n",
       "      <th>747</th>\n",
       "      <td>edward zwick's \" the siege \" raises more quest...</td>\n",
       "      <td>1</td>\n",
       "      <td>0.231</td>\n",
       "      <td>0.664</td>\n",
       "      <td>0.104</td>\n",
       "      <td>-0.9958</td>\n",
       "    </tr>\n",
       "    <tr>\n",
       "      <th>943</th>\n",
       "      <td>this movie stinks ! \\nalthough it is professio...</td>\n",
       "      <td>0</td>\n",
       "      <td>0.225</td>\n",
       "      <td>0.728</td>\n",
       "      <td>0.046</td>\n",
       "      <td>-0.9988</td>\n",
       "    </tr>\n",
       "    <tr>\n",
       "      <th>761</th>\n",
       "      <td>weighed down by tired plot lines and spielberg...</td>\n",
       "      <td>0</td>\n",
       "      <td>0.224</td>\n",
       "      <td>0.692</td>\n",
       "      <td>0.084</td>\n",
       "      <td>-0.9996</td>\n",
       "    </tr>\n",
       "    <tr>\n",
       "      <th>281</th>\n",
       "      <td>the great actor james woods once said ( and i'...</td>\n",
       "      <td>0</td>\n",
       "      <td>0.223</td>\n",
       "      <td>0.636</td>\n",
       "      <td>0.141</td>\n",
       "      <td>-0.9990</td>\n",
       "    </tr>\n",
       "    <tr>\n",
       "      <th>248</th>\n",
       "      <td>vampire's is a rude , chauvinistic movie where...</td>\n",
       "      <td>0</td>\n",
       "      <td>0.222</td>\n",
       "      <td>0.714</td>\n",
       "      <td>0.064</td>\n",
       "      <td>-0.9920</td>\n",
       "    </tr>\n",
       "    <tr>\n",
       "      <th>797</th>\n",
       "      <td>i have seen several ( but not that many ) wood...</td>\n",
       "      <td>1</td>\n",
       "      <td>0.219</td>\n",
       "      <td>0.637</td>\n",
       "      <td>0.144</td>\n",
       "      <td>-0.9733</td>\n",
       "    </tr>\n",
       "  </tbody>\n",
       "</table>\n",
       "</div>"
      ],
      "text/plain": [
       "                                                  Text  Sentiment    neg  \\\n",
       "955  words i thought i'd never write : the sequel t...          0  0.254   \n",
       "64   rated : r for strong violence , language , dru...          0  0.243   \n",
       "404  can a horror movie truly be called a horror mo...          0  0.240   \n",
       "651  it might surprise some to know that joel and e...          1  0.238   \n",
       "747  edward zwick's \" the siege \" raises more quest...          1  0.231   \n",
       "943  this movie stinks ! \\nalthough it is professio...          0  0.225   \n",
       "761  weighed down by tired plot lines and spielberg...          0  0.224   \n",
       "281  the great actor james woods once said ( and i'...          0  0.223   \n",
       "248  vampire's is a rude , chauvinistic movie where...          0  0.222   \n",
       "797  i have seen several ( but not that many ) wood...          1  0.219   \n",
       "\n",
       "       neu    pos  compound  \n",
       "955  0.670  0.077   -0.9979  \n",
       "64   0.640  0.117   -0.9989  \n",
       "404  0.717  0.044   -0.9987  \n",
       "651  0.688  0.074   -0.9993  \n",
       "747  0.664  0.104   -0.9958  \n",
       "943  0.728  0.046   -0.9988  \n",
       "761  0.692  0.084   -0.9996  \n",
       "281  0.636  0.141   -0.9990  \n",
       "248  0.714  0.064   -0.9920  \n",
       "797  0.637  0.144   -0.9733  "
      ]
     },
     "execution_count": 14,
     "metadata": {},
     "output_type": "execute_result"
    }
   ],
   "source": [
    "train.nlargest(10, ['neg'])"
   ]
  },
  {
   "cell_type": "markdown",
   "metadata": {},
   "source": [
    "If we compare the sentiments and scores respectively for most positive and negative scores, we can observe that results for positive sentiments are accurately matching but we have some mismatches for most negative score results."
   ]
  },
  {
   "cell_type": "code",
   "execution_count": 15,
   "metadata": {},
   "outputs": [
    {
     "name": "stderr",
     "output_type": "stream",
     "text": [
      "C:\\Users\\deniz\\anaconda3\\lib\\site-packages\\seaborn\\distributions.py:2551: FutureWarning: `distplot` is a deprecated function and will be removed in a future version. Please adapt your code to use either `displot` (a figure-level function with similar flexibility) or `histplot` (an axes-level function for histograms).\n",
      "  warnings.warn(msg, FutureWarning)\n"
     ]
    },
    {
     "data": {
      "image/png": "[encoded data removed]",
      "text/plain": [
       "<Figure size 864x288 with 1 Axes>"
      ]
     },
     "metadata": {},
     "output_type": "display_data"
    },
    {
     "data": {
      "image/png": "[encoded data removed]",
      "text/plain": [
       "<Figure size 864x288 with 1 Axes>"
      ]
     },
     "metadata": {},
     "output_type": "display_data"
    },
    {
     "data": {
      "image/png": "[encoded data removed]",
      "text/plain": [
       "<Figure size 864x288 with 1 Axes>"
      ]
     },
     "metadata": {},
     "output_type": "display_data"
    },
    {
     "data": {
      "image/png": "[encoded data removed]",
      "text/plain": [
       "<Figure size 864x288 with 1 Axes>"
      ]
     },
     "metadata": {},
     "output_type": "display_data"
    }
   ],
   "source": [
    "for var in ['pos','neg','neu','compound']:\n",
    "    \n",
    "    plt.figure(figsize=(12,4))\n",
    "    sns.distplot(train.query(\"Sentiment==1\")[var],bins=30,kde=False,color='green',label='Positive')\n",
    "    sns.distplot(train.query(\"Sentiment==0\")[var],bins=30,kde=False,color='red',label='Negative')\n",
    "    plt.legend()\n",
    "    plt.title(f'Histogram of {var} by true sentiment')\n",
    "    "
   ]
  },
  {
   "cell_type": "markdown",
   "metadata": {},
   "source": [
    "#### Comments:\n",
    "   As we can see from above Figures, we can conclude to several results. When we have true positive sentiment ( negative), we have better positive (negative) score that we got from VADER sentiment anaysis. If we look at the distribution for neutral score, we can observe that the overall probability distribution looks uniform for both negative and positive sentiments around 0.75 probability. Lastly, when we look at the compound score probability distribution, we can observe that true negative  sentiments are more than true positive sentiments when we have compound score close to -1 and we have more true positive sentiments than true negative sentiments when we have a compound score close to 1 which was expected. However, these graphs shows us, indeed, we have some errors for finding the true sentiments for documents in our corpus."
   ]
  },
  {
   "cell_type": "markdown",
   "metadata": {},
   "source": [
    "### Modelling and Assesing the Results"
   ]
  },
  {
   "cell_type": "markdown",
   "metadata": {},
   "source": [
    "Selected models for training the data are\n",
    "- Logistic Regression with 1000 iterations\n",
    "- Stochastic Gradient Descent Classifier\n",
    "- Naive Bayes Classifier\n",
    "\n",
    "To test the results, cross-validation will be applied on the training set and its labels. the default size is 5. We will calciulate the mean score for each metric."
   ]
  },
  {
   "cell_type": "code",
   "execution_count": 16,
   "metadata": {},
   "outputs": [],
   "source": [
    "# Define functions\n",
    "def create_baseline_models():\n",
    "    \"\"\"Create list of baseline models.\"\"\"\n",
    "    models = []\n",
    "    models.append(('log', LogisticRegression(random_state=seed, \n",
    "                                             max_iter=1000)))\n",
    "    models.append(('sgd', SGDClassifier(random_state=seed)))\n",
    "    models.append(('mnb', MultinomialNB()))\n",
    "    return models\n",
    "\n",
    "#Assesing the performance of the models\n",
    "def assess(X, y, models, cv=5, scoring=['roc_auc', \n",
    "                                        'accuracy', \n",
    "                                        'f1']):\n",
    "    \"\"\"Provide summary of cross validation results for models.\"\"\"\n",
    "    results = pd.DataFrame()\n",
    "    for name, model in models:\n",
    "        result = pd.DataFrame(cross_validate(model, X, y, cv=cv, \n",
    "                                             scoring=scoring))\n",
    "        mean = result.mean().rename('{}_mean'.format)\n",
    "        std = result.std().rename('{}_std'.format)\n",
    "        results[name] = pd.concat([mean, std], axis=0)\n",
    "    return results.sort_index()"
   ]
  },
  {
   "cell_type": "code",
   "execution_count": 17,
   "metadata": {},
   "outputs": [],
   "source": [
    "#Initialize the models\n",
    "models = create_baseline_models()"
   ]
  },
  {
   "cell_type": "code",
   "execution_count": 18,
   "metadata": {},
   "outputs": [
    {
     "data": {
      "text/html": [
       "<div>\n",
       "<style scoped>\n",
       "    .dataframe tbody tr th:only-of-type {\n",
       "        vertical-align: middle;\n",
       "    }\n",
       "\n",
       "    .dataframe tbody tr th {\n",
       "        vertical-align: top;\n",
       "    }\n",
       "\n",
       "    .dataframe thead th {\n",
       "        text-align: right;\n",
       "    }\n",
       "</style>\n",
       "<table border=\"1\" class=\"dataframe\">\n",
       "  <thead>\n",
       "    <tr style=\"text-align: right;\">\n",
       "      <th></th>\n",
       "      <th>log</th>\n",
       "      <th>sgd</th>\n",
       "      <th>mnb</th>\n",
       "    </tr>\n",
       "  </thead>\n",
       "  <tbody>\n",
       "    <tr>\n",
       "      <th>fit_time_mean</th>\n",
       "      <td>0.056422</td>\n",
       "      <td>0.023499</td>\n",
       "      <td>0.005595</td>\n",
       "    </tr>\n",
       "    <tr>\n",
       "      <th>fit_time_std</th>\n",
       "      <td>0.005038</td>\n",
       "      <td>0.001999</td>\n",
       "      <td>0.000555</td>\n",
       "    </tr>\n",
       "    <tr>\n",
       "      <th>score_time_mean</th>\n",
       "      <td>0.004395</td>\n",
       "      <td>0.003999</td>\n",
       "      <td>0.005007</td>\n",
       "    </tr>\n",
       "    <tr>\n",
       "      <th>score_time_std</th>\n",
       "      <td>0.001518</td>\n",
       "      <td>0.001226</td>\n",
       "      <td>0.001215</td>\n",
       "    </tr>\n",
       "    <tr>\n",
       "      <th>test_accuracy_mean</th>\n",
       "      <td>0.838857</td>\n",
       "      <td>0.832000</td>\n",
       "      <td>0.797714</td>\n",
       "    </tr>\n",
       "    <tr>\n",
       "      <th>test_accuracy_std</th>\n",
       "      <td>0.023352</td>\n",
       "      <td>0.013613</td>\n",
       "      <td>0.030997</td>\n",
       "    </tr>\n",
       "    <tr>\n",
       "      <th>test_f1_mean</th>\n",
       "      <td>0.839019</td>\n",
       "      <td>0.834008</td>\n",
       "      <td>0.790221</td>\n",
       "    </tr>\n",
       "    <tr>\n",
       "      <th>test_f1_std</th>\n",
       "      <td>0.025823</td>\n",
       "      <td>0.016242</td>\n",
       "      <td>0.035451</td>\n",
       "    </tr>\n",
       "    <tr>\n",
       "      <th>test_roc_auc_mean</th>\n",
       "      <td>0.917460</td>\n",
       "      <td>0.906547</td>\n",
       "      <td>0.890965</td>\n",
       "    </tr>\n",
       "    <tr>\n",
       "      <th>test_roc_auc_std</th>\n",
       "      <td>0.011466</td>\n",
       "      <td>0.008695</td>\n",
       "      <td>0.014722</td>\n",
       "    </tr>\n",
       "  </tbody>\n",
       "</table>\n",
       "</div>"
      ],
      "text/plain": [
       "                         log       sgd       mnb\n",
       "fit_time_mean       0.056422  0.023499  0.005595\n",
       "fit_time_std        0.005038  0.001999  0.000555\n",
       "score_time_mean     0.004395  0.003999  0.005007\n",
       "score_time_std      0.001518  0.001226  0.001215\n",
       "test_accuracy_mean  0.838857  0.832000  0.797714\n",
       "test_accuracy_std   0.023352  0.013613  0.030997\n",
       "test_f1_mean        0.839019  0.834008  0.790221\n",
       "test_f1_std         0.025823  0.016242  0.035451\n",
       "test_roc_auc_mean   0.917460  0.906547  0.890965\n",
       "test_roc_auc_std    0.011466  0.008695  0.014722"
      ]
     },
     "execution_count": 18,
     "metadata": {},
     "output_type": "execute_result"
    }
   ],
   "source": [
    "#Function for preprocessing the text with tokenizing, lowercasing and lemmatizing\n",
    "\n",
    "def preprocess_text(text):\n",
    "    # 1. Tokenise to alphabetic tokens\n",
    "    tokeniser = RegexpTokenizer(r'[A-Za-z]+')\n",
    "    tokens = tokeniser.tokenize(text)\n",
    "    \n",
    "    # 2. Lowercase and lemmatise \n",
    "    lemmatiser = WordNetLemmatizer()\n",
    "    tokens = [lemmatiser.lemmatize(t.lower(), pos='v') \n",
    "              for t in tokens]\n",
    "    return tokens\n",
    "\n",
    "# Preprocess the data\n",
    "vectoriser = TfidfVectorizer(analyzer=preprocess_text, \n",
    "                             min_df=30, \n",
    "                             max_df=.7)\n",
    "X_train_simple = vectoriser.fit_transform(X_train)\n",
    "# Assess models\n",
    "assess(X_train_simple, y_train, models)"
   ]
  },
  {
   "cell_type": "markdown",
   "metadata": {},
   "source": [
    "If we look at the results, we can see that logistic regression outperforms and gradient descent classifier outperforms the naive bayes classifier. Log. regression accuracy is a bit better than gradient descent classifier's accuracy. However, the fit time of sgd is almost half of the log. regression which is slight trade-off for log. regression classifier.<br>\n",
    "We will use SGD classifier as our best model classifier as it has model_loss parameter which allows us to choose between hinge loss and log loss. When we use hinge loss, we are basically using SVM classifier and when we use log loss, we are basically using the logistic regression. We will tune the parameters in next section so that we will find out which loss function is better than the other one."
   ]
  },
  {
   "cell_type": "markdown",
   "metadata": {},
   "source": [
    "We will create pipeline in order to tune hyperparameters of our model which comes from tfidfVectorizer and SGD classifier."
   ]
  },
  {
   "cell_type": "code",
   "execution_count": 19,
   "metadata": {},
   "outputs": [],
   "source": [
    "# Create a pipeline\n",
    "pipe = Pipeline([('vectoriser', TfidfVectorizer(token_pattern=r'[a-z]+')),\n",
    "                 ('model', SGDClassifier(random_state=seed))])\n",
    "# Prepare a random search\n",
    "param_distributions = {'vectoriser__min_df': np.arange(10, 1000, 10),\n",
    "                       'vectoriser__max_df': np.linspace(.2, 1, 40),\n",
    "                       'model__loss': ['log', 'hinge']}\n",
    "\n",
    "r_search = RandomizedSearchCV(estimator=pipe, param_distributions=param_distributions, \n",
    "                              n_iter=30, cv=5, n_jobs=-1, random_state=seed)\n",
    "r_search.fit(X_train, y_train)\n",
    "# Save results to a dataframe\n",
    "r_search_results = pd.DataFrame(r_search.cv_results_).sort_values(by='rank_test_score')"
   ]
  },
  {
   "cell_type": "code",
   "execution_count": 20,
   "metadata": {},
   "outputs": [],
   "source": [
    "r_search_results=r_search_results.reset_index(drop=True)"
   ]
  },
  {
   "cell_type": "code",
   "execution_count": 21,
   "metadata": {},
   "outputs": [
    {
     "name": "stdout",
     "output_type": "stream",
     "text": [
      "{'vectoriser__min_df': 10, 'vectoriser__max_df': 0.8358974358974358, 'model__loss': 'log'}\n",
      "{'vectoriser__min_df': 60, 'vectoriser__max_df': 0.5487179487179488, 'model__loss': 'log'}\n",
      "{'vectoriser__min_df': 130, 'vectoriser__max_df': 0.9384615384615385, 'model__loss': 'log'}\n",
      "{'vectoriser__min_df': 140, 'vectoriser__max_df': 0.5076923076923077, 'model__loss': 'log'}\n",
      "{'vectoriser__min_df': 90, 'vectoriser__max_df': 0.7333333333333334, 'model__loss': 'hinge'}\n",
      "{'vectoriser__min_df': 230, 'vectoriser__max_df': 0.5487179487179488, 'model__loss': 'log'}\n",
      "{'vectoriser__min_df': 220, 'vectoriser__max_df': 0.6307692307692307, 'model__loss': 'hinge'}\n",
      "{'vectoriser__min_df': 180, 'vectoriser__max_df': 0.7743589743589743, 'model__loss': 'hinge'}\n",
      "{'vectoriser__min_df': 380, 'vectoriser__max_df': 0.7538461538461538, 'model__loss': 'log'}\n",
      "{'vectoriser__min_df': 350, 'vectoriser__max_df': 0.7538461538461538, 'model__loss': 'log'}\n"
     ]
    }
   ],
   "source": [
    "for i in range((10)):\n",
    "    print(r_search_results.loc[i,'params'])"
   ]
  },
  {
   "cell_type": "code",
   "execution_count": 22,
   "metadata": {},
   "outputs": [
    {
     "data": {
      "text/html": [
       "<div>\n",
       "<style scoped>\n",
       "    .dataframe tbody tr th:only-of-type {\n",
       "        vertical-align: middle;\n",
       "    }\n",
       "\n",
       "    .dataframe tbody tr th {\n",
       "        vertical-align: top;\n",
       "    }\n",
       "\n",
       "    .dataframe thead th {\n",
       "        text-align: right;\n",
       "    }\n",
       "</style>\n",
       "<table border=\"1\" class=\"dataframe\">\n",
       "  <thead>\n",
       "    <tr style=\"text-align: right;\">\n",
       "      <th></th>\n",
       "      <th>mean_fit_time</th>\n",
       "      <th>std_fit_time</th>\n",
       "      <th>mean_score_time</th>\n",
       "      <th>std_score_time</th>\n",
       "      <th>param_vectoriser__min_df</th>\n",
       "      <th>param_vectoriser__max_df</th>\n",
       "      <th>param_model__loss</th>\n",
       "      <th>params</th>\n",
       "      <th>split0_test_score</th>\n",
       "      <th>split1_test_score</th>\n",
       "      <th>split2_test_score</th>\n",
       "      <th>split3_test_score</th>\n",
       "      <th>split4_test_score</th>\n",
       "      <th>mean_test_score</th>\n",
       "      <th>std_test_score</th>\n",
       "      <th>rank_test_score</th>\n",
       "    </tr>\n",
       "  </thead>\n",
       "  <tbody>\n",
       "    <tr>\n",
       "      <th>0</th>\n",
       "      <td>5.002445</td>\n",
       "      <td>1.412767</td>\n",
       "      <td>1.354075</td>\n",
       "      <td>0.220280</td>\n",
       "      <td>10</td>\n",
       "      <td>0.835897</td>\n",
       "      <td>log</td>\n",
       "      <td>{'vectoriser__min_df': 10, 'vectoriser__max_df...</td>\n",
       "      <td>0.868571</td>\n",
       "      <td>0.820000</td>\n",
       "      <td>0.834286</td>\n",
       "      <td>0.851429</td>\n",
       "      <td>0.880000</td>\n",
       "      <td>0.850857</td>\n",
       "      <td>0.021864</td>\n",
       "      <td>1</td>\n",
       "    </tr>\n",
       "    <tr>\n",
       "      <th>1</th>\n",
       "      <td>3.303917</td>\n",
       "      <td>0.513205</td>\n",
       "      <td>0.981507</td>\n",
       "      <td>0.290131</td>\n",
       "      <td>60</td>\n",
       "      <td>0.548718</td>\n",
       "      <td>log</td>\n",
       "      <td>{'vectoriser__min_df': 60, 'vectoriser__max_df...</td>\n",
       "      <td>0.862857</td>\n",
       "      <td>0.814286</td>\n",
       "      <td>0.800000</td>\n",
       "      <td>0.811429</td>\n",
       "      <td>0.825714</td>\n",
       "      <td>0.822857</td>\n",
       "      <td>0.021609</td>\n",
       "      <td>2</td>\n",
       "    </tr>\n",
       "    <tr>\n",
       "      <th>2</th>\n",
       "      <td>4.613035</td>\n",
       "      <td>1.597413</td>\n",
       "      <td>0.828258</td>\n",
       "      <td>0.119251</td>\n",
       "      <td>130</td>\n",
       "      <td>0.938462</td>\n",
       "      <td>log</td>\n",
       "      <td>{'vectoriser__min_df': 130, 'vectoriser__max_d...</td>\n",
       "      <td>0.802857</td>\n",
       "      <td>0.785714</td>\n",
       "      <td>0.768571</td>\n",
       "      <td>0.768571</td>\n",
       "      <td>0.797143</td>\n",
       "      <td>0.784571</td>\n",
       "      <td>0.014182</td>\n",
       "      <td>3</td>\n",
       "    </tr>\n",
       "    <tr>\n",
       "      <th>3</th>\n",
       "      <td>5.906091</td>\n",
       "      <td>1.548228</td>\n",
       "      <td>1.152995</td>\n",
       "      <td>0.610932</td>\n",
       "      <td>140</td>\n",
       "      <td>0.507692</td>\n",
       "      <td>log</td>\n",
       "      <td>{'vectoriser__min_df': 140, 'vectoriser__max_d...</td>\n",
       "      <td>0.774286</td>\n",
       "      <td>0.777143</td>\n",
       "      <td>0.777143</td>\n",
       "      <td>0.788571</td>\n",
       "      <td>0.774286</td>\n",
       "      <td>0.778286</td>\n",
       "      <td>0.005299</td>\n",
       "      <td>4</td>\n",
       "    </tr>\n",
       "    <tr>\n",
       "      <th>4</th>\n",
       "      <td>5.722708</td>\n",
       "      <td>0.860131</td>\n",
       "      <td>1.084719</td>\n",
       "      <td>0.429016</td>\n",
       "      <td>90</td>\n",
       "      <td>0.733333</td>\n",
       "      <td>hinge</td>\n",
       "      <td>{'vectoriser__min_df': 90, 'vectoriser__max_df...</td>\n",
       "      <td>0.785714</td>\n",
       "      <td>0.765714</td>\n",
       "      <td>0.782857</td>\n",
       "      <td>0.765714</td>\n",
       "      <td>0.785714</td>\n",
       "      <td>0.777143</td>\n",
       "      <td>0.009390</td>\n",
       "      <td>5</td>\n",
       "    </tr>\n",
       "  </tbody>\n",
       "</table>\n",
       "</div>"
      ],
      "text/plain": [
       "   mean_fit_time  std_fit_time  mean_score_time  std_score_time  \\\n",
       "0       5.002445      1.412767         1.354075        0.220280   \n",
       "1       3.303917      0.513205         0.981507        0.290131   \n",
       "2       4.613035      1.597413         0.828258        0.119251   \n",
       "3       5.906091      1.548228         1.152995        0.610932   \n",
       "4       5.722708      0.860131         1.084719        0.429016   \n",
       "\n",
       "  param_vectoriser__min_df param_vectoriser__max_df param_model__loss  \\\n",
       "0                       10                 0.835897               log   \n",
       "1                       60                 0.548718               log   \n",
       "2                      130                 0.938462               log   \n",
       "3                      140                 0.507692               log   \n",
       "4                       90                 0.733333             hinge   \n",
       "\n",
       "                                              params  split0_test_score  \\\n",
       "0  {'vectoriser__min_df': 10, 'vectoriser__max_df...           0.868571   \n",
       "1  {'vectoriser__min_df': 60, 'vectoriser__max_df...           0.862857   \n",
       "2  {'vectoriser__min_df': 130, 'vectoriser__max_d...           0.802857   \n",
       "3  {'vectoriser__min_df': 140, 'vectoriser__max_d...           0.774286   \n",
       "4  {'vectoriser__min_df': 90, 'vectoriser__max_df...           0.785714   \n",
       "\n",
       "   split1_test_score  split2_test_score  split3_test_score  split4_test_score  \\\n",
       "0           0.820000           0.834286           0.851429           0.880000   \n",
       "1           0.814286           0.800000           0.811429           0.825714   \n",
       "2           0.785714           0.768571           0.768571           0.797143   \n",
       "3           0.777143           0.777143           0.788571           0.774286   \n",
       "4           0.765714           0.782857           0.765714           0.785714   \n",
       "\n",
       "   mean_test_score  std_test_score  rank_test_score  \n",
       "0         0.850857        0.021864                1  \n",
       "1         0.822857        0.021609                2  \n",
       "2         0.784571        0.014182                3  \n",
       "3         0.778286        0.005299                4  \n",
       "4         0.777143        0.009390                5  "
      ]
     },
     "execution_count": 22,
     "metadata": {},
     "output_type": "execute_result"
    }
   ],
   "source": [
    "r_search_results.head()"
   ]
  },
  {
   "cell_type": "markdown",
   "metadata": {},
   "source": [
    "For our best model, we have selected SGD classifier with log loss which is simply equal to logistic regression and we have selected vectoriser with min_df=10 and max_df=.85 where min_df represents the removel of tokens that appear less than 10 documents and max_df represents the removal of tokens that appear more than 85% of the documents."
   ]
  },
  {
   "cell_type": "code",
   "execution_count": 23,
   "metadata": {},
   "outputs": [
    {
     "data": {
      "text/plain": [
       "Pipeline(steps=[('vectoriser',\n",
       "                 TfidfVectorizer(max_df=0.85, min_df=10,\n",
       "                                 token_pattern='[a-z]+')),\n",
       "                ('model', SGDClassifier(loss='log', random_state=3))])"
      ]
     },
     "execution_count": 23,
     "metadata": {},
     "output_type": "execute_result"
    }
   ],
   "source": [
    "pipe = Pipeline([('vectoriser', TfidfVectorizer(token_pattern=r'[a-z]+', min_df=10, max_df=.85)),\n",
    "                 ('model', SGDClassifier(random_state=seed, loss='log'))])\n",
    "pipe.fit(X_train, y_train)"
   ]
  },
  {
   "cell_type": "code",
   "execution_count": 24,
   "metadata": {},
   "outputs": [],
   "source": [
    "target=['negative', 'positive']"
   ]
  },
  {
   "cell_type": "markdown",
   "metadata": {},
   "source": [
    "#### Interpret and Assess the Results:"
   ]
  },
  {
   "cell_type": "code",
   "execution_count": 25,
   "metadata": {},
   "outputs": [
    {
     "name": "stdout",
     "output_type": "stream",
     "text": [
      "              precision    recall  f1-score   support\n",
      "\n",
      "    negative       1.00      1.00      1.00       871\n",
      "    positive       1.00      1.00      1.00       879\n",
      "\n",
      "    accuracy                           1.00      1750\n",
      "   macro avg       1.00      1.00      1.00      1750\n",
      "weighted avg       1.00      1.00      1.00      1750\n",
      "\n"
     ]
    }
   ],
   "source": [
    "train_pred = pipe.predict(X_train)\n",
    "print(classification_report(train_pred, \n",
    "                            y_train, \n",
    "                            target_names=target))"
   ]
  },
  {
   "cell_type": "code",
   "execution_count": 26,
   "metadata": {},
   "outputs": [
    {
     "name": "stdout",
     "output_type": "stream",
     "text": [
      "              precision    recall  f1-score   support\n",
      "\n",
      "    negative       0.85      0.92      0.88       115\n",
      "    positive       0.93      0.86      0.89       135\n",
      "\n",
      "    accuracy                           0.89       250\n",
      "   macro avg       0.89      0.89      0.89       250\n",
      "weighted avg       0.89      0.89      0.89       250\n",
      "\n"
     ]
    }
   ],
   "source": [
    "test_pred = pipe.predict(X_test)\n",
    "print(classification_report(test_pred, \n",
    "                            y_test, \n",
    "                            target_names=target))"
   ]
  },
  {
   "cell_type": "markdown",
   "metadata": {},
   "source": [
    "When we analyze the results above, we can see that there is slightly overfitting of the model as we can see the difference of accuracy between test and training sets. However, we get quite good results. We are able to predict with 89% accuracy in out of sample dataset which is quite good."
   ]
  },
  {
   "cell_type": "markdown",
   "metadata": {},
   "source": [
    "## Topic Modelling"
   ]
  },
  {
   "cell_type": "markdown",
   "metadata": {},
   "source": [
    "Now, we will implement topic modelling for given 2000 documents to see topic distribution to see and understand the structure of the documents better. To do that, we will implement  Latent Dirichlet Allocation (LDA) model."
   ]
  },
  {
   "cell_type": "code",
   "execution_count": 27,
   "metadata": {},
   "outputs": [
    {
     "data": {
      "text/html": [
       "<div>\n",
       "<style scoped>\n",
       "    .dataframe tbody tr th:only-of-type {\n",
       "        vertical-align: middle;\n",
       "    }\n",
       "\n",
       "    .dataframe tbody tr th {\n",
       "        vertical-align: top;\n",
       "    }\n",
       "\n",
       "    .dataframe thead th {\n",
       "        text-align: right;\n",
       "    }\n",
       "</style>\n",
       "<table border=\"1\" class=\"dataframe\">\n",
       "  <thead>\n",
       "    <tr style=\"text-align: right;\">\n",
       "      <th></th>\n",
       "      <th>Text</th>\n",
       "      <th>Sentiment</th>\n",
       "    </tr>\n",
       "  </thead>\n",
       "  <tbody>\n",
       "    <tr>\n",
       "      <th>0</th>\n",
       "      <td>films adapted from comic books have had plenty...</td>\n",
       "      <td>1</td>\n",
       "    </tr>\n",
       "    <tr>\n",
       "      <th>1</th>\n",
       "      <td>every now and then a movie comes along from a ...</td>\n",
       "      <td>1</td>\n",
       "    </tr>\n",
       "    <tr>\n",
       "      <th>2</th>\n",
       "      <td>you've got mail works alot better than it dese...</td>\n",
       "      <td>1</td>\n",
       "    </tr>\n",
       "    <tr>\n",
       "      <th>3</th>\n",
       "      <td>\" jaws \" is a rare film that grabs your atten...</td>\n",
       "      <td>1</td>\n",
       "    </tr>\n",
       "    <tr>\n",
       "      <th>4</th>\n",
       "      <td>moviemaking is a lot like being the general ma...</td>\n",
       "      <td>1</td>\n",
       "    </tr>\n",
       "  </tbody>\n",
       "</table>\n",
       "</div>"
      ],
      "text/plain": [
       "                                                Text  Sentiment\n",
       "0  films adapted from comic books have had plenty...          1\n",
       "1  every now and then a movie comes along from a ...          1\n",
       "2  you've got mail works alot better than it dese...          1\n",
       "3   \" jaws \" is a rare film that grabs your atten...          1\n",
       "4  moviemaking is a lot like being the general ma...          1"
      ]
     },
     "execution_count": 27,
     "metadata": {},
     "output_type": "execute_result"
    }
   ],
   "source": [
    "#We will use text from df_all[\"Text\"]\n",
    "df_all.head()"
   ]
  },
  {
   "cell_type": "code",
   "execution_count": 28,
   "metadata": {},
   "outputs": [
    {
     "data": {
      "text/plain": [
       "0    films adapted from comic books have had plenty...\n",
       "1    every now and then a movie comes along from a ...\n",
       "2    youve got mail works alot better than it deser...\n",
       "3      jaws  is a rare film that grabs your attenti...\n",
       "4    moviemaking is a lot like being the general ma...\n",
       "Name: Text_processed, dtype: object"
      ]
     },
     "execution_count": 28,
     "metadata": {},
     "output_type": "execute_result"
    }
   ],
   "source": [
    "#Data Cleaning\n",
    "\n",
    "# Remove punctuation\n",
    "df_all['Text_processed'] = \\\n",
    "df_all['Text'].map(lambda x: re.sub('[,\\.!?]', '', x))\n",
    "# Convert the titles to lowercase\n",
    "df_all['Text_processed'] = \\\n",
    "df_all['Text'].map(lambda x: x.lower())\n",
    "df_all['Text_processed'] = \\\n",
    "df_all['Text'].map(lambda x:  \"\".join([char for char in x if char not in string.punctuation]))\n",
    "# Print out the first rows of papers\n",
    "df_all['Text_processed'].head()"
   ]
  },
  {
   "cell_type": "code",
   "execution_count": 29,
   "metadata": {},
   "outputs": [
    {
     "data": {
      "image/png": "[encoded data removed]",
      "text/plain": [
       "<PIL.Image.Image image mode=RGB size=400x200 at 0x25F24AA16A0>"
      ]
     },
     "execution_count": 29,
     "metadata": {},
     "output_type": "execute_result"
    }
   ],
   "source": [
    "# Join the different processed titles together.\n",
    "long_string = ','.join(list(df_all['Text_processed'].values))\n",
    "# Create a WordCloud object\n",
    "wordcloud = WordCloud(background_color=\"black\", max_words=5000, contour_width=4, contour_color='steelblue')\n",
    "# Generate a word cloud\n",
    "wordcloud.generate(long_string)\n",
    "# Visualize the word cloud\n",
    "wordcloud.to_image()"
   ]
  },
  {
   "cell_type": "markdown",
   "metadata": {},
   "source": [
    "When we analyze the word cloud, we face with an expected result. What I mean is that the most common words are movie, character, scene, story, etc. which are all related to cinema industry and as we have movie review documents, we expect topics that are related to this industry."
   ]
  },
  {
   "cell_type": "code",
   "execution_count": 30,
   "metadata": {},
   "outputs": [
    {
     "name": "stderr",
     "output_type": "stream",
     "text": [
      "[nltk_data] Downloading package stopwords to\n",
      "[nltk_data]     C:\\Users\\deniz\\AppData\\Roaming\\nltk_data...\n",
      "[nltk_data]   Package stopwords is already up-to-date!\n"
     ]
    },
    {
     "name": "stdout",
     "output_type": "stream",
     "text": [
      "['films', 'adapted', 'comic', 'books', 'plenty', 'success', 'whether', 'theyre', 'superheroes', 'batman', 'superman', 'spawn', 'geared', 'toward', 'kids', 'casper', 'arthouse', 'crowd', 'ghost', 'world', 'theres', 'never', 'really', 'comic', 'book', 'like', 'hell', 'starters', 'created', 'alan']\n"
     ]
    }
   ],
   "source": [
    "#Preprocess for LDA  Model\n",
    "nltk.download('stopwords')\n",
    "from nltk.corpus import stopwords\n",
    "stop_words = stopwords.words('english')\n",
    "stop_words.extend(['from', 'subject', 're', 'edu', 'use','br','one','also','much','two','would','could','dont','doesnt'])\n",
    "\n",
    "def sent_to_words(sentences):\n",
    "    for sentence in sentences:\n",
    "        # deacc=True removes punctuations\n",
    "        yield(gensim.utils.simple_preprocess(str(sentence), deacc=True))\n",
    "\n",
    "def remove_stopwords(texts):\n",
    "    return [[word for word in simple_preprocess(str(doc)) \n",
    "             if word not in stop_words] for doc in texts]\n",
    "\n",
    "\n",
    "data = df_all['Text_processed'].values.tolist()\n",
    "data_words = list(sent_to_words(data))\n",
    "# remove stop words\n",
    "data_words = remove_stopwords(data_words)\n",
    "print(data_words[:1][0][:30])"
   ]
  },
  {
   "cell_type": "markdown",
   "metadata": {},
   "source": [
    "At this preprocessing stage for LDA model, we remove stopwords such as 'the,a,and,... etc.' from the tokenzied word list. To token or to split each doucment into words, we use the given functions above. Also, while seperating the documents into words, we salso get rid of punctuations as they don't show any importance for LDA topic modelling model. First 30 words of first document can be observed above result."
   ]
  },
  {
   "cell_type": "markdown",
   "metadata": {},
   "source": [
    "Now, we want to find the frequency of each word in the corpus we have that includes 2000 documents. To do that we need to firstly create dictipnary from our word list. Then, we apply 'doc2bow' function in order to find out term frequency in every doucments."
   ]
  },
  {
   "cell_type": "code",
   "execution_count": 31,
   "metadata": {},
   "outputs": [
    {
     "name": "stdout",
     "output_type": "stream",
     "text": [
      "[(0, 2), (1, 1), (2, 1), (3, 2), (4, 1), (5, 1), (6, 1), (7, 1), (8, 1), (9, 1), (10, 1), (11, 1), (12, 1), (13, 1), (14, 1), (15, 1), (16, 1), (17, 1), (18, 1), (19, 1), (20, 1), (21, 1), (22, 1), (23, 1), (24, 1), (25, 1), (26, 1), (27, 1), (28, 1), (29, 1)]\n"
     ]
    }
   ],
   "source": [
    "import gensim.corpora as corpora\n",
    "# Create Dictionary\n",
    "id2word = corpora.Dictionary(data_words)\n",
    "# Create Corpus\n",
    "texts = data_words\n",
    "# Term Document Frequency\n",
    "corpus = [id2word.doc2bow(text) for text in texts]\n",
    "# View\n",
    "print(corpus[:1][0][:30])"
   ]
  },
  {
   "cell_type": "markdown",
   "metadata": {},
   "source": [
    "**Train LDA model and find out the most important keywords in each topic created.**"
   ]
  },
  {
   "cell_type": "code",
   "execution_count": 32,
   "metadata": {
    "scrolled": true
   },
   "outputs": [
    {
     "name": "stdout",
     "output_type": "stream",
     "text": [
      "[(0,\n",
      "  '0.011*\"film\" + 0.010*\"movie\" + 0.005*\"like\" + 0.003*\"good\" + 0.003*\"even\" + '\n",
      "  '0.003*\"get\" + 0.003*\"time\" + 0.003*\"story\" + 0.003*\"characters\" + '\n",
      "  '0.002*\"scene\"'),\n",
      " (1,\n",
      "  '0.013*\"film\" + 0.007*\"movie\" + 0.005*\"like\" + 0.003*\"good\" + 0.003*\"even\" + '\n",
      "  '0.003*\"first\" + 0.003*\"time\" + 0.003*\"films\" + 0.003*\"story\" + '\n",
      "  '0.002*\"characters\"'),\n",
      " (2,\n",
      "  '0.011*\"film\" + 0.006*\"like\" + 0.006*\"movie\" + 0.004*\"even\" + 0.003*\"films\" '\n",
      "  '+ 0.003*\"time\" + 0.003*\"good\" + 0.003*\"characters\" + 0.003*\"story\" + '\n",
      "  '0.003*\"well\"'),\n",
      " (3,\n",
      "  '0.012*\"film\" + 0.007*\"movie\" + 0.004*\"like\" + 0.004*\"even\" + 0.003*\"story\" '\n",
      "  '+ 0.003*\"good\" + 0.003*\"time\" + 0.003*\"films\" + 0.003*\"characters\" + '\n",
      "  '0.003*\"well\"'),\n",
      " (4,\n",
      "  '0.014*\"film\" + 0.008*\"movie\" + 0.005*\"like\" + 0.004*\"character\" + '\n",
      "  '0.003*\"even\" + 0.003*\"time\" + 0.003*\"good\" + 0.003*\"story\" + 0.003*\"see\" + '\n",
      "  '0.003*\"films\"')]\n"
     ]
    }
   ],
   "source": [
    "#LDA Model Training\n",
    "from pprint import pprint\n",
    "# number of topics\n",
    "num_topics = 5\n",
    "# Build LDA model\n",
    "lda_model = gensim.models.LdaMulticore(corpus=corpus,\n",
    "                                       id2word=id2word,\n",
    "                                       num_topics=num_topics)\n",
    "# Print the Keyword in the 5 topics\n",
    "pprint(lda_model.print_topics())\n",
    "doc_lda = lda_model[corpus]"
   ]
  },
  {
   "cell_type": "markdown",
   "metadata": {},
   "source": [
    "As can be observed from above result, each topic seems to have very similar keywords to represent themselves. This was an expected result as we have same source for all documents that is movie reviews and this means that they share same topic. However, LDA tries to diferentiate and create different topics even if the topics are same for all documents. For instance, there could be differentiation regarding movie genres and places that movie is held."
   ]
  },
  {
   "cell_type": "code",
   "execution_count": 34,
   "metadata": {},
   "outputs": [
    {
     "name": "stderr",
     "output_type": "stream",
     "text": [
      "C:\\Users\\deniz\\anaconda3\\lib\\site-packages\\sklearn\\decomposition\\_lda.py:28: DeprecationWarning: `np.float` is a deprecated alias for the builtin `float`. To silence this warning, use `float` by itself. Doing this will not modify any behavior and is safe. If you specifically wanted the numpy scalar type, use `np.float64` here.\n",
      "Deprecated in NumPy 1.20; for more details and guidance: https://numpy.org/devdocs/release/1.20.0-notes.html#deprecations\n",
      "  EPS = np.finfo(np.float).eps\n"
     ]
    },
    {
     "data": {
      "text/html": [
       "\n",
       "<link rel=\"stylesheet\" type=\"text/css\" href=\"https://cdn.jsdelivr.net/gh/bmabey/pyLDAvis@3.3.1/pyLDAvis/js/ldavis.v1.0.0.css\">\n",
       "\n",
       "\n",
       "<div id=\"ldavis_el372322607840701344653056402\"></div>\n",
       "<script type=\"text/javascript\">\n",
       "\n",
       "var ldavis_el372322607840701344653056402_data = {\"mdsDat\": {\"x\": [0.0033551172028963524, 0.000925044149246703, 0.0021582095881895994, -0.0016036890691864406, -0.004834681871146213], \"y\": [0.00324353389120176, 0.0016868762615156918, -0.004481668681276883, -0.001528945934993889, 0.0010802044635533211], \"topics\": [1, 2, 3, 4, 5], \"cluster\": [1, 1, 1, 1, 1], \"Freq\": [38.32916804287223, 18.798019054168318, 15.518248179400635, 15.355243188193171, 11.999321535365635]}, \"tinfo\": {\"Term\": [\"film\", \"movie\", \"like\", \"even\", \"first\", \"life\", \"good\", \"scene\", \"characters\", \"films\", \"time\", \"story\", \"get\", \"plot\", \"director\", \"well\", \"world\", \"really\", \"little\", \"another\", \"bad\", \"action\", \"better\", \"way\", \"many\", \"hes\", \"end\", \"years\", \"movies\", \"never\", \"marquis\", \"sade\", \"abbe\", \"dietz\", \"quills\", \"dietzs\", \"firsttier\", \"royercollard\", \"spectaculars\", \"althea\", \"soninlaw\", \"geronimo\", \"palmetto\", \"flynt\", \"gallos\", \"stu\", \"guginos\", \"apaches\", \"scribes\", \"sades\", \"patch\", \"hypocrite\", \"wizened\", \"suceeds\", \"carin\", \"failsafe\", \"coinciding\", \"signy\", \"isaacman\", \"coulmier\", \"leasure\", \"stephane\", \"odette\", \"jakob\", \"bulworth\", \"matilda\", \"marianne\", \"harry\", \"chucky\", \"flynts\", \"rudys\", \"character\", \"people\", \"film\", \"side\", \"see\", \"us\", \"scream\", \"actors\", \"movie\", \"scenes\", \"best\", \"political\", \"funny\", \"make\", \"movies\", \"say\", \"way\", \"little\", \"time\", \"feel\", \"many\", \"love\", \"ending\", \"take\", \"great\", \"good\", \"never\", \"like\", \"really\", \"new\", \"story\", \"something\", \"seems\", \"films\", \"even\", \"get\", \"well\", \"characters\", \"first\", \"man\", \"bad\", \"plot\", \"rockys\", \"sheffer\", \"downstairs\", \"yuri\", \"zeltser\", \"clubber\", \"dotcom\", \"ravaging\", \"adrianne\", \"sherri\", \"contagion\", \"lindenlaub\", \"osmosis\", \"trainsrocky\", \"travellers\", \"tito\", \"smocky\", \"trashtalks\", \"kermit\", \"fightrocky\", \"kozmo\", \"tissue\", \"thunderlips\", \"establishments\", \"hardball\", \"stempel\", \"infomercial\", \"pities\", \"rameses\", \"motels\", \"nello\", \"thrax\", \"begrudgingly\", \"penn\", \"spawn\", \"feihong\", \"hedwig\", \"koufax\", \"jonnie\", \"memento\", \"every\", \"big\", \"plot\", \"story\", \"gorilla\", \"bad\", \"thing\", \"well\", \"woman\", \"even\", \"film\", \"action\", \"although\", \"characters\", \"man\", \"interesting\", \"money\", \"look\", \"hard\", \"nothing\", \"films\", \"cant\", \"comes\", \"movie\", \"might\", \"get\", \"theres\", \"time\", \"good\", \"find\", \"like\", \"first\", \"character\", \"make\", \"another\", \"know\", \"way\", \"life\", \"work\", \"see\", \"movies\", \"really\", \"never\", \"scenes\", \"best\", \"little\", \"emmannuelle\", \"leyland\", \"emile\", \"wyatts\", \"dorians\", \"sallys\", \"cringeworthy\", \"dann\", \"amourous\", \"permissive\", \"ardour\", \"webb\", \"dangle\", \"asbestos\", \"chins\", \"cyborsuit\", \"webbs\", \"milkshake\", \"slates\", \"tillman\", \"soran\", \"gevedon\", \"thirtysix\", \"lace\", \"emiles\", \"dellaplanes\", \"beavis\", \"bookseller\", \"beryl\", \"nesmith\", \"insurrections\", \"squad\", \"cy\", \"ruafro\", \"insurrection\", \"owens\", \"shelmikedmu\", \"moment\", \"breillat\", \"movie\", \"trek\", \"snipes\", \"star\", \"scene\", \"data\", \"blade\", \"blair\", \"acting\", \"day\", \"young\", \"plays\", \"life\", \"anyone\", \"get\", \"like\", \"plot\", \"actually\", \"film\", \"effects\", \"dark\", \"nothing\", \"new\", \"original\", \"good\", \"theres\", \"hes\", \"scenes\", \"characters\", \"however\", \"action\", \"fun\", \"even\", \"story\", \"go\", \"time\", \"see\", \"make\", \"bad\", \"character\", \"films\", \"first\", \"people\", \"way\", \"really\", \"man\", \"well\", \"little\", \"never\", \"swishing\", \"bulow\", \"personify\", \"grates\", \"marcy\", \"millie\", \"rand\", \"keri\", \"halloweentown\", \"taymor\", \"vartan\", \"hudlin\", \"katarina\", \"merton\", \"belittling\", \"heyst\", \"mongkut\", \"tamora\", \"sherry\", \"flanagan\", \"parillaud\", \"tulips\", \"truely\", \"ned\", \"aux\", \"lennix\", \"railroads\", \"copolla\", \"dershowitz\", \"copollas\", \"niagara\", \"mommas\", \"deuce\", \"cousins\", \"farrell\", \"whale\", \"josie\", \"leila\", \"reversal\", \"like\", \"zero\", \"last\", \"never\", \"scott\", \"even\", \"toward\", \"films\", \"jackie\", \"death\", \"though\", \"hes\", \"well\", \"direction\", \"however\", \"plays\", \"characters\", \"film\", \"work\", \"really\", \"back\", \"run\", \"director\", \"end\", \"time\", \"first\", \"performances\", \"little\", \"anything\", \"role\", \"many\", \"get\", \"think\", \"movie\", \"world\", \"good\", \"show\", \"life\", \"story\", \"best\", \"man\", \"way\", \"see\", \"still\", \"bad\", \"character\", \"movies\", \"make\", \"plot\", \"know\", \"baptist\", \"newfoundland\", \"yucks\", \"pedicure\", \"wheezy\", \"mullen\", \"quake\", \"chisolm\", \"grouptherapy\", \"helecopters\", \"deadweight\", \"imparts\", \"destabilize\", \"tel\", \"tangos\", \"geologic\", \"maclaine\", \"worrys\", \"snowman\", \"obrady\", \"poised\", \"chows\", \"identital\", \"bouchez\", \"onceinalifetime\", \"glitteratti\", \"elodie\", \"mindmoving\", \"wittiness\", \"adaptions\", \"volcano\", \"kahuna\", \"fern\", \"toy\", \"arraki\", \"tarzan\", \"buzz\", \"high\", \"frankenstein\", \"spice\", \"morgue\", \"col\", \"mckellar\", \"woody\", \"gibson\", \"mulan\", \"derek\", \"rumpo\", \"oscar\", \"couple\", \"first\", \"film\", \"world\", \"better\", \"another\", \"mel\", \"bugs\", \"school\", \"friends\", \"life\", \"director\", \"years\", \"scene\", \"live\", \"friend\", \"good\", \"becomes\", \"like\", \"little\", \"movies\", \"movie\", \"many\", \"really\", \"time\", \"john\", \"end\", \"way\", \"even\", \"almost\", \"films\", \"characters\", \"story\", \"make\", \"still\", \"get\", \"plot\", \"see\", \"character\", \"well\", \"people\", \"bad\"], \"Freq\": [8504.0, 5171.0, 3309.0, 2395.0, 1624.0, 1336.0, 2191.0, 1251.0, 1813.0, 1983.0, 2171.0, 2017.0, 1812.0, 1347.0, 958.0, 1606.0, 874.0, 1481.0, 1418.0, 1042.0, 1289.0, 995.0, 848.0, 1602.0, 1210.0, 1085.0, 978.0, 902.0, 1361.0, 1307.0, 8.85408606224893, 6.180232527236791, 3.311062824319753, 3.274991771771847, 3.831894644482241, 2.2493782954970847, 2.218230024998089, 2.1932293264397713, 2.1419127058897787, 8.872709167932289, 2.7718963790854683, 10.324988809260038, 19.737615331016013, 41.88513231162567, 4.070792621105546, 8.675666172743789, 2.0051232649364974, 3.3479134187683814, 1.3283957110088227, 1.327261951185964, 46.32930092625139, 2.6425389526965524, 2.6311836972593166, 1.9950365844962583, 1.9635652348011874, 7.815687096636435, 1.9532544986998592, 1.2981301816367692, 5.095774494254745, 1.2982865910998616, 4.439691319178784, 10.180500348114322, 5.800525231361626, 16.975896185217838, 29.567158136709153, 15.090052852750732, 4.466472055257574, 84.81504452229179, 14.970476326898236, 10.799900910834738, 6.909666133146324, 919.6254208893688, 672.0912233429968, 3679.197312676039, 160.29814928524354, 767.2123968668251, 488.89535859386393, 131.3387236368914, 331.6780161668955, 2112.165056720712, 551.0232913836966, 563.8138755419576, 80.68106629587172, 369.36825001893396, 672.2975664377025, 598.49839053133, 355.9550325971044, 691.4053768151076, 605.5212026258279, 890.2424207577535, 214.63841696856431, 520.4705861246337, 455.0919860382184, 195.57495386373355, 378.90215006746007, 469.0446397742415, 874.0892016023192, 545.5583757626661, 1243.7154721162315, 608.1418454467461, 512.1353146657646, 795.2609472509745, 435.0516001644038, 426.1755790767953, 767.1985307085959, 895.4700234945533, 701.9301574174431, 625.4471774231523, 653.6707956904949, 579.9003905353378, 466.97445900126286, 475.7765374257152, 468.37417742744185, 2.337333441151331, 1.3967588306439689, 1.799340795222175, 1.3045670281816861, 1.2755131398328785, 2.0579447892205303, 1.6385204538228848, 1.218158292228266, 0.800416813035459, 3.6493803763529993, 2.013933427301428, 0.7762536871336322, 6.093078100009419, 0.755683416223005, 0.7658445067857815, 0.7430538908104835, 0.7514596291203777, 0.7441831089147626, 6.396502673315454, 0.7389996122237428, 1.8745269791055004, 1.5300715149822737, 0.7360400883253831, 0.7515119386175135, 1.8709175067796402, 3.206923478927867, 1.09330991645336, 0.7212424688335848, 3.52098150808793, 0.7328531292867917, 8.776131209976501, 2.1292373677599956, 1.810659657619211, 14.287599320206693, 24.36968171212802, 6.563411863586059, 10.437327304202121, 2.4474604967456974, 2.6403481982180605, 3.81455106575235, 231.96858504655103, 227.33124959168086, 318.7477930079282, 449.95357905933724, 9.987474054524244, 294.5950147906086, 183.41494631634075, 354.5956996969573, 116.90119492139443, 495.4418840659477, 1520.7839565103397, 226.13589496354632, 171.16541487858385, 379.53448626941497, 262.937934369837, 139.67253432039232, 117.6154837963252, 178.77424058514507, 115.90144364169095, 167.4708580545098, 397.56489540879875, 141.52777407406057, 155.4477342907993, 868.9594534589013, 133.39841293377208, 347.8687779412501, 199.90403072851944, 401.131456627532, 403.6863357883693, 163.14477136305416, 556.8738429432183, 311.62129129106563, 346.6895107654427, 287.4790582938935, 212.70916345279508, 223.25736442241646, 283.203510768315, 246.33466499574925, 192.7000875511991, 278.43107965931154, 238.09860839649733, 246.74336717149237, 223.0467745785912, 217.09306910699095, 210.90635021974623, 213.53655880121076, 2.181721455349487, 1.1604090505909443, 1.1259964849988666, 2.8447321585083754, 1.164341200346414, 1.1209690176027438, 1.0582247444968145, 1.0288367481240013, 0.6875102963218299, 0.6673002947268835, 0.6628438164747967, 8.791321953547868, 0.6613974330107059, 1.359124768817057, 1.06655999774723, 3.5842213050870724, 1.9763512332389925, 0.6649642192702369, 0.6845745397702498, 1.0201303350239304, 1.272335674800203, 1.6101819475279595, 0.984775958558795, 0.9775522527394392, 0.6389100923434413, 1.0004025417552602, 6.6250004439645265, 4.745027309301711, 0.6300521045936806, 2.2733637397273836, 1.9107799818195652, 12.56837442196203, 3.346810385325347, 2.479587957952129, 8.507486104751711, 5.915998572241002, 2.520245515038509, 75.64059826555422, 1.88693687401798, 1036.3307178231373, 36.51153501716807, 11.950883450598825, 144.5419445454589, 265.4212874725401, 10.008340609682847, 25.435755682514557, 24.95401222380628, 136.17628826052876, 124.0721414891905, 141.50740035106264, 136.97332244753548, 242.84430735431857, 81.81871374921514, 305.5329207804723, 504.82435990737144, 235.01701021981216, 144.24248790982, 1118.514271077915, 118.42060078242379, 62.9598456834284, 136.7030237896327, 208.082655973233, 122.95225503725024, 333.1046946353396, 163.73253097882417, 184.85108049139018, 204.01914924983708, 274.81297565003075, 158.8529965765629, 169.3851474888407, 100.77305626203363, 326.3968758894718, 279.92121098453555, 166.86964744859, 294.82922252929126, 241.70863008915987, 223.89090462364933, 196.27022500035685, 247.11121508525565, 253.0040695899533, 221.7659087975241, 200.07919914795926, 211.8801425206162, 192.3268372743015, 176.4773494993092, 192.3180700960933, 180.68879771788554, 168.49675658448254, 0.7124345439300176, 4.61865219891026, 0.700342456056172, 0.7008205073412287, 3.3962824235379774, 4.331397003220044, 2.8287442586381424, 1.0435952276192269, 1.6246492148139502, 1.5916461829666408, 1.6994085590869814, 0.9441141030339855, 2.1997082993309998, 4.288140865826807, 0.6166733963061087, 2.914057438179714, 1.9896064323935112, 0.9226931803351113, 3.164349643507372, 3.2247257714921926, 1.5042407045793742, 2.5890726111938953, 0.6256863980085964, 9.935011884136122, 0.9127215906929019, 0.9088408772317048, 1.1935636724732661, 1.1906822687769127, 1.5124311445326293, 1.1918321345853404, 2.6503438546022857, 4.191924178631026, 7.230267494816655, 4.054389559971983, 2.016648209643999, 8.88175124529221, 5.599291102526619, 7.683980511209939, 3.1892486497908865, 620.5568968225482, 17.21905818890331, 161.18527043674717, 258.0736834473234, 35.14062100983094, 418.9809595579057, 23.810160504982758, 346.66709815231417, 53.06703068385945, 85.41092415752958, 164.6403410282725, 195.95434627889585, 273.8375523774205, 56.61180705893573, 167.8248321070861, 130.77382907122728, 301.2758370832077, 1125.0797449864917, 169.03928311252156, 248.16524131139445, 173.80490362839515, 61.67502343752857, 170.30074354582345, 173.0643277223452, 336.7511433176059, 262.1203362428868, 78.49525245355348, 230.54196719776, 111.21307399081346, 144.42951726146725, 195.98831248705756, 270.4611693524254, 137.74193060300342, 619.1511656542194, 149.7380097959712, 306.96485882298134, 121.19111259360973, 207.17419483577655, 283.3553586481584, 196.20684147760792, 188.50610498686288, 224.79529100090497, 231.5223866241217, 160.84688086436972, 184.68185988789713, 206.54276106834416, 184.6299806650565, 181.32854109286774, 177.35930335459506, 173.3337448468093, 1.8658320183787338, 1.5504327011381387, 0.5877267600790216, 0.5679077532687382, 1.1166567311552902, 2.1655389152961924, 1.067040135777697, 1.0876535342972182, 0.7783995945671374, 0.5162717319221264, 0.5293498195507403, 0.5250085467339731, 0.5414466546999198, 0.5267456459866382, 0.7915721770485593, 0.5098865690538938, 0.5348123690379211, 0.5070045880924854, 2.5635926188396523, 0.5166521017169863, 0.509974714450189, 1.0194103226926985, 0.5300284270529801, 0.5053832730468181, 0.5119817403041359, 0.5042220694998624, 0.4982576514999624, 0.5021949494835398, 1.0086454541209242, 0.9699613529670429, 8.047329868906116, 1.4756665808088032, 3.0363680712163466, 24.27625566233461, 1.7834858421649484, 23.868511194162874, 10.939241679098577, 97.38965040873241, 8.07091757695469, 18.43326168080552, 2.3318277451895426, 5.76123808067253, 2.7264927811418738, 26.160901045661234, 16.63361116815186, 15.413333472993097, 11.228810361452329, 1.9300268165107024, 37.01342916825807, 67.1998414209273, 248.77162250745428, 1060.853478134709, 141.11123944742727, 135.6940468919984, 162.36747726256337, 15.136865288114475, 16.87673469660692, 59.79822408875756, 66.84453001764325, 194.73841569588566, 142.2114087316045, 134.648483531427, 175.31412008583845, 50.40558930179996, 57.286203399103485, 273.1767891684818, 75.53079210012395, 383.14311794556346, 188.51835064890372, 180.5424818961628, 535.2478942458234, 161.34322656242227, 185.78759551495455, 248.49898491234006, 103.58616539620792, 131.5013140078861, 191.2667754986336, 259.1466332541517, 107.0919211486037, 218.89806127367885, 204.06800650502936, 208.99682456211886, 172.56187062230325, 123.28433203932154, 186.96471602889542, 147.69602922842165, 167.98136014446675, 177.39983497844673, 160.41437129212102, 148.4795682971887, 138.54322163089563], \"Total\": [8504.0, 5171.0, 3309.0, 2395.0, 1624.0, 1336.0, 2191.0, 1251.0, 1813.0, 1983.0, 2171.0, 2017.0, 1812.0, 1347.0, 958.0, 1606.0, 874.0, 1481.0, 1418.0, 1042.0, 1289.0, 995.0, 848.0, 1602.0, 1210.0, 1085.0, 978.0, 902.0, 1361.0, 1307.0, 10.911452342407447, 8.173514385838372, 4.575106000449683, 4.526974785305522, 5.605775262392787, 3.305557888754084, 3.3011631067252885, 3.3046189196325817, 3.2726329557133464, 13.789888430029073, 4.322435860793651, 16.2365652978811, 31.572101706239362, 67.03949549909832, 6.524517913180328, 13.90830081653919, 3.2258765842486863, 5.392919704578651, 2.1465629621063145, 2.1454868948747126, 74.94237239355282, 4.27611543031623, 4.259377618719816, 3.2305151007305137, 3.1866712519438525, 12.757990882669572, 3.1904514980879704, 2.1205644440740747, 8.349050013456491, 2.1336084816527547, 7.30549990750721, 16.9240783763769, 9.611636769288918, 28.871039017519397, 51.25809477465223, 25.816002472032984, 7.404561828124141, 155.20590126248916, 25.934986920658567, 18.468922400761514, 11.614759955672605, 1897.368742786858, 1400.5939801496568, 8504.428763385495, 318.9136698634183, 1686.855853383885, 1048.3470983451423, 261.0792594254619, 705.04589520661, 5171.854287902795, 1231.574535363681, 1262.5770252123066, 156.67867695025234, 805.9090708622944, 1537.5579410704163, 1361.2709819419244, 776.456392780829, 1602.5510966035777, 1418.806876991588, 2171.4532281445227, 456.52662015590914, 1210.8561659662269, 1053.4275337474737, 413.6594764669168, 863.1272615792766, 1096.936345510369, 2191.021880017491, 1307.2977009676672, 3309.113689734933, 1481.1648867188892, 1221.7972487479, 2017.4879205051245, 1017.3774485689016, 994.0020763248133, 1983.332655133341, 2395.4363762620305, 1812.7577415204864, 1606.6128708857445, 1813.3621011981777, 1624.1795493742688, 1204.2621616590363, 1289.8668587354734, 1347.194313238199, 4.4740508575564695, 2.704976778460664, 3.572843309233807, 2.696295596227677, 2.699615819717559, 4.430188408812928, 3.5758224055783097, 2.672797887468273, 1.7806043171054726, 8.15085764471496, 4.658145413660385, 1.7993376549870064, 14.224252395375006, 1.7649847522685727, 1.8046501638205334, 1.75551947811107, 1.775528972247085, 1.7708186889944173, 15.25144854090124, 1.767719706348525, 4.488974750012998, 3.6740297017560413, 1.7692744291950264, 1.8085722282085834, 4.547546235341368, 7.795292999035158, 2.6682044449931506, 1.7641766400133585, 8.616370545285227, 1.7963605048917055, 21.61916480882614, 5.223248268855211, 4.4735245593943445, 40.11213366306944, 72.21495121950102, 18.045268654629382, 30.02267216723111, 6.315763050960767, 6.884016781945325, 10.318277579900297, 902.1960244309865, 911.2455793864609, 1347.194313238199, 2017.4879205051245, 29.86693669599252, 1289.8668587354734, 763.4314652852376, 1606.6128708857445, 470.5559355339662, 2395.4363762620305, 8504.428763385495, 995.8604434595354, 728.0908727965015, 1813.3621011981777, 1204.2621616590363, 583.4104342477303, 479.49038473480755, 778.0532004612007, 476.62755472425357, 727.9148586856151, 1983.332655133341, 603.3983489813443, 679.6507567233529, 5171.854287902795, 573.274907416388, 1812.7577415204864, 933.2457700941211, 2171.4532281445227, 2191.021880017491, 736.4242016229316, 3309.113689734933, 1624.1795493742688, 1897.368742786858, 1537.5579410704163, 1042.9662945126677, 1142.7616991673308, 1602.5510966035777, 1336.4107677928569, 938.0827771834646, 1686.855853383885, 1361.2709819419244, 1481.1648867188892, 1307.2977009676672, 1231.574535363681, 1262.5770252123066, 1418.806876991588, 4.023830735964164, 2.464220716865264, 2.4812038347284546, 6.297030474859729, 2.634206464968637, 2.603418385197067, 2.513898325607917, 2.4683297866021148, 1.6880232415518075, 1.687645010757192, 1.6881511726146656, 22.49165723709901, 1.6941305521585313, 3.483268507487546, 2.7522960531827105, 9.290620411594182, 5.1812924200418475, 1.7498596050074813, 1.807443064849604, 2.6979188789851327, 3.3658608601017996, 4.2632320815331886, 2.6077296463980204, 2.590053993780052, 1.6931858024998983, 2.6542611865943955, 17.681682208251434, 12.67487134160664, 1.6846340591561129, 6.121542232651435, 5.154485539182428, 34.77403161528989, 9.141850775899208, 6.907696263437554, 25.78016906108691, 17.889992050712927, 7.161238293674689, 288.4395741917366, 5.247452742825773, 5171.854287902795, 134.3611336021719, 39.70953039010996, 631.2934889583277, 1251.060747942126, 32.91796081401166, 94.39655478836139, 92.63793266495784, 646.9480114016235, 583.4224444438996, 691.0020203691348, 686.60337048438, 1336.4107677928569, 386.9883578648618, 1812.7577415204864, 3309.113689734933, 1347.194313238199, 763.305232140672, 8504.428763385495, 607.8357719898285, 289.12258243869127, 727.9148586856151, 1221.7972487479, 648.6653425547948, 2191.021880017491, 933.2457700941211, 1085.1912042148513, 1231.574535363681, 1813.3621011981777, 917.5435130496915, 995.8604434595354, 526.9292701496848, 2395.4363762620305, 2017.4879205051245, 1022.0006548885739, 2171.4532281445227, 1686.855853383885, 1537.5579410704163, 1289.8668587354734, 1897.368742786858, 1983.332655133341, 1624.1795493742688, 1400.5939801496568, 1602.5510966035777, 1481.1648867188892, 1204.2621616590363, 1606.6128708857445, 1418.806876991588, 1307.2977009676672, 1.7081842614972116, 11.11422037186606, 1.7121874864397506, 1.7233700840823776, 8.617392154011005, 11.109048302177449, 7.36608635537991, 2.7381438066422183, 4.289356864669391, 4.228802423597245, 4.549792548986647, 2.5569902439443166, 5.966624298367631, 11.792586454396485, 1.6969130389571976, 8.060980847981726, 5.557596847563464, 2.593377052916717, 8.910591564950318, 9.087980001798186, 4.244769056088476, 7.308145812745224, 1.7811787167342241, 28.32313306714979, 2.606288901157435, 2.5984115293150554, 3.4428422878448015, 3.4362089025356717, 4.370060283493426, 3.4462138353211693, 7.702275800066034, 12.396953659834754, 21.657238127188354, 12.19632685027025, 5.929482856805667, 28.057424222387954, 17.629297266142164, 24.975016094435865, 9.758588571007595, 3309.113689734933, 63.140202134075814, 769.342962212628, 1307.2977009676672, 142.9550131824689, 2395.4363762620305, 92.46195578239957, 1983.332655133341, 233.47619435225403, 411.40908014659954, 878.6600315817034, 1085.1912042148513, 1606.6128708857445, 258.74150110065233, 917.5435130496915, 686.60337048438, 1813.3621011981777, 8504.428763385495, 938.0827771834646, 1481.1648867188892, 977.384963515343, 289.06735833647815, 958.5103037548532, 978.6228175281395, 2171.4532281445227, 1624.1795493742688, 385.8357924344285, 1418.806876991588, 590.3754291703754, 826.2542074975692, 1210.8561659662269, 1812.7577415204864, 784.2243031980514, 5171.854287902795, 874.770665993234, 2191.021880017491, 670.4975092249351, 1336.4107677928569, 2017.4879205051245, 1262.5770252123066, 1204.2621616590363, 1602.5510966035777, 1686.855853383885, 975.5825414300765, 1289.8668587354734, 1897.368742786858, 1361.2709819419244, 1537.5579410704163, 1347.194313238199, 1142.7616991673308, 5.171293664780762, 4.365500145246993, 1.7221364655307352, 1.7290967963659145, 3.4539277731473232, 6.756884311250228, 3.362195112385673, 3.44117490300217, 2.4914768403519165, 1.6531254325671498, 1.699532506793747, 1.6863756418009834, 1.752981953507037, 1.7056266766741124, 2.5631900260470175, 1.6545515978185046, 1.7484935964175068, 1.6577402029093127, 8.478132287832238, 1.7103034133398478, 1.701613055350283, 3.409828701314516, 1.776914120232615, 1.6993884028869477, 1.7232484243564845, 1.706095300042918, 1.695082107365509, 1.7137157179401932, 3.4486581875205866, 3.3245065275064607, 28.848426084808473, 5.119238725267486, 10.79987672278358, 92.64247041155987, 6.290862190794787, 94.20252881927941, 42.996105391040686, 443.2208547593809, 31.40228570173344, 76.33603090172112, 8.45035756479401, 22.556980329661705, 10.180479479329303, 118.96086376785615, 73.00315487499346, 68.82423687466374, 49.19684889504036, 7.063180717063973, 188.98900740138157, 370.7985897916667, 1624.1795493742688, 8504.428763385495, 874.770665993234, 848.324167365512, 1042.9662945126677, 70.63451553949697, 79.96576634780271, 337.0562515747397, 389.07079275276817, 1336.4107677928569, 958.5103037548532, 902.1632126472224, 1251.060747942126, 289.1276610170141, 338.26663971972414, 2191.021880017491, 474.9952425325699, 3309.113689734933, 1418.806876991588, 1361.2709819419244, 5171.854287902795, 1210.8561659662269, 1481.1648867188892, 2171.4532281445227, 717.6873312389469, 978.6228175281395, 1602.5510966035777, 2395.4363762620305, 762.2587830069457, 1983.332655133341, 1813.3621011981777, 2017.4879205051245, 1537.5579410704163, 975.5825414300765, 1812.7577415204864, 1347.194313238199, 1686.855853383885, 1897.368742786858, 1606.6128708857445, 1400.5939801496568, 1289.8668587354734], \"Category\": [\"Default\", \"Default\", \"Default\", \"Default\", \"Default\", \"Default\", \"Default\", \"Default\", \"Default\", \"Default\", \"Default\", \"Default\", \"Default\", \"Default\", \"Default\", \"Default\", \"Default\", \"Default\", \"Default\", \"Default\", \"Default\", \"Default\", \"Default\", \"Default\", \"Default\", \"Default\", \"Default\", \"Default\", \"Default\", \"Default\", \"Topic1\", \"Topic1\", \"Topic1\", \"Topic1\", \"Topic1\", \"Topic1\", \"Topic1\", \"Topic1\", \"Topic1\", \"Topic1\", \"Topic1\", \"Topic1\", \"Topic1\", \"Topic1\", \"Topic1\", \"Topic1\", \"Topic1\", \"Topic1\", \"Topic1\", \"Topic1\", \"Topic1\", \"Topic1\", \"Topic1\", \"Topic1\", \"Topic1\", \"Topic1\", \"Topic1\", \"Topic1\", \"Topic1\", \"Topic1\", \"Topic1\", \"Topic1\", \"Topic1\", \"Topic1\", \"Topic1\", \"Topic1\", \"Topic1\", \"Topic1\", \"Topic1\", \"Topic1\", \"Topic1\", \"Topic1\", \"Topic1\", \"Topic1\", \"Topic1\", \"Topic1\", \"Topic1\", \"Topic1\", \"Topic1\", \"Topic1\", \"Topic1\", \"Topic1\", \"Topic1\", \"Topic1\", \"Topic1\", \"Topic1\", \"Topic1\", \"Topic1\", \"Topic1\", \"Topic1\", \"Topic1\", \"Topic1\", \"Topic1\", \"Topic1\", \"Topic1\", \"Topic1\", \"Topic1\", \"Topic1\", \"Topic1\", \"Topic1\", \"Topic1\", \"Topic1\", \"Topic1\", \"Topic1\", \"Topic1\", \"Topic1\", \"Topic1\", \"Topic1\", \"Topic1\", \"Topic1\", \"Topic1\", \"Topic1\", \"Topic1\", \"Topic2\", \"Topic2\", \"Topic2\", \"Topic2\", \"Topic2\", \"Topic2\", \"Topic2\", \"Topic2\", \"Topic2\", \"Topic2\", \"Topic2\", \"Topic2\", \"Topic2\", \"Topic2\", \"Topic2\", \"Topic2\", \"Topic2\", \"Topic2\", \"Topic2\", \"Topic2\", \"Topic2\", \"Topic2\", \"Topic2\", \"Topic2\", \"Topic2\", \"Topic2\", \"Topic2\", \"Topic2\", \"Topic2\", \"Topic2\", \"Topic2\", \"Topic2\", \"Topic2\", \"Topic2\", \"Topic2\", \"Topic2\", \"Topic2\", \"Topic2\", \"Topic2\", \"Topic2\", \"Topic2\", \"Topic2\", \"Topic2\", \"Topic2\", \"Topic2\", \"Topic2\", \"Topic2\", \"Topic2\", \"Topic2\", \"Topic2\", \"Topic2\", \"Topic2\", \"Topic2\", \"Topic2\", \"Topic2\", \"Topic2\", \"Topic2\", \"Topic2\", \"Topic2\", \"Topic2\", \"Topic2\", \"Topic2\", \"Topic2\", \"Topic2\", \"Topic2\", \"Topic2\", \"Topic2\", \"Topic2\", \"Topic2\", \"Topic2\", \"Topic2\", \"Topic2\", \"Topic2\", \"Topic2\", \"Topic2\", \"Topic2\", \"Topic2\", \"Topic2\", \"Topic2\", \"Topic2\", \"Topic2\", \"Topic2\", \"Topic2\", \"Topic2\", \"Topic2\", \"Topic2\", \"Topic3\", \"Topic3\", \"Topic3\", \"Topic3\", \"Topic3\", \"Topic3\", \"Topic3\", \"Topic3\", \"Topic3\", \"Topic3\", \"Topic3\", \"Topic3\", \"Topic3\", \"Topic3\", \"Topic3\", \"Topic3\", \"Topic3\", \"Topic3\", \"Topic3\", \"Topic3\", \"Topic3\", \"Topic3\", \"Topic3\", \"Topic3\", \"Topic3\", \"Topic3\", \"Topic3\", \"Topic3\", \"Topic3\", \"Topic3\", \"Topic3\", \"Topic3\", \"Topic3\", \"Topic3\", \"Topic3\", \"Topic3\", \"Topic3\", \"Topic3\", \"Topic3\", \"Topic3\", \"Topic3\", \"Topic3\", \"Topic3\", \"Topic3\", \"Topic3\", \"Topic3\", \"Topic3\", \"Topic3\", \"Topic3\", \"Topic3\", \"Topic3\", \"Topic3\", \"Topic3\", \"Topic3\", \"Topic3\", \"Topic3\", \"Topic3\", \"Topic3\", \"Topic3\", \"Topic3\", \"Topic3\", \"Topic3\", \"Topic3\", \"Topic3\", \"Topic3\", \"Topic3\", \"Topic3\", \"Topic3\", \"Topic3\", \"Topic3\", \"Topic3\", \"Topic3\", \"Topic3\", \"Topic3\", \"Topic3\", \"Topic3\", \"Topic3\", \"Topic3\", \"Topic3\", \"Topic3\", \"Topic3\", \"Topic3\", \"Topic3\", \"Topic3\", \"Topic3\", \"Topic3\", \"Topic3\", \"Topic3\", \"Topic4\", \"Topic4\", \"Topic4\", \"Topic4\", \"Topic4\", \"Topic4\", \"Topic4\", \"Topic4\", \"Topic4\", \"Topic4\", \"Topic4\", \"Topic4\", \"Topic4\", \"Topic4\", \"Topic4\", \"Topic4\", \"Topic4\", \"Topic4\", \"Topic4\", \"Topic4\", \"Topic4\", \"Topic4\", \"Topic4\", \"Topic4\", \"Topic4\", \"Topic4\", \"Topic4\", \"Topic4\", \"Topic4\", \"Topic4\", \"Topic4\", \"Topic4\", \"Topic4\", \"Topic4\", \"Topic4\", \"Topic4\", \"Topic4\", \"Topic4\", \"Topic4\", \"Topic4\", \"Topic4\", \"Topic4\", \"Topic4\", \"Topic4\", \"Topic4\", \"Topic4\", \"Topic4\", \"Topic4\", \"Topic4\", \"Topic4\", \"Topic4\", \"Topic4\", \"Topic4\", \"Topic4\", \"Topic4\", \"Topic4\", \"Topic4\", \"Topic4\", \"Topic4\", \"Topic4\", \"Topic4\", \"Topic4\", \"Topic4\", \"Topic4\", \"Topic4\", \"Topic4\", \"Topic4\", \"Topic4\", \"Topic4\", \"Topic4\", \"Topic4\", \"Topic4\", \"Topic4\", \"Topic4\", \"Topic4\", \"Topic4\", \"Topic4\", \"Topic4\", \"Topic4\", \"Topic4\", \"Topic4\", \"Topic4\", \"Topic4\", \"Topic4\", \"Topic4\", \"Topic4\", \"Topic4\", \"Topic4\", \"Topic4\", \"Topic5\", \"Topic5\", \"Topic5\", \"Topic5\", \"Topic5\", \"Topic5\", \"Topic5\", \"Topic5\", \"Topic5\", \"Topic5\", \"Topic5\", \"Topic5\", \"Topic5\", \"Topic5\", \"Topic5\", \"Topic5\", \"Topic5\", \"Topic5\", \"Topic5\", \"Topic5\", \"Topic5\", \"Topic5\", \"Topic5\", \"Topic5\", \"Topic5\", \"Topic5\", \"Topic5\", \"Topic5\", \"Topic5\", \"Topic5\", \"Topic5\", \"Topic5\", \"Topic5\", \"Topic5\", \"Topic5\", \"Topic5\", \"Topic5\", \"Topic5\", \"Topic5\", \"Topic5\", \"Topic5\", \"Topic5\", \"Topic5\", \"Topic5\", \"Topic5\", \"Topic5\", \"Topic5\", \"Topic5\", \"Topic5\", \"Topic5\", \"Topic5\", \"Topic5\", \"Topic5\", \"Topic5\", \"Topic5\", \"Topic5\", \"Topic5\", \"Topic5\", \"Topic5\", \"Topic5\", \"Topic5\", \"Topic5\", \"Topic5\", \"Topic5\", \"Topic5\", \"Topic5\", \"Topic5\", \"Topic5\", \"Topic5\", \"Topic5\", \"Topic5\", \"Topic5\", \"Topic5\", \"Topic5\", \"Topic5\", \"Topic5\", \"Topic5\", \"Topic5\", \"Topic5\", \"Topic5\", \"Topic5\", \"Topic5\", \"Topic5\", \"Topic5\", \"Topic5\", \"Topic5\", \"Topic5\", \"Topic5\", \"Topic5\", \"Topic5\", \"Topic5\"], \"logprob\": [30.0, 29.0, 28.0, 27.0, 26.0, 25.0, 24.0, 23.0, 22.0, 21.0, 20.0, 19.0, 18.0, 17.0, 16.0, 15.0, 14.0, 13.0, 12.0, 11.0, 10.0, 9.0, 8.0, 7.0, 6.0, 5.0, 4.0, 3.0, 2.0, 1.0, -10.2966, -10.6561, -11.2802, -11.2911, -11.1341, -11.6668, -11.6807, -11.6921, -11.7158, -10.2945, -11.4579, -10.1429, -9.4949, -8.7425, -11.0736, -10.3169, -11.7818, -11.2691, -12.1935, -12.1943, -8.6417, -11.5057, -11.51, -11.7868, -11.8027, -10.4213, -11.808, -12.2165, -10.849, -12.2164, -10.9869, -10.157, -10.7195, -9.6457, -9.0908, -9.7634, -10.9809, -8.037, -9.7714, -10.0979, -10.5445, -5.6535, -5.9671, -4.267, -7.4004, -5.8347, -6.2853, -7.5997, -6.6733, -4.822, -6.1657, -6.1427, -8.087, -6.5657, -5.9668, -6.083, -6.6027, -5.9387, -6.0714, -5.686, -7.1085, -6.2227, -6.357, -7.2015, -6.5402, -6.3268, -5.7043, -6.1756, -5.3516, -6.067, -6.2389, -5.7988, -6.402, -6.4226, -5.8347, -5.6801, -5.9236, -6.039, -5.9949, -6.1146, -6.3312, -6.3125, -6.3282, -10.916, -11.4308, -11.1776, -11.4991, -11.5216, -11.0433, -11.2712, -11.5677, -11.9876, -10.4704, -11.0649, -12.0183, -9.9578, -12.0451, -12.0318, -12.062, -12.0507, -12.0605, -9.9092, -12.0675, -11.1366, -11.3397, -12.0715, -12.0507, -11.1386, -10.5997, -11.6758, -12.0918, -10.5063, -12.0758, -9.593, -11.0092, -11.1713, -9.1056, -8.5717, -9.8835, -9.4196, -10.8699, -10.7941, -10.4262, -6.3184, -6.3386, -6.0006, -5.6559, -9.4637, -6.0794, -6.5532, -5.894, -7.0037, -5.5595, -4.438, -6.3439, -6.6224, -5.8261, -6.1931, -6.8257, -6.9976, -6.5789, -7.0123, -6.6442, -5.7796, -6.8125, -6.7187, -4.9977, -6.8717, -5.9132, -6.4672, -5.7707, -5.7644, -6.6704, -5.4427, -6.0232, -5.9166, -6.1038, -6.4051, -6.3567, -6.1188, -6.2583, -6.5039, -6.1358, -6.2923, -6.2566, -6.3576, -6.3847, -6.4136, -6.4012, -10.7931, -11.4245, -11.4546, -10.5278, -11.4211, -11.4591, -11.5167, -11.5448, -11.9479, -11.9778, -11.9845, -9.3995, -11.9867, -11.2664, -11.5088, -10.2967, -10.892, -11.9813, -11.9522, -11.5533, -11.3324, -11.0969, -11.5886, -11.596, -12.0213, -11.5729, -9.6824, -10.0162, -12.0352, -10.752, -10.9257, -9.0421, -10.3653, -10.6652, -9.4323, -9.7956, -10.6489, -7.2473, -10.9383, -4.6298, -7.9756, -9.0925, -6.5997, -5.9919, -9.2698, -8.3371, -8.3562, -6.6593, -6.7524, -6.6209, -6.6535, -6.0808, -7.1688, -5.8512, -5.3491, -6.1136, -6.6018, -4.5535, -6.799, -7.4308, -6.6555, -6.2353, -6.7615, -5.7648, -6.475, -6.3537, -6.255, -5.9572, -6.5053, -6.4411, -6.9604, -5.7851, -5.9388, -6.456, -5.8869, -6.0855, -6.1621, -6.2938, -6.0634, -6.0399, -6.1716, -6.2745, -6.2172, -6.3141, -6.4001, -6.3141, -6.3765, -6.4463, -11.9018, -10.0326, -11.9189, -11.9182, -10.34, -10.0968, -10.5229, -11.52, -11.0774, -11.0979, -11.0324, -11.6202, -10.7744, -10.1068, -12.0461, -10.4932, -10.8748, -11.6432, -10.4108, -10.3919, -11.1544, -10.6114, -12.0316, -9.2666, -11.654, -11.6583, -11.3858, -11.3882, -11.149, -11.3872, -10.588, -10.1295, -9.5844, -10.1629, -10.8613, -9.3787, -9.8401, -9.5236, -10.4029, -5.1321, -8.7167, -6.4801, -6.0095, -8.0033, -5.5249, -8.3926, -5.7143, -7.5911, -7.1152, -6.4589, -6.2848, -5.9502, -7.5265, -6.4398, -6.6892, -5.8547, -4.5371, -6.4326, -6.0486, -6.4048, -7.4408, -6.4251, -6.409, -5.7434, -5.9939, -7.1997, -6.1223, -6.8513, -6.5899, -6.2846, -5.9626, -6.6373, -5.1344, -6.5538, -5.836, -6.7653, -6.2291, -5.916, -6.2835, -6.3236, -6.1475, -6.118, -6.4822, -6.3441, -6.2322, -6.3443, -6.3624, -6.3845, -6.4075, -10.6924, -10.8776, -11.8476, -11.8819, -11.2058, -10.5434, -11.2512, -11.2321, -11.5666, -11.9772, -11.9522, -11.9604, -11.9296, -11.9571, -11.5498, -11.9897, -11.9419, -11.9953, -10.3747, -11.9765, -11.9895, -11.2969, -11.9509, -11.9985, -11.9856, -12.0008, -12.0127, -12.0049, -11.3075, -11.3466, -9.2308, -10.927, -10.2054, -8.1266, -10.7375, -8.1435, -8.9237, -6.7374, -9.2278, -8.4019, -10.4694, -9.5649, -10.3131, -8.0518, -8.5047, -8.5809, -8.8976, -10.6586, -7.7048, -7.1084, -5.7996, -4.3493, -6.3665, -6.4057, -6.2262, -8.599, -8.4902, -7.2251, -7.1137, -6.0444, -6.3588, -6.4134, -6.1495, -7.396, -7.268, -5.706, -6.9916, -5.3677, -6.0769, -6.1201, -5.0334, -6.2326, -6.0915, -5.8007, -6.6757, -6.4371, -6.0624, -5.7587, -6.6424, -5.9275, -5.9976, -5.9738, -6.1653, -6.5016, -6.0852, -6.3209, -6.1922, -6.1377, -6.2383, -6.3156, -6.3849], \"loglift\": [30.0, 29.0, 28.0, 27.0, 26.0, 25.0, 24.0, 23.0, 22.0, 21.0, 20.0, 19.0, 18.0, 17.0, 16.0, 15.0, 14.0, 13.0, 12.0, 11.0, 10.0, 9.0, 8.0, 7.0, 6.0, 5.0, 4.0, 3.0, 2.0, 1.0, 0.75, 0.6794, 0.6356, 0.6352, 0.5785, 0.574, 0.5614, 0.549, 0.5351, 0.518, 0.5147, 0.5063, 0.4892, 0.4886, 0.4872, 0.487, 0.4835, 0.4822, 0.4791, 0.4787, 0.478, 0.4777, 0.4773, 0.477, 0.4747, 0.4689, 0.4683, 0.4682, 0.4652, 0.4622, 0.4609, 0.4507, 0.4539, 0.4279, 0.4087, 0.422, 0.4535, 0.3547, 0.4094, 0.4224, 0.4396, 0.2347, 0.2247, 0.1211, 0.2711, 0.1711, 0.1961, 0.2719, 0.2049, 0.0634, 0.1547, 0.1528, 0.2953, 0.1788, 0.1317, 0.1372, 0.179, 0.1183, 0.1075, 0.0673, 0.2043, 0.1146, 0.1197, 0.2099, 0.1357, 0.1094, 0.04, 0.0851, -0.0196, 0.0688, 0.0895, 0.028, 0.1094, 0.1121, 0.0092, -0.025, 0.0102, 0.0155, -0.0614, -0.0709, 0.0116, -0.0384, -0.0976, 1.0221, 1.0105, 0.9855, 0.9454, 0.9217, 0.9047, 0.891, 0.8856, 0.8718, 0.8679, 0.8329, 0.8307, 0.8236, 0.8231, 0.8143, 0.8117, 0.8116, 0.8045, 0.8025, 0.7993, 0.7982, 0.7954, 0.7944, 0.7932, 0.7833, 0.7832, 0.7792, 0.777, 0.7765, 0.7748, 0.7699, 0.7741, 0.7669, 0.6391, 0.5851, 0.66, 0.6149, 0.7234, 0.7131, 0.6763, 0.3132, 0.283, 0.23, 0.171, 0.576, 0.1947, 0.2453, 0.1605, 0.2788, 0.0955, -0.0499, 0.1889, 0.2236, 0.1074, 0.1497, 0.2418, 0.2661, 0.2007, 0.2574, 0.202, 0.0642, 0.2213, 0.1961, -0.1123, 0.2134, 0.0206, 0.1306, -0.0174, -0.0201, 0.1643, -0.1107, 0.0204, -0.0284, -0.0054, 0.0815, 0.0385, -0.0618, -0.0196, 0.0887, -0.13, -0.0721, -0.1208, -0.0969, -0.0643, -0.1181, -0.2223, 1.251, 1.1101, 1.0731, 1.0685, 1.0467, 1.0205, 0.9979, 0.988, 0.9649, 0.9353, 0.9283, 0.9238, 0.9226, 0.922, 0.9152, 0.9107, 0.8994, 0.8956, 0.8923, 0.8906, 0.8903, 0.8895, 0.8893, 0.8888, 0.8886, 0.8874, 0.8815, 0.8806, 0.8797, 0.8726, 0.8708, 0.8455, 0.8583, 0.8386, 0.7545, 0.7566, 0.8188, 0.5247, 0.8404, 0.2556, 0.5603, 0.6624, 0.389, 0.3127, 0.6726, 0.5518, 0.5515, 0.3048, 0.3151, 0.2774, 0.2512, 0.1578, 0.3093, 0.0826, -0.0171, 0.117, 0.197, -0.1654, 0.2275, 0.3388, 0.1908, 0.093, 0.2, -0.0205, 0.1227, 0.0932, 0.0653, -0.0237, 0.1094, 0.0917, 0.209, -0.1301, -0.1119, 0.0508, -0.1336, -0.0797, -0.0636, -0.0196, -0.1752, -0.196, -0.128, -0.0828, -0.1602, -0.1782, -0.0573, -0.2596, -0.1976, -0.1856, 0.9992, 0.9956, 0.9798, 0.9739, 0.9426, 0.9318, 0.9167, 0.9091, 0.9029, 0.8966, 0.8889, 0.8774, 0.8759, 0.8621, 0.8615, 0.8562, 0.8465, 0.8403, 0.8384, 0.8376, 0.8363, 0.836, 0.8275, 0.8261, 0.8245, 0.8232, 0.8144, 0.8139, 0.8127, 0.8119, 0.8069, 0.7894, 0.7766, 0.7724, 0.7952, 0.7235, 0.7268, 0.695, 0.7554, 0.1999, 0.5744, 0.3107, 0.2512, 0.4705, 0.1302, 0.517, 0.1295, 0.3922, 0.3016, 0.1991, 0.1621, 0.1044, 0.3541, 0.1749, 0.2154, 0.0788, -0.149, 0.16, 0.0872, 0.1468, 0.3289, 0.1459, 0.1412, 0.0099, 0.0498, 0.2813, 0.0566, 0.2044, 0.1296, 0.0527, -0.0288, 0.1344, -0.2489, 0.1086, -0.0917, 0.1631, 0.0095, -0.0892, 0.012, 0.0192, -0.0904, -0.1122, 0.0711, -0.0699, -0.344, -0.1241, -0.2639, -0.1539, -0.0123, 1.1009, 1.0851, 1.0453, 1.0069, 0.9911, 0.9824, 0.9726, 0.9685, 0.9569, 0.9565, 0.9539, 0.9534, 0.9455, 0.9453, 0.9453, 0.9432, 0.9357, 0.9356, 0.9242, 0.9233, 0.9153, 0.9129, 0.9106, 0.9076, 0.9066, 0.9014, 0.896, 0.8929, 0.8909, 0.8885, 0.8436, 0.8764, 0.8514, 0.7811, 0.8598, 0.7474, 0.7516, 0.605, 0.7617, 0.6993, 0.8328, 0.7554, 0.8029, 0.6058, 0.6412, 0.624, 0.643, 0.823, 0.4899, 0.4123, 0.2441, 0.0388, 0.2959, 0.2875, 0.2604, 0.5799, 0.5647, 0.391, 0.3589, 0.1942, 0.2123, 0.2182, 0.1552, 0.3736, 0.3445, 0.0383, 0.2816, -0.0357, 0.1019, 0.1001, -0.1479, 0.1048, 0.0443, -0.0474, 0.1847, 0.1132, -0.0054, -0.1036, 0.1577, -0.0836, -0.0642, -0.147, -0.0669, 0.0518, -0.1514, -0.0903, -0.1864, -0.2495, -0.1838, -0.1239, -0.1108]}, \"token.table\": {\"Topic\": [1, 3, 1, 2, 3, 4, 5, 1, 2, 3, 4, 5, 1, 2, 3, 4, 5, 1, 2, 3, 4, 5, 1, 3, 5, 2, 1, 2, 3, 4, 5, 1, 2, 3, 4, 5, 1, 2, 3, 4, 5, 3, 1, 2, 3, 4, 5, 1, 2, 3, 4, 5, 1, 2, 3, 4, 5, 1, 2, 4, 3, 1, 2, 3, 4, 5, 1, 2, 3, 4, 1, 4, 1, 2, 3, 4, 5, 1, 2, 3, 4, 5, 1, 2, 3, 5, 1, 2, 3, 4, 5, 1, 2, 3, 4, 5, 1, 2, 3, 4, 4, 3, 1, 2, 3, 4, 5, 1, 2, 3, 4, 5, 1, 2, 3, 4, 5, 1, 2, 3, 4, 5, 1, 2, 3, 4, 5, 1, 2, 3, 4, 5, 5, 1, 2, 3, 4, 5, 1, 2, 3, 4, 5, 1, 2, 4, 5, 1, 2, 3, 4, 5, 1, 2, 3, 4, 5, 1, 2, 3, 4, 5, 1, 1, 2, 3, 4, 5, 1, 2, 3, 4, 5, 1, 3, 1, 2, 5, 1, 4, 5, 1, 2, 3, 4, 5, 1, 2, 3, 1, 1, 2, 3, 4, 5, 1, 2, 3, 4, 5, 1, 2, 4, 1, 2, 4, 5, 1, 2, 4, 1, 1, 2, 3, 4, 5, 1, 2, 3, 4, 5, 3, 1, 2, 3, 4, 5, 1, 2, 3, 4, 5, 3, 3, 1, 2, 3, 4, 5, 1, 2, 3, 4, 5, 1, 2, 3, 4, 5, 5, 1, 2, 3, 4, 5, 1, 3, 1, 2, 3, 4, 5, 1, 2, 4, 5, 1, 5, 1, 2, 3, 4, 5, 1, 1, 1, 2, 3, 4, 5, 1, 2, 3, 4, 5, 1, 3, 1, 2, 1, 2, 1, 2, 3, 4, 5, 3, 3, 3, 5, 1, 2, 3, 4, 5, 1, 2, 3, 4, 5, 2, 1, 2, 3, 4, 5, 1, 2, 3, 4, 5, 1, 2, 3, 4, 5, 1, 2, 3, 4, 5, 1, 2, 3, 4, 5, 1, 2, 3, 4, 5, 1, 2, 3, 4, 5, 2, 1, 2, 3, 4, 5, 1, 2, 3, 4, 5, 1, 2, 3, 4, 5, 1, 2, 3, 4, 5, 1, 1, 2, 3, 4, 1, 2, 3, 4, 5, 1, 2, 3, 4, 5, 1, 2, 3, 4, 5, 1, 2, 3, 4, 5, 1, 2, 3, 4, 5, 1, 2, 3, 4, 5, 1, 2, 3, 4, 5, 1, 2, 4, 2, 5, 1, 2, 3, 4, 5, 1, 2, 3, 4, 5, 1, 2, 3, 4, 1, 2, 3, 4, 5, 5, 1, 2, 3, 4, 5, 1, 2, 3, 4, 5, 1, 2, 3, 4, 5, 4, 1, 2, 3, 4, 5, 1, 5, 1, 1, 4, 5, 1, 2, 3, 4, 5, 1, 2, 3, 5, 1, 2, 3, 4, 5, 1, 2, 3, 4, 5, 2, 5, 1, 2, 3, 4, 5, 1, 2, 3, 4, 5, 1, 2, 3, 4, 5, 1, 2, 3, 4, 5, 1, 4, 5, 1, 1, 5, 5, 1, 2, 1, 2, 3, 4, 5, 1, 3, 4, 5, 1, 2, 3, 4, 5, 1, 2, 3, 5, 1, 2, 3, 4, 5, 1, 2, 3, 4, 5, 1, 2, 3, 4, 5, 1, 2, 3, 4, 5, 1, 2, 3, 4, 5, 1, 2, 3, 4, 5, 1, 2, 3, 4, 5, 1, 4, 1, 2, 3, 5, 1, 2, 3, 4, 5, 1, 2, 3, 4, 5, 1, 2, 4, 5, 1, 3, 1, 2, 3, 4, 5, 1, 2, 3, 5, 1, 2, 3, 4, 5, 1, 4, 3, 1, 2, 3, 4, 5, 1, 2, 3, 4, 5, 2, 1, 2, 3, 4, 5, 1, 2, 3, 4, 5, 1, 2, 3, 4, 5, 1, 2, 3, 4, 5, 1, 5, 1, 2, 3, 4, 5, 1, 2, 3, 4, 5, 1, 2, 3, 4, 5, 1, 2, 3, 4, 5, 1, 2, 3, 4, 1, 3, 1, 2, 3, 4, 5, 1, 2, 3, 4, 5, 1, 2, 3, 4, 5, 1, 2, 3, 4, 5, 1, 2, 3, 4, 5, 1, 2, 3, 4, 5, 3, 1, 2, 3, 4, 5, 5, 1, 2, 3, 4, 5, 1, 2, 3, 4, 5, 1, 2, 3, 4, 5, 1, 2, 4, 1, 2, 3, 4, 5, 2, 1, 2, 3, 4, 5, 1, 2, 3, 4, 5, 1, 2, 3, 4, 5, 1, 2, 4, 5, 1, 2, 3, 4, 5, 1, 2, 3, 4, 5, 1, 2, 3, 4, 5, 1, 2, 3, 4, 5, 1, 2, 3, 4, 5, 1, 3, 5, 1, 2, 3, 4, 1, 2, 3, 4, 5, 5, 1, 2, 3, 4, 5, 1, 5, 1, 2, 3, 4, 5, 1, 2, 3, 4, 5, 1, 2, 3, 4, 5, 1, 2, 3, 4, 5, 1, 2, 3, 4, 5, 1, 2, 3, 4, 5, 1, 2, 3, 4, 5, 1, 5, 1, 2, 3, 4, 5, 1, 2, 3, 4, 5, 1, 2, 3, 4, 5, 3, 4, 2, 1, 2, 3, 4, 5, 1, 2, 3, 4, 5, 5, 1, 2, 3, 4, 5, 1, 2, 5, 1, 3, 1, 4, 1, 2, 3, 4, 5, 1, 2, 3, 4, 5, 1, 2, 1, 2, 3, 4, 5, 1, 2, 3, 4, 5, 1, 2, 3, 1, 2, 3, 4, 5, 1, 3, 1, 3, 4, 5, 1, 2, 3, 4, 5, 1, 2, 3, 4, 5, 1, 2, 3, 4, 5, 1, 3, 1, 1, 3, 1, 2, 3, 4, 5, 1, 2, 3, 4, 5, 1, 2, 3, 4, 5, 1, 2, 3, 4, 5, 1, 2, 3, 4, 5, 1, 2, 3, 4, 5, 1, 1, 2, 3, 4, 5, 1, 2, 3, 4, 5, 1, 2, 1, 2, 3, 4, 5, 1, 2, 3, 4, 5, 1, 2, 3, 4, 5, 1, 2, 3, 4, 5, 1, 2, 3, 4, 5, 1, 1, 3, 2, 1, 2, 3, 4, 5, 1, 2, 3, 4, 5, 1, 2, 3, 4, 5, 1, 1, 3, 4, 1, 2, 3, 4, 5, 1, 1, 2, 3, 4, 5, 1, 2, 3, 4, 5, 1, 2, 3, 4, 5, 1, 2, 4, 1, 2, 3, 4, 5, 1, 2, 3, 4, 5, 1, 2, 3, 4, 5, 1, 2, 3, 4, 5, 1, 3, 4, 1, 2, 3, 4, 5, 1, 4, 1, 5, 1, 2, 3, 4, 5, 1, 2, 3, 4, 5, 5, 1, 2, 3, 4, 5, 1, 2, 3, 4, 5, 1, 2, 3, 4, 5, 1, 3, 1, 2, 3, 4, 5, 1, 2, 3, 4, 5, 2, 1, 3, 1, 2, 3, 4, 5, 1, 2, 2, 1, 2, 3, 4, 5, 1, 2, 3, 4, 5, 2, 2, 2, 1, 2, 3, 4, 5, 1, 4, 1, 2, 3, 4, 1, 2, 3, 4, 5, 1, 2, 4, 1, 2, 3, 4, 5, 1, 2, 3, 4, 5, 1, 2, 3, 4, 5, 1, 2, 3, 4, 1, 2, 3, 4, 5, 1, 2, 3, 4, 5, 1, 3, 5, 1, 2, 5, 1, 1, 2, 3, 4, 5, 1, 2, 3, 4, 5, 1, 2, 3, 4, 5, 1, 2, 3, 4, 5, 2, 5, 1, 2, 3, 4, 1, 2, 3, 4, 5, 1, 2, 3, 4, 5, 1, 5, 1, 2, 1, 2, 1, 2, 3, 4, 5], \"Freq\": [0.6557225121571244, 0.21857417071904148, 0.3787012181538413, 0.17312055687032743, 0.21021781905682618, 0.14684332948822415, 0.09119743620847606, 0.3394049861302016, 0.22693942859593358, 0.1697024930651008, 0.151627671318522, 0.11146140077056915, 0.4708913309859199, 0.1475081277787219, 0.13899804348379563, 0.15176316992618502, 0.09077423247921348, 0.34062389336810384, 0.18865323325002673, 0.18865323325002673, 0.15197066011807708, 0.12969909785939338, 0.3007965217472585, 0.3007965217472585, 0.3007965217472585, 0.5616070849617995, 0.40537414181186865, 0.15349117990934832, 0.16923386502825583, 0.12987715223098703, 0.14037227564359206, 0.6526521259157878, 0.07251690287953198, 0.14503380575906397, 0.07251690287953198, 0.14503380575906397, 0.32550881882327976, 0.23486079332818918, 0.1497065875600738, 0.16618804674099935, 0.12361094385694167, 0.5924089049157258, 0.3959859510061893, 0.20422519991360366, 0.11697405816647723, 0.12752089947656942, 0.15532620838499434, 0.3876085596672671, 0.14987530973800994, 0.21189267928477268, 0.16021153799580373, 0.0930260543201441, 0.41160249562126183, 0.16768990562347705, 0.14397618159591463, 0.1880159547899591, 0.08807954638808896, 0.5562849373509057, 0.1854283124503019, 0.1854283124503019, 0.5923640111277275, 0.3179214453189794, 0.1589607226594897, 0.1589607226594897, 0.1589607226594897, 0.3179214453189794, 0.28708668247952324, 0.28708668247952324, 0.28708668247952324, 0.28708668247952324, 0.3836873186068923, 0.3836873186068923, 0.3949313877427383, 0.17904920428751087, 0.1432393634300087, 0.17802606597729653, 0.10538324595207782, 0.36903033578725225, 0.2287057753303349, 0.15195366767710386, 0.14342565571563373, 0.10776306024039509, 0.38675042061932297, 0.19337521030966148, 0.19337521030966148, 0.38675042061932297, 0.2827785241874029, 0.11311140967496117, 0.3958899338623641, 0.11311140967496117, 0.11311140967496117, 0.3200032050627908, 0.2021072874080784, 0.1473698970683905, 0.17052802375056614, 0.1600016025313954, 0.22353738908172813, 0.44707477816345625, 0.22353738908172813, 0.22353738908172813, 0.5893053898710856, 0.5936007256679424, 0.44670541973877714, 0.1671185169590106, 0.12514087999774254, 0.15523805366808566, 0.10534010784620099, 0.38428705975971383, 0.16149486867202698, 0.146170538068112, 0.14734933272995163, 0.16031607401018735, 0.3566546794321039, 0.2491095760956541, 0.15583065993648848, 0.14595406881375328, 0.09218151714552839, 0.30721460189959765, 0.16949771139288144, 0.2648401740513773, 0.13771689050671618, 0.116529676582606, 0.38860970840315096, 0.16192071183464624, 0.2698678530577437, 0.10794714122309748, 0.07556299885616824, 0.31558505740958226, 0.07889626435239556, 0.3944813217619778, 0.07889626435239556, 0.07889626435239556, 0.5884469955786354, 0.19056865283202076, 0.19056865283202076, 0.3811373056640415, 0.19056865283202076, 0.19056865283202076, 0.35014983634643027, 0.13755886427895475, 0.15006421557704153, 0.15006421557704153, 0.21259097206747551, 0.1799496440670452, 0.1799496440670452, 0.449874110167613, 0.1799496440670452, 0.5852734115828936, 0.11705468231657871, 0.1365637960360085, 0.09754556859714893, 0.05852734115828936, 0.3488688071530689, 0.16280544333809882, 0.13954752286122757, 0.06977376143061378, 0.2558371252455839, 0.37123071413462816, 0.2353337562817732, 0.10606591832417947, 0.15246975759100798, 0.13589695785285494, 0.6276141596909347, 0.4848820259622822, 0.18288485109664337, 0.1301802830572649, 0.10909845584151348, 0.09328708542969993, 0.36065604303071624, 0.20955549900867304, 0.1516520058615397, 0.1659900136884489, 0.11249821525728763, 0.36333300657958517, 0.36333300657958517, 0.2905984229768659, 0.2905984229768659, 0.2905984229768659, 0.29326986414727874, 0.29326986414727874, 0.29326986414727874, 0.5783692911004216, 0.0771159054800562, 0.23134771644016863, 0.0385579527400281, 0.0771159054800562, 0.22572403422182008, 0.45144806844364016, 0.22572403422182008, 0.6268705232468179, 0.3103252251718828, 0.17732870009821874, 0.08866435004910937, 0.17732870009821874, 0.2659930501473281, 0.3560652255677609, 0.22805830563224352, 0.13536363947204133, 0.14860573463778448, 0.13242095165743173, 0.21467771209276115, 0.4293554241855223, 0.21467771209276115, 0.2910183950871185, 0.2910183950871185, 0.2910183950871185, 0.2910183950871185, 0.2901735202124523, 0.2901735202124523, 0.2901735202124523, 0.4686895504021296, 0.283172597983704, 0.20765990518804958, 0.15641914936242696, 0.1699035587902224, 0.18069108633245873, 0.24597569717750925, 0.1639837981183395, 0.1639837981183395, 0.327967596236679, 0.08199189905916975, 0.39778856201679424, 0.2187740807662961, 0.10938704038314805, 0.3281611211494442, 0.10938704038314805, 0.2187740807662961, 0.2152708765825919, 0.10763543829129595, 0.4305417531651838, 0.10763543829129595, 0.10763543829129595, 0.590273281315821, 0.4051322499237806, 0.3562502767207444, 0.21790065469327086, 0.21790065469327086, 0.11759717872335253, 0.09338599486854465, 0.30378552476262327, 0.1215142099050493, 0.30378552476262327, 0.1215142099050493, 0.15189276238131164, 0.4130797542931586, 0.1474060533992184, 0.2125389607151521, 0.10455545648084096, 0.12340971912492704, 0.5883971009689893, 0.32327920412599404, 0.1774389616631396, 0.16285493741685414, 0.20660701015571048, 0.12882554750885478, 0.3767526741718552, 0.3767526741718552, 0.28457107140883103, 0.14228553570441552, 0.1626120408050463, 0.1829385459056771, 0.22359155610693865, 0.22882979527243502, 0.22882979527243502, 0.45765959054487004, 0.22882979527243502, 0.570456528659287, 0.570456528659287, 0.23086969680233754, 0.13852181808140254, 0.23086969680233754, 0.32321757552327257, 0.046173939360467514, 0.6626942146304736, 0.6050415897432161, 0.3362429282890972, 0.16618903352219747, 0.15845931103279293, 0.22029709094802918, 0.11981069858577026, 0.3338513928816801, 0.18257498048216877, 0.15857941161879802, 0.17735855246839252, 0.14814655559124554, 0.37962096490865077, 0.37962096490865077, 0.2796559466823611, 0.5593118933647222, 0.27988912847522807, 0.5597782569504561, 0.424456756066534, 0.19906692823275432, 0.19413138455756207, 0.08719460492839652, 0.09542051105371695, 0.40303016866384983, 0.5906026370665012, 0.49703879989891603, 0.24851939994945801, 0.3893226207031951, 0.1634950638123654, 0.13590527179402875, 0.1767790377471201, 0.13488342764520145, 0.47381967814213843, 0.14746428758505328, 0.11603747219807473, 0.15713407693489284, 0.10878513018569505, 0.5529223463696079, 0.373627122335266, 0.2066429335820745, 0.13609211383385109, 0.1749159377189681, 0.1081222622176915, 0.3857254860100752, 0.25715032400671683, 0.1296835685723529, 0.13522560141732523, 0.09199774522654093, 0.6270579806470299, 0.07838224758087874, 0.07838224758087874, 0.07838224758087874, 0.07838224758087874, 0.16864877159603095, 0.16864877159603095, 0.16864877159603095, 0.3372975431920619, 0.16864877159603095, 0.4709473456916379, 0.17304576888204368, 0.1270462606982093, 0.14456988286347955, 0.08323720528503367, 0.2770809399236784, 0.3879133158931497, 0.055416187984735674, 0.166248563954207, 0.11083237596947135, 0.3703745980323591, 0.09259364950808978, 0.09259364950808978, 0.09259364950808978, 0.2777809485242693, 0.565700544271038, 0.4325981323800802, 0.1788479911253335, 0.13157850234664575, 0.13228401710453663, 0.12475852635370076, 0.38672282131533503, 0.20067233752738375, 0.12756306883022134, 0.17495804302010592, 0.11042020582536945, 0.38293146718770027, 0.2213398196865076, 0.1710970385306746, 0.11406469235378305, 0.10999095334114795, 0.3571033758080815, 0.1920969883657266, 0.13668439556792086, 0.16131221458916786, 0.15330817340726258, 0.6058470712717902, 0.3301063602039625, 0.11003545340132084, 0.11003545340132084, 0.3301063602039625, 0.6264963613958715, 0.05966632013294014, 0.13424922029911532, 0.0447497400997051, 0.13424922029911532, 0.5955951171004132, 0.05414501064549212, 0.16243503193647635, 0.05414501064549212, 0.10829002129098424, 0.25475852541391253, 0.15922407838369532, 0.15922407838369532, 0.19106889406043437, 0.25475852541391253, 0.3636184759511416, 0.15372488414194604, 0.14781238859802506, 0.16850612300174855, 0.16850612300174855, 0.3932446301545503, 0.12337086436221185, 0.14136244874836776, 0.1696349384980413, 0.1722051648389207, 0.36057970350750623, 0.1708009121877661, 0.19167657923293752, 0.1461296693161999, 0.13094736601062068, 0.4578680316939267, 0.1451776685858792, 0.14765933813435575, 0.1364918251662112, 0.11167512968144554, 0.6130721155534739, 0.15326802888836846, 0.15326802888836846, 0.6043933603028647, 0.6043933603028647, 0.6158938061429172, 0.12317876122858346, 0.06158938061429173, 0.12317876122858346, 0.06158938061429173, 0.3872552762682914, 0.19197270105607608, 0.16880358196310138, 0.14894433702626594, 0.10315774453300641, 0.23456381939225074, 0.23456381939225074, 0.4691276387845015, 0.23456381939225074, 0.35614899170482367, 0.17807449585241183, 0.09588626699745252, 0.13698038142493216, 0.2328666484223847, 0.5861337288572592, 0.3982384923661073, 0.193737644934863, 0.16340498335415213, 0.146770943132472, 0.09784729542164798, 0.398900626219681, 0.18438884781779305, 0.15198387703793337, 0.1401172680199566, 0.1245993946887562, 0.3013365612820815, 0.334818401424535, 0.1674092007122675, 0.1004455204273605, 0.06696368028490701, 0.58025841880182, 0.4275544355144778, 0.17320968602931938, 0.1422142685293359, 0.15406545757344722, 0.10301418169112152, 0.4013683706804001, 0.4013683706804001, 0.6199865208004554, 0.23313518356022275, 0.4662703671204455, 0.23313518356022275, 0.38394758797751877, 0.24337661314421957, 0.14057097483329922, 0.11539408381837997, 0.11539408381837997, 0.21989880877482348, 0.43979761754964697, 0.21989880877482348, 0.21989880877482348, 0.5476595883828238, 0.15463329554338553, 0.09020275573364156, 0.11597497165753914, 0.09020275573364156, 0.3996979327209141, 0.33308161060076175, 0.06661632212015235, 0.09992448318022852, 0.09992448318022852, 0.6049147755516006, 0.6049147755516006, 0.4036155087682435, 0.13914598589955426, 0.170476870141838, 0.18061333269081215, 0.10597210846654795, 0.24810876464254983, 0.12405438232127491, 0.12405438232127491, 0.37216314696382474, 0.12405438232127491, 0.32940688244297883, 0.16019101817432532, 0.13086026836775871, 0.16019101817432532, 0.21885251778745857, 0.36837490014677365, 0.16892931811464473, 0.17328878438857104, 0.18309758350490524, 0.10680692371119473, 0.3910847928998891, 0.3910847928998891, 0.3910847928998891, 0.7015713324132933, 0.5627733994646238, 0.5627733994646238, 0.5929876921917818, 0.3747838745552225, 0.3747838745552225, 0.27152653589715736, 0.038789505128165334, 0.34910554615348804, 0.15515802051266134, 0.19394752564082668, 0.19400578241967747, 0.38801156483935495, 0.19400578241967747, 0.19400578241967747, 0.3462399507140557, 0.23996828267310794, 0.1062716680409478, 0.1594075020614217, 0.1474090879277663, 0.5988705292148573, 0.11977410584297145, 0.11977410584297145, 0.11977410584297145, 0.32551498541789675, 0.20130531992948877, 0.11136038974822784, 0.22700387140984907, 0.1370589412285881, 0.5888253619720487, 0.13854714399342322, 0.10391035799506741, 0.10391035799506741, 0.034636785998355804, 0.3817818541216167, 0.15048335855888542, 0.1658103673009941, 0.15884354514549015, 0.14490990083448224, 0.1452640270463452, 0.4357920811390356, 0.1452640270463452, 0.2905280540926904, 0.1452640270463452, 0.28361879231582976, 0.11344751692633191, 0.11344751692633191, 0.3403425507789957, 0.11344751692633191, 0.19534154464495085, 0.19534154464495085, 0.19534154464495085, 0.19534154464495085, 0.19534154464495085, 0.16759895545519488, 0.16759895545519488, 0.16759895545519488, 0.33519791091038975, 0.16759895545519488, 0.3652109131646736, 0.3652109131646736, 0.1967026274228719, 0.3934052548457438, 0.26227016989716256, 0.06556754247429064, 0.397283178400891, 0.1951412968797328, 0.14263691206904236, 0.1513876428708241, 0.11288442734298444, 0.316667991478204, 0.316667991478204, 0.158333995739102, 0.158333995739102, 0.158333995739102, 0.2227680162373612, 0.4455360324747224, 0.2227680162373612, 0.2227680162373612, 0.38609233722597064, 0.38609233722597064, 0.3509488138079288, 0.17417459648245356, 0.1507780088952583, 0.20926947786324646, 0.11438331709295459, 0.5475326877890392, 0.1368831719472598, 0.1368831719472598, 0.1368831719472598, 0.16016005694951893, 0.16016005694951893, 0.24024008542427838, 0.32032011389903786, 0.12012004271213919, 0.384850509135326, 0.384850509135326, 0.4058078049405007, 0.3329814535503465, 0.18407514061434882, 0.18183032182636896, 0.1548924963706106, 0.14591322121869113, 0.3759314779238205, 0.16832301704466882, 0.15260883951087567, 0.1876635432401065, 0.11574096145082254, 0.555760058279457, 0.4271194408677742, 0.15083095766617768, 0.12757197821298208, 0.16281285617236937, 0.13321051868648404, 0.314739861554253, 0.20060342824337005, 0.1279711525000809, 0.18331002925687262, 0.17293398986497416, 0.3752956736466264, 0.2300613889820073, 0.13623747057035068, 0.13623747057035068, 0.12338487900711005, 0.43192339807312463, 0.18985643871346136, 0.14808802219649986, 0.13005166051872102, 0.09967463032456722, 0.5719208820946801, 0.5719208820946801, 0.437056700141113, 0.18665963235193367, 0.14568556671370433, 0.11771914096062716, 0.11251608500656629, 0.387789316037833, 0.2183909852632764, 0.14614757949177432, 0.15694257115878038, 0.09051185320797388, 0.4294481992293904, 0.15939135086783143, 0.11562066902329741, 0.1618689366326164, 0.13296376937679202, 0.23208877630909377, 0.23208877630909377, 0.11604438815454689, 0.3481331644636407, 0.11604438815454689, 0.5402075224501641, 0.13505188061254103, 0.13505188061254103, 0.13505188061254103, 0.8248214552540754, 0.09164682836156393, 0.5810349614061981, 0.11620699228123962, 0.07747132818749308, 0.03873566409374654, 0.15494265637498617, 0.29468160179402886, 0.09822720059800961, 0.09822720059800961, 0.19645440119601923, 0.29468160179402886, 0.3539346141054886, 0.19820338389907363, 0.11325907651375636, 0.11325907651375636, 0.21236076846329316, 0.2907462003003207, 0.3876616004004276, 0.0969154001001069, 0.1938308002002138, 0.0969154001001069, 0.3391961564554593, 0.16959807822772965, 0.08479903911386483, 0.3391961564554593, 0.08479903911386483, 0.32270730430841715, 0.23200038634064585, 0.1657145616718899, 0.1744363807072525, 0.10466182842435151, 0.571474418369538, 0.3600668474198616, 0.1800334237099308, 0.0900167118549654, 0.3600668474198616, 0.0900167118549654, 0.5835273549348976, 0.31549068901172655, 0.15947880983010354, 0.2634867292845189, 0.15947880983010354, 0.10400791945441534, 0.24199493539447406, 0.16132995692964938, 0.08066497846482469, 0.32265991385929876, 0.08066497846482469, 0.39625403563636336, 0.24609461160574145, 0.12513285335885158, 0.1293039484708133, 0.10427737779904299, 0.35986777286244337, 0.17993388643122168, 0.35986777286244337, 0.2366763754864559, 0.2366763754864559, 0.11833818774322795, 0.11833818774322795, 0.2366763754864559, 0.5566811323656248, 0.4083641731632048, 0.16802484208277696, 0.200315001608466, 0.11968627991857186, 0.10344452303139894, 0.4392953408489775, 0.17483660722751948, 0.11753721494287024, 0.13590240477769372, 0.13296397440412194, 0.2615357731140545, 0.18888694724903937, 0.14529765173003029, 0.18888694724903937, 0.21794647759504543, 0.2959944121982369, 0.14799720609911846, 0.14799720609911846, 0.2959944121982369, 0.28245462749594935, 0.10592048531098101, 0.14122731374797468, 0.3530682843699367, 0.10592048531098101, 0.3237867911133279, 0.41629730285999306, 0.13876576761999768, 0.09251051174666512, 0.04625525587333256, 0.32671505381965427, 0.16335752690982713, 0.32671505381965427, 0.16335752690982713, 0.16335752690982713, 0.41765544267066984, 0.17058088592593293, 0.1285093669755907, 0.1973536707125143, 0.08567291131706048, 0.4190547985966563, 0.1718779447369098, 0.1702410119298916, 0.13586542298250964, 0.10312676684214588, 0.4581376551269919, 0.22906882756349595, 0.4581376551269919, 0.12983175699725355, 0.2596635139945071, 0.12983175699725355, 0.3894952709917606, 0.315971019488883, 0.2294224358897542, 0.1882088246520738, 0.1387524911668573, 0.12776219483680923, 0.5846915770618847, 0.6242433150585952, 0.10404055250976586, 0.10404055250976586, 0.10404055250976586, 0.10404055250976586, 0.5802993845030971, 0.5802993845030971, 0.35149095387463236, 0.17420384994663798, 0.1896201198534201, 0.16649571499324692, 0.11716365129154412, 0.32806140871633976, 0.19048726957722953, 0.1322828260952983, 0.15873939131435794, 0.19577858262104147, 0.21090739369722133, 0.42181478739444267, 0.07030246456574045, 0.1406049291314809, 0.1406049291314809, 0.2235886963315111, 0.16769152224863332, 0.33538304449726664, 0.16769152224863332, 0.11179434816575555, 0.6334706566603878, 0.15836766416509696, 0.06334706566603879, 0.09502059849905818, 0.06334706566603879, 0.2355840769630687, 0.2355840769630687, 0.2355840769630687, 0.4711681539261374, 0.2355840769630687, 0.6138049614767375, 0.08006151671435706, 0.09340510283341658, 0.1200922750715356, 0.10674868895247608, 0.5783366218141892, 0.5783366218141892, 0.32409146093290164, 0.3490215733123556, 0.09972044951781589, 0.12465056189726988, 0.09972044951781589, 0.4797964360293732, 0.1513643518425999, 0.14279655834207536, 0.1199491090073433, 0.10566945317313577, 0.2902789274508119, 0.1969749864844795, 0.20215853876038686, 0.20215853876038686, 0.10885459779405446, 0.5925416741233586, 0.5840481886007456, 0.5668366632450297, 0.3204178852847693, 0.18933784130463638, 0.1995329558364245, 0.19079428623774897, 0.09903825545165595, 0.34738863978358586, 0.23678841045077753, 0.17443660331013391, 0.1313841650463562, 0.10985794591446732, 0.5876776725800017, 0.5169816440671032, 0.1404147675243984, 0.1340322780914712, 0.1340322780914712, 0.0765898731951264, 0.2974247378791892, 0.2974247378791892, 0.2974247378791892, 0.7135498325868717, 0.17838745814671791, 0.29045768478288153, 0.29045768478288153, 0.1160581470753005, 0.464232588301202, 0.1160581470753005, 0.1160581470753005, 0.1160581470753005, 0.4072719019658131, 0.13575730065527103, 0.13575730065527103, 0.4072719019658131, 0.13575730065527103, 0.37413977491100897, 0.37413977491100897, 0.41048772182741633, 0.16676063699238788, 0.1296277016297104, 0.1674357812717093, 0.12557683595378197, 0.3074215065191793, 0.20494767101278621, 0.10247383550639311, 0.3074215065191793, 0.10247383550639311, 0.22351109360123728, 0.44702218720247455, 0.22351109360123728, 0.41149563525944316, 0.1839627545865746, 0.13797206593993094, 0.17428050434517595, 0.0919813772932873, 0.6052135052904577, 0.30260675264522885, 0.2895321281837481, 0.2895321281837481, 0.14476606409187406, 0.14476606409187406, 0.6026814180159812, 0.08609734543085446, 0.1721946908617089, 0.08609734543085446, 0.08609734543085446, 0.28315854855138994, 0.14157927427569497, 0.14157927427569497, 0.14157927427569497, 0.28315854855138994, 0.290589710589955, 0.19026707241008958, 0.19026707241008958, 0.21448288162591916, 0.11761964476260083, 0.7340783556208997, 0.12234639260348329, 0.4660946670841333, 0.3841103703061944, 0.3841103703061944, 0.4584932306694118, 0.13522974500080964, 0.1687152056676768, 0.11333540533401189, 0.12363862400074024, 0.34690561646497825, 0.16306162617247827, 0.21182024968483695, 0.13748333187091305, 0.13988129696168478, 0.44739476513883186, 0.1761972124049483, 0.1656416190350666, 0.11123971474413787, 0.09906018393273591, 0.32635502081945017, 0.17207810188661918, 0.1602106465840937, 0.16317751040972509, 0.1780118295378819, 0.34276517422621633, 0.1678849832944733, 0.15389456801993387, 0.24483226730444024, 0.08394249164723665, 0.5017633353498939, 0.11107737958127424, 0.14937992426447225, 0.15321017873279205, 0.08426559830303564, 0.46586101486571363, 0.45469208199466143, 0.16480364901501418, 0.1434621692864512, 0.13753398047296148, 0.09959357206662728, 0.4285705333484581, 0.17504993615641246, 0.16197149265047361, 0.13179046917523007, 0.102615479815828, 0.3696889407564805, 0.3696889407564805, 0.2792813083411204, 0.1396406541705602, 0.4189219625116807, 0.1396406541705602, 0.1396406541705602, 0.2453729518018028, 0.4907459036036056, 0.1226864759009014, 0.1226864759009014, 0.1226864759009014, 0.22445198900900934, 0.22445198900900934, 0.11222599450450467, 0.336677983513514, 0.11222599450450467, 0.40268605965756354, 0.20730874923111606, 0.1193143880466855, 0.18046301192061182, 0.08948579103501413, 0.5017031727380123, 0.1505109518214037, 0.14110401733256597, 0.12229014835489051, 0.08466241039953959, 0.4715725583320534, 0.5532677733797436, 0.5532677733797436, 0.5632124373247561, 0.35256020059826326, 0.1510972288278271, 0.3021944576556542, 0.10073148588521808, 0.07554861441391356, 0.23590101358413423, 0.11795050679206712, 0.11795050679206712, 0.23590101358413423, 0.3538515203762014, 0.4275699256081355, 0.1926521963659645, 0.15923293781268497, 0.12188200178254897, 0.09927485629062457, 0.6940530979791483, 0.2971008135998097, 0.2971008135998097, 0.2971008135998097, 0.36003624680118773, 0.33234115089340405, 0.11078038363113468, 0.09693283567724284, 0.09693283567724284, 0.6111287232833154, 0.3667992646362322, 0.14409971110709122, 0.11789976363307463, 0.1309997373700829, 0.23579952726614925, 0.23005672993298992, 0.17254254744974243, 0.3738421861411086, 0.11502836496649496, 0.11502836496649496, 0.3833399270429901, 0.12672394282412897, 0.22968714636873375, 0.15206873138895474, 0.10929940068581123, 0.3848476254030884, 0.3848476254030884, 0.12828254180102946, 0.5908741248775046, 0.05908741248775046, 0.17726223746325137, 0.05908741248775046, 0.05908741248775046, 0.39156092260531633, 0.18040503240454364, 0.13632880289661536, 0.16502960350642915, 0.12607851696453903, 0.39405440395447494, 0.22304966261574055, 0.138786456738683, 0.1402734544894546, 0.10359417663708839, 0.6470955811724725, 0.1437990180383272, 0.0718995090191636, 0.0718995090191636, 0.0718995090191636, 0.6190963167291005, 0.30954815836455024, 0.5854169380553284, 0.43910094938553806, 0.17957954394395356, 0.14829794596661972, 0.11701634798928587, 0.11585777028642165, 0.3855976125320153, 0.3855976125320153, 0.3901388464522906, 0.3901388464522906, 0.20169309930575322, 0.18046224674725286, 0.15923139418875254, 0.20169309930575322, 0.25477023070200405, 0.23647356859707497, 0.23647356859707497, 0.23647356859707497, 0.47294713719414994, 0.23647356859707497, 0.5862947699375519, 0.37610671405947055, 0.2143058199769063, 0.17573077238106316, 0.12429737558660565, 0.10929596818822221, 0.3955823328386983, 0.23970717519695958, 0.12574802633283125, 0.12050852523562995, 0.1178887746870293, 0.36851701588622493, 0.19637238908816138, 0.13389026528738276, 0.17597006294913164, 0.12496424760155725, 0.38347533509897025, 0.38347533509897025, 0.3835385563098344, 0.17412878075787733, 0.1479525588138827, 0.18778594003300497, 0.1069810809884998, 0.19145174583462254, 0.3829034916692451, 0.19145174583462254, 0.19145174583462254, 0.19145174583462254, 0.5652034435692228, 0.37065606671471407, 0.37065606671471407, 0.40986376702227795, 0.18466895570329603, 0.13585372052985617, 0.15519560616461536, 0.11420922946238757, 0.27218070652015675, 0.5443614130403135, 0.5696319593537036, 0.324457770183903, 0.1946746621103418, 0.1297831080735612, 0.2595662161471224, 0.08652207204904079, 0.3346197468858931, 0.15111859536782266, 0.1835011515180704, 0.07555929768391133, 0.25906044920198174, 0.5665771325869409, 0.5647105523648291, 0.5541240180772492, 0.2679346253998714, 0.11908205573327618, 0.27537725388320117, 0.18606571208324404, 0.15629519814992499, 0.5614259762959055, 0.5614259762959055, 0.27366722712511427, 0.13683361356255713, 0.13683361356255713, 0.4105008406876714, 0.46644856533862306, 0.1411746169123031, 0.1545289725661696, 0.1430823820057126, 0.09538825467047507, 0.43958048162997015, 0.21979024081498508, 0.43958048162997015, 0.24264755309081443, 0.24264755309081443, 0.1039918084674919, 0.13865574462332253, 0.27731148924664506, 0.4311874993967399, 0.17659343318274587, 0.1322890736209969, 0.14040113945624672, 0.11918496727174721, 0.22230465044401965, 0.13338279026641178, 0.4001483707992354, 0.17784372035521573, 0.08892186017760786, 0.19300203866739551, 0.19300203866739551, 0.38600407733479103, 0.19300203866739551, 0.3890171747817694, 0.22096175527604503, 0.11950607609295956, 0.1705451294243277, 0.09958839674413297, 0.24948833308848312, 0.14256476176484748, 0.17820595220605936, 0.32077071397090684, 0.10692357132363561, 0.2895254520880643, 0.2895254520880643, 0.2895254520880643, 0.28996784999413067, 0.28996784999413067, 0.28996784999413067, 0.7043282536901883, 0.3123964419515628, 0.2486420660430806, 0.1530105021803573, 0.1700116690892859, 0.11475787663526797, 0.3698695403377613, 0.11768576283474223, 0.16812251833534606, 0.12609188875150953, 0.21855927383594986, 0.3624413626064311, 0.20573877347953295, 0.14071252901190853, 0.18015467729554957, 0.11086441679726128, 0.33837440086529996, 0.1931934923859314, 0.13603565440192802, 0.1714735139520101, 0.1611851031148895, 0.6032308308895524, 0.6032308308895524, 0.31761002396046867, 0.15880501198023433, 0.47641503594070306, 0.15880501198023433, 0.3801972804826892, 0.176243054217923, 0.14853188217107974, 0.14631498840733229, 0.1496403290529535, 0.3588990953565054, 0.21418171819662418, 0.20549867556703133, 0.13892868207348597, 0.0839360787527311, 0.5806740754959949, 0.5806740754959949, 0.37087921717451017, 0.37087921717451017, 0.3704230774972354, 0.3704230774972354, 0.31675540026829124, 0.2058910101743893, 0.15837770013414562, 0.2692420902280475, 0.06335108005365825], \"Term\": [\"abbe\", \"abbe\", \"acting\", \"acting\", \"acting\", \"acting\", \"acting\", \"action\", \"action\", \"action\", \"action\", \"action\", \"actors\", \"actors\", \"actors\", \"actors\", \"actors\", \"actually\", \"actually\", \"actually\", \"actually\", \"actually\", \"adaptions\", \"adaptions\", \"adaptions\", \"adrianne\", \"almost\", \"almost\", \"almost\", \"almost\", \"almost\", \"althea\", \"althea\", \"althea\", \"althea\", \"althea\", \"although\", \"although\", \"although\", \"although\", \"although\", \"amourous\", \"another\", \"another\", \"another\", \"another\", \"another\", \"anyone\", \"anyone\", \"anyone\", \"anyone\", \"anyone\", \"anything\", \"anything\", \"anything\", \"anything\", \"anything\", \"apaches\", \"apaches\", \"apaches\", \"ardour\", \"arraki\", \"arraki\", \"arraki\", \"arraki\", \"arraki\", \"asbestos\", \"asbestos\", \"asbestos\", \"asbestos\", \"aux\", \"aux\", \"back\", \"back\", \"back\", \"back\", \"back\", \"bad\", \"bad\", \"bad\", \"bad\", \"bad\", \"baptist\", \"baptist\", \"baptist\", \"baptist\", \"beavis\", \"beavis\", \"beavis\", \"beavis\", \"beavis\", \"becomes\", \"becomes\", \"becomes\", \"becomes\", \"becomes\", \"begrudgingly\", \"begrudgingly\", \"begrudgingly\", \"begrudgingly\", \"belittling\", \"beryl\", \"best\", \"best\", \"best\", \"best\", \"best\", \"better\", \"better\", \"better\", \"better\", \"better\", \"big\", \"big\", \"big\", \"big\", \"big\", \"blade\", \"blade\", \"blade\", \"blade\", \"blade\", \"blair\", \"blair\", \"blair\", \"blair\", \"blair\", \"bookseller\", \"bookseller\", \"bookseller\", \"bookseller\", \"bookseller\", \"bouchez\", \"breillat\", \"breillat\", \"breillat\", \"breillat\", \"breillat\", \"bugs\", \"bugs\", \"bugs\", \"bugs\", \"bugs\", \"bulow\", \"bulow\", \"bulow\", \"bulow\", \"bulworth\", \"bulworth\", \"bulworth\", \"bulworth\", \"bulworth\", \"buzz\", \"buzz\", \"buzz\", \"buzz\", \"buzz\", \"cant\", \"cant\", \"cant\", \"cant\", \"cant\", \"carin\", \"character\", \"character\", \"character\", \"character\", \"character\", \"characters\", \"characters\", \"characters\", \"characters\", \"characters\", \"chins\", \"chins\", \"chisolm\", \"chisolm\", \"chisolm\", \"chows\", \"chows\", \"chows\", \"chucky\", \"chucky\", \"chucky\", \"chucky\", \"chucky\", \"clubber\", \"clubber\", \"clubber\", \"coinciding\", \"col\", \"col\", \"col\", \"col\", \"col\", \"comes\", \"comes\", \"comes\", \"comes\", \"comes\", \"contagion\", \"contagion\", \"contagion\", \"copolla\", \"copolla\", \"copolla\", \"copolla\", \"copollas\", \"copollas\", \"copollas\", \"coulmier\", \"couple\", \"couple\", \"couple\", \"couple\", \"couple\", \"cousins\", \"cousins\", \"cousins\", \"cousins\", \"cousins\", \"cringeworthy\", \"cy\", \"cy\", \"cy\", \"cy\", \"cy\", \"cyborsuit\", \"cyborsuit\", \"cyborsuit\", \"cyborsuit\", \"cyborsuit\", \"dangle\", \"dann\", \"dark\", \"dark\", \"dark\", \"dark\", \"dark\", \"data\", \"data\", \"data\", \"data\", \"data\", \"day\", \"day\", \"day\", \"day\", \"day\", \"deadweight\", \"death\", \"death\", \"death\", \"death\", \"death\", \"dellaplanes\", \"dellaplanes\", \"derek\", \"derek\", \"derek\", \"derek\", \"derek\", \"dershowitz\", \"dershowitz\", \"dershowitz\", \"dershowitz\", \"destabilize\", \"destabilize\", \"deuce\", \"deuce\", \"deuce\", \"deuce\", \"deuce\", \"dietz\", \"dietzs\", \"direction\", \"direction\", \"direction\", \"direction\", \"direction\", \"director\", \"director\", \"director\", \"director\", \"director\", \"dorians\", \"dorians\", \"dotcom\", \"dotcom\", \"downstairs\", \"downstairs\", \"effects\", \"effects\", \"effects\", \"effects\", \"effects\", \"emile\", \"emiles\", \"emmannuelle\", \"emmannuelle\", \"end\", \"end\", \"end\", \"end\", \"end\", \"ending\", \"ending\", \"ending\", \"ending\", \"ending\", \"establishments\", \"even\", \"even\", \"even\", \"even\", \"even\", \"every\", \"every\", \"every\", \"every\", \"every\", \"failsafe\", \"failsafe\", \"failsafe\", \"failsafe\", \"failsafe\", \"farrell\", \"farrell\", \"farrell\", \"farrell\", \"farrell\", \"feel\", \"feel\", \"feel\", \"feel\", \"feel\", \"feihong\", \"feihong\", \"feihong\", \"feihong\", \"feihong\", \"fern\", \"fern\", \"fern\", \"fern\", \"fern\", \"fightrocky\", \"film\", \"film\", \"film\", \"film\", \"film\", \"films\", \"films\", \"films\", \"films\", \"films\", \"find\", \"find\", \"find\", \"find\", \"find\", \"first\", \"first\", \"first\", \"first\", \"first\", \"firsttier\", \"flanagan\", \"flanagan\", \"flanagan\", \"flanagan\", \"flynt\", \"flynt\", \"flynt\", \"flynt\", \"flynt\", \"flynts\", \"flynts\", \"flynts\", \"flynts\", \"flynts\", \"frankenstein\", \"frankenstein\", \"frankenstein\", \"frankenstein\", \"frankenstein\", \"friend\", \"friend\", \"friend\", \"friend\", \"friend\", \"friends\", \"friends\", \"friends\", \"friends\", \"friends\", \"fun\", \"fun\", \"fun\", \"fun\", \"fun\", \"funny\", \"funny\", \"funny\", \"funny\", \"funny\", \"gallos\", \"gallos\", \"gallos\", \"geologic\", \"geologic\", \"geronimo\", \"geronimo\", \"geronimo\", \"geronimo\", \"geronimo\", \"get\", \"get\", \"get\", \"get\", \"get\", \"gevedon\", \"gevedon\", \"gevedon\", \"gevedon\", \"gibson\", \"gibson\", \"gibson\", \"gibson\", \"gibson\", \"glitteratti\", \"go\", \"go\", \"go\", \"go\", \"go\", \"good\", \"good\", \"good\", \"good\", \"good\", \"gorilla\", \"gorilla\", \"gorilla\", \"gorilla\", \"gorilla\", \"grates\", \"great\", \"great\", \"great\", \"great\", \"great\", \"grouptherapy\", \"grouptherapy\", \"guginos\", \"halloweentown\", \"halloweentown\", \"halloweentown\", \"hard\", \"hard\", \"hard\", \"hard\", \"hard\", \"hardball\", \"hardball\", \"hardball\", \"hardball\", \"harry\", \"harry\", \"harry\", \"harry\", \"harry\", \"hedwig\", \"hedwig\", \"hedwig\", \"hedwig\", \"hedwig\", \"helecopters\", \"helecopters\", \"hes\", \"hes\", \"hes\", \"hes\", \"hes\", \"heyst\", \"heyst\", \"heyst\", \"heyst\", \"heyst\", \"high\", \"high\", \"high\", \"high\", \"high\", \"however\", \"however\", \"however\", \"however\", \"however\", \"hudlin\", \"hudlin\", \"hudlin\", \"hypocrite\", \"identital\", \"identital\", \"imparts\", \"infomercial\", \"infomercial\", \"insurrection\", \"insurrection\", \"insurrection\", \"insurrection\", \"insurrection\", \"insurrections\", \"insurrections\", \"insurrections\", \"insurrections\", \"interesting\", \"interesting\", \"interesting\", \"interesting\", \"interesting\", \"isaacman\", \"isaacman\", \"isaacman\", \"isaacman\", \"jackie\", \"jackie\", \"jackie\", \"jackie\", \"jackie\", \"jakob\", \"jakob\", \"jakob\", \"jakob\", \"jakob\", \"john\", \"john\", \"john\", \"john\", \"john\", \"jonnie\", \"jonnie\", \"jonnie\", \"jonnie\", \"jonnie\", \"josie\", \"josie\", \"josie\", \"josie\", \"josie\", \"kahuna\", \"kahuna\", \"kahuna\", \"kahuna\", \"kahuna\", \"katarina\", \"katarina\", \"katarina\", \"katarina\", \"katarina\", \"keri\", \"keri\", \"kermit\", \"kermit\", \"kermit\", \"kermit\", \"know\", \"know\", \"know\", \"know\", \"know\", \"koufax\", \"koufax\", \"koufax\", \"koufax\", \"koufax\", \"kozmo\", \"kozmo\", \"kozmo\", \"kozmo\", \"lace\", \"lace\", \"last\", \"last\", \"last\", \"last\", \"last\", \"leasure\", \"leasure\", \"leasure\", \"leasure\", \"leila\", \"leila\", \"leila\", \"leila\", \"leila\", \"lennix\", \"lennix\", \"leyland\", \"life\", \"life\", \"life\", \"life\", \"life\", \"like\", \"like\", \"like\", \"like\", \"like\", \"lindenlaub\", \"little\", \"little\", \"little\", \"little\", \"little\", \"live\", \"live\", \"live\", \"live\", \"live\", \"look\", \"look\", \"look\", \"look\", \"look\", \"love\", \"love\", \"love\", \"love\", \"love\", \"maclaine\", \"maclaine\", \"make\", \"make\", \"make\", \"make\", \"make\", \"man\", \"man\", \"man\", \"man\", \"man\", \"many\", \"many\", \"many\", \"many\", \"many\", \"marcy\", \"marcy\", \"marcy\", \"marcy\", \"marcy\", \"marianne\", \"marianne\", \"marianne\", \"marianne\", \"marquis\", \"marquis\", \"matilda\", \"matilda\", \"matilda\", \"matilda\", \"matilda\", \"mckellar\", \"mckellar\", \"mckellar\", \"mckellar\", \"mckellar\", \"mel\", \"mel\", \"mel\", \"mel\", \"mel\", \"memento\", \"memento\", \"memento\", \"memento\", \"memento\", \"merton\", \"merton\", \"merton\", \"merton\", \"merton\", \"might\", \"might\", \"might\", \"might\", \"might\", \"milkshake\", \"millie\", \"millie\", \"millie\", \"millie\", \"millie\", \"mindmoving\", \"moment\", \"moment\", \"moment\", \"moment\", \"moment\", \"mommas\", \"mommas\", \"mommas\", \"mommas\", \"mommas\", \"money\", \"money\", \"money\", \"money\", \"money\", \"mongkut\", \"mongkut\", \"mongkut\", \"morgue\", \"morgue\", \"morgue\", \"morgue\", \"morgue\", \"motels\", \"movie\", \"movie\", \"movie\", \"movie\", \"movie\", \"movies\", \"movies\", \"movies\", \"movies\", \"movies\", \"mulan\", \"mulan\", \"mulan\", \"mulan\", \"mulan\", \"mullen\", \"mullen\", \"mullen\", \"mullen\", \"ned\", \"ned\", \"ned\", \"ned\", \"ned\", \"nello\", \"nello\", \"nello\", \"nello\", \"nello\", \"nesmith\", \"nesmith\", \"nesmith\", \"nesmith\", \"nesmith\", \"never\", \"never\", \"never\", \"never\", \"never\", \"new\", \"new\", \"new\", \"new\", \"new\", \"newfoundland\", \"newfoundland\", \"newfoundland\", \"niagara\", \"niagara\", \"niagara\", \"niagara\", \"nothing\", \"nothing\", \"nothing\", \"nothing\", \"nothing\", \"obrady\", \"odette\", \"odette\", \"odette\", \"odette\", \"odette\", \"onceinalifetime\", \"onceinalifetime\", \"original\", \"original\", \"original\", \"original\", \"original\", \"oscar\", \"oscar\", \"oscar\", \"oscar\", \"oscar\", \"osmosis\", \"osmosis\", \"osmosis\", \"osmosis\", \"osmosis\", \"owens\", \"owens\", \"owens\", \"owens\", \"owens\", \"palmetto\", \"palmetto\", \"palmetto\", \"palmetto\", \"palmetto\", \"parillaud\", \"parillaud\", \"parillaud\", \"parillaud\", \"parillaud\", \"patch\", \"patch\", \"patch\", \"patch\", \"patch\", \"pedicure\", \"pedicure\", \"penn\", \"penn\", \"penn\", \"penn\", \"penn\", \"people\", \"people\", \"people\", \"people\", \"people\", \"performances\", \"performances\", \"performances\", \"performances\", \"performances\", \"permissive\", \"personify\", \"pities\", \"plays\", \"plays\", \"plays\", \"plays\", \"plays\", \"plot\", \"plot\", \"plot\", \"plot\", \"plot\", \"poised\", \"political\", \"political\", \"political\", \"political\", \"political\", \"quake\", \"quake\", \"quake\", \"quills\", \"quills\", \"railroads\", \"railroads\", \"rameses\", \"rameses\", \"rameses\", \"rameses\", \"rameses\", \"rand\", \"rand\", \"rand\", \"rand\", \"rand\", \"ravaging\", \"ravaging\", \"really\", \"really\", \"really\", \"really\", \"really\", \"reversal\", \"reversal\", \"reversal\", \"reversal\", \"reversal\", \"rockys\", \"rockys\", \"rockys\", \"role\", \"role\", \"role\", \"role\", \"role\", \"royercollard\", \"royercollard\", \"ruafro\", \"ruafro\", \"ruafro\", \"ruafro\", \"rudys\", \"rudys\", \"rudys\", \"rudys\", \"rudys\", \"rumpo\", \"rumpo\", \"rumpo\", \"rumpo\", \"rumpo\", \"run\", \"run\", \"run\", \"run\", \"run\", \"sade\", \"sade\", \"sades\", \"sallys\", \"sallys\", \"say\", \"say\", \"say\", \"say\", \"say\", \"scene\", \"scene\", \"scene\", \"scene\", \"scene\", \"scenes\", \"scenes\", \"scenes\", \"scenes\", \"scenes\", \"school\", \"school\", \"school\", \"school\", \"school\", \"scott\", \"scott\", \"scott\", \"scott\", \"scott\", \"scream\", \"scream\", \"scream\", \"scream\", \"scream\", \"scribes\", \"see\", \"see\", \"see\", \"see\", \"see\", \"seems\", \"seems\", \"seems\", \"seems\", \"seems\", \"sheffer\", \"sheffer\", \"shelmikedmu\", \"shelmikedmu\", \"shelmikedmu\", \"shelmikedmu\", \"shelmikedmu\", \"sherri\", \"sherri\", \"sherri\", \"sherri\", \"sherri\", \"sherry\", \"sherry\", \"sherry\", \"sherry\", \"sherry\", \"show\", \"show\", \"show\", \"show\", \"show\", \"side\", \"side\", \"side\", \"side\", \"side\", \"signy\", \"slates\", \"slates\", \"smocky\", \"snipes\", \"snipes\", \"snipes\", \"snipes\", \"snipes\", \"snowman\", \"snowman\", \"snowman\", \"snowman\", \"snowman\", \"something\", \"something\", \"something\", \"something\", \"something\", \"soninlaw\", \"soran\", \"soran\", \"soran\", \"spawn\", \"spawn\", \"spawn\", \"spawn\", \"spawn\", \"spectaculars\", \"spice\", \"spice\", \"spice\", \"spice\", \"spice\", \"squad\", \"squad\", \"squad\", \"squad\", \"squad\", \"star\", \"star\", \"star\", \"star\", \"star\", \"stempel\", \"stempel\", \"stempel\", \"stephane\", \"stephane\", \"stephane\", \"stephane\", \"stephane\", \"still\", \"still\", \"still\", \"still\", \"still\", \"story\", \"story\", \"story\", \"story\", \"story\", \"stu\", \"stu\", \"stu\", \"stu\", \"stu\", \"suceeds\", \"suceeds\", \"swishing\", \"take\", \"take\", \"take\", \"take\", \"take\", \"tamora\", \"tamora\", \"tangos\", \"tangos\", \"tarzan\", \"tarzan\", \"tarzan\", \"tarzan\", \"tarzan\", \"taymor\", \"taymor\", \"taymor\", \"taymor\", \"taymor\", \"tel\", \"theres\", \"theres\", \"theres\", \"theres\", \"theres\", \"thing\", \"thing\", \"thing\", \"thing\", \"thing\", \"think\", \"think\", \"think\", \"think\", \"think\", \"thirtysix\", \"thirtysix\", \"though\", \"though\", \"though\", \"though\", \"though\", \"thrax\", \"thrax\", \"thrax\", \"thrax\", \"thrax\", \"thunderlips\", \"tillman\", \"tillman\", \"time\", \"time\", \"time\", \"time\", \"time\", \"tissue\", \"tissue\", \"tito\", \"toward\", \"toward\", \"toward\", \"toward\", \"toward\", \"toy\", \"toy\", \"toy\", \"toy\", \"toy\", \"trainsrocky\", \"trashtalks\", \"travellers\", \"trek\", \"trek\", \"trek\", \"trek\", \"trek\", \"truely\", \"truely\", \"tulips\", \"tulips\", \"tulips\", \"tulips\", \"us\", \"us\", \"us\", \"us\", \"us\", \"vartan\", \"vartan\", \"vartan\", \"volcano\", \"volcano\", \"volcano\", \"volcano\", \"volcano\", \"way\", \"way\", \"way\", \"way\", \"way\", \"webb\", \"webb\", \"webb\", \"webb\", \"webb\", \"webbs\", \"webbs\", \"webbs\", \"webbs\", \"well\", \"well\", \"well\", \"well\", \"well\", \"whale\", \"whale\", \"whale\", \"whale\", \"whale\", \"wheezy\", \"wheezy\", \"wheezy\", \"wittiness\", \"wittiness\", \"wittiness\", \"wizened\", \"woman\", \"woman\", \"woman\", \"woman\", \"woman\", \"woody\", \"woody\", \"woody\", \"woody\", \"woody\", \"work\", \"work\", \"work\", \"work\", \"work\", \"world\", \"world\", \"world\", \"world\", \"world\", \"worrys\", \"worrys\", \"wyatts\", \"wyatts\", \"wyatts\", \"wyatts\", \"years\", \"years\", \"years\", \"years\", \"years\", \"young\", \"young\", \"young\", \"young\", \"young\", \"yucks\", \"yucks\", \"yuri\", \"yuri\", \"zeltser\", \"zeltser\", \"zero\", \"zero\", \"zero\", \"zero\", \"zero\"]}, \"R\": 30, \"lambda.step\": 0.01, \"plot.opts\": {\"xlab\": \"PC1\", \"ylab\": \"PC2\"}, \"topic.order\": [5, 4, 1, 3, 2]};\n",
       "\n",
       "function LDAvis_load_lib(url, callback){\n",
       "  var s = document.createElement('script');\n",
       "  s.src = url;\n",
       "  s.async = true;\n",
       "  s.onreadystatechange = s.onload = callback;\n",
       "  s.onerror = function(){console.warn(\"failed to load library \" + url);};\n",
       "  document.getElementsByTagName(\"head\")[0].appendChild(s);\n",
       "}\n",
       "\n",
       "if(typeof(LDAvis) !== \"undefined\"){\n",
       "   // already loaded: just create the visualization\n",
       "   !function(LDAvis){\n",
       "       new LDAvis(\"#\" + \"ldavis_el372322607840701344653056402\", ldavis_el372322607840701344653056402_data);\n",
       "   }(LDAvis);\n",
       "}else if(typeof define === \"function\" && define.amd){\n",
       "   // require.js is available: use it to load d3/LDAvis\n",
       "   require.config({paths: {d3: \"https://d3js.org/d3.v5\"}});\n",
       "   require([\"d3\"], function(d3){\n",
       "      window.d3 = d3;\n",
       "      LDAvis_load_lib(\"https://cdn.jsdelivr.net/gh/bmabey/pyLDAvis@3.3.1/pyLDAvis/js/ldavis.v3.0.0.js\", function(){\n",
       "        new LDAvis(\"#\" + \"ldavis_el372322607840701344653056402\", ldavis_el372322607840701344653056402_data);\n",
       "      });\n",
       "    });\n",
       "}else{\n",
       "    // require.js not available: dynamically load d3 & LDAvis\n",
       "    LDAvis_load_lib(\"https://d3js.org/d3.v5.js\", function(){\n",
       "         LDAvis_load_lib(\"https://cdn.jsdelivr.net/gh/bmabey/pyLDAvis@3.3.1/pyLDAvis/js/ldavis.v3.0.0.js\", function(){\n",
       "                 new LDAvis(\"#\" + \"ldavis_el372322607840701344653056402\", ldavis_el372322607840701344653056402_data);\n",
       "            })\n",
       "         });\n",
       "}\n",
       "</script>"
      ],
      "text/plain": [
       "<IPython.core.display.HTML object>"
      ]
     },
     "execution_count": 34,
     "metadata": {},
     "output_type": "execute_result"
    }
   ],
   "source": [
    "#LDA Visualization\n",
    "import pyLDAvis.gensim_models\n",
    "lda_visualization = pyLDAvis.gensim_models.prepare(lda_model, corpus, id2word)\n",
    "pyLDAvis.display(lda_visualization)"
   ]
  },
  {
   "cell_type": "markdown",
   "metadata": {},
   "source": [
    "We see 5 circles at the top which shows us how different each topic from each other. Indeed, we can cocnlude that they are quiet seperated frome ach other and the selection of topic size that is 45 seems appropiate. Some of the comments that we can make from above visualization: <br> <br>\n",
    "i) We see the most salient words in the documents we have, and when we examine each word occurance in each topic, we can see that each word occurs in each topic. So, this shows us that again, the topics have common properties and basically about movie reviews and movie industry norms.<br> <br>\n",
    "ii) When we click the topics, we can also observe the occurance rate of most salient words in these topics. When we examine each topic,we can see that top 5 most salient words in each topic are almost the same. Moreover, if we read through all list for all of the topics, we can observe that they have lots of common salient words appearing in their lists in different orders. "
   ]
  }
 ],
 "metadata": {
  "kernelspec": {
   "display_name": "Python 3",
   "language": "python",
   "name": "python3"
  },
  "language_info": {
   "codemirror_mode": {
    "name": "ipython",
    "version": 3
   },
   "file_extension": ".py",
   "mimetype": "text/x-python",
   "name": "python",
   "nbconvert_exporter": "python",
   "pygments_lexer": "ipython3",
   "version": "3.8.5"
  }
 },
 "nbformat": 4,
 "nbformat_minor": 4
}
