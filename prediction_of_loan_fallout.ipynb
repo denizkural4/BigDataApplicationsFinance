{
 "cells": [
  {
   "cell_type": "markdown",
   "metadata": {},
   "source": [
    "### Prediction of Loan Fallout\n",
    "#### FRE 9733 - Homework 5\n",
    "#### Deniz Kural - dk3703\n"
   ]
  },
  {
   "cell_type": "markdown",
   "metadata": {},
   "source": [
    "1.Load “Lesson5_HW_Loan_FallOut_Prediction.csv” into R or Python <br> \n",
    "2.Check on data quality & completeness <br> \n",
    "3.Process & transform data if needed <br> \n",
    "4.Choose three classifiers to build from the following options:<br> \n",
    "    &emsp;&emsp;Naïve Bayesian<br> \n",
    "    &emsp;&emsp;Decision Tree<br> \n",
    "    &emsp;&emsp;SVM<br> \n",
    "    &emsp;&emsp;Logistic Regression<br> \n",
    "5.Compare the model performance by ROC, Precision, Recall, and F-Score<br> \n",
    "6.Conduct cross validation<br> \n",
    "7.Summarize your finding into a brief report"
   ]
  },
  {
   "cell_type": "code",
   "execution_count": 1,
   "metadata": {},
   "outputs": [],
   "source": [
    "#Step 1\n",
    "import pandas as pd\n",
    "import matplotlib.pyplot as plt\n",
    "import numpy as np\n",
    "from sklearn import model_selection\n",
    "from sklearn.model_selection import cross_val_score\n",
    "from sklearn.model_selection import KFold\n",
    "import seaborn as sn\n",
    "from sklearn.preprocessing import LabelEncoder\n",
    "from sklearn.model_selection import train_test_split\n",
    "from sklearn.preprocessing import StandardScaler\n",
    "from sklearn.metrics import f1_score, precision_score, recall_score, fbeta_score\n",
    "from sklearn.metrics import confusion_matrix, accuracy_score \n",
    "from sklearn import metrics\n",
    "from sklearn.naive_bayes import GaussianNB\n",
    "from sklearn.tree import DecisionTreeClassifier\n",
    "from sklearn.linear_model import LogisticRegression\n",
    "\n",
    "\n"
   ]
  },
  {
   "cell_type": "code",
   "execution_count": 2,
   "metadata": {},
   "outputs": [],
   "source": [
    "#Import the dataset\n",
    "df= pd.read_csv(\"/Users/denizkuraal/Downloads/Lesson5_Loan_FallOut_Prediction.csv\")"
   ]
  },
  {
   "cell_type": "code",
   "execution_count": 3,
   "metadata": {},
   "outputs": [
    {
     "data": {
      "text/html": [
       "<div>\n",
       "<style scoped>\n",
       "    .dataframe tbody tr th:only-of-type {\n",
       "        vertical-align: middle;\n",
       "    }\n",
       "\n",
       "    .dataframe tbody tr th {\n",
       "        vertical-align: top;\n",
       "    }\n",
       "\n",
       "    .dataframe thead th {\n",
       "        text-align: right;\n",
       "    }\n",
       "</style>\n",
       "<table border=\"1\" class=\"dataframe\">\n",
       "  <thead>\n",
       "    <tr style=\"text-align: right;\">\n",
       "      <th></th>\n",
       "      <th>APPLICATION_NUM</th>\n",
       "      <th>AGE</th>\n",
       "      <th>SCHOOLING</th>\n",
       "      <th>GENDER</th>\n",
       "      <th>MARITAL</th>\n",
       "      <th>OCCUPY</th>\n",
       "      <th>DEPEND</th>\n",
       "      <th>BORROWER_CREDIT_SCORE</th>\n",
       "      <th>JUDGEMENTS</th>\n",
       "      <th>BANKRUPTCY</th>\n",
       "      <th>FORECLOSURE</th>\n",
       "      <th>LAWSUIT</th>\n",
       "      <th>ALIMONY</th>\n",
       "      <th>VETERAN</th>\n",
       "      <th>PAST_LOAN</th>\n",
       "      <th>INITIAL_RATE</th>\n",
       "      <th>FALLOUT_FLAG</th>\n",
       "    </tr>\n",
       "  </thead>\n",
       "  <tbody>\n",
       "    <tr>\n",
       "      <th>0</th>\n",
       "      <td>1234567</td>\n",
       "      <td>62</td>\n",
       "      <td>14</td>\n",
       "      <td>Male</td>\n",
       "      <td>Married</td>\n",
       "      <td>Y</td>\n",
       "      <td>0</td>\n",
       "      <td>645.0</td>\n",
       "      <td>N</td>\n",
       "      <td>N</td>\n",
       "      <td>N</td>\n",
       "      <td>N</td>\n",
       "      <td>N</td>\n",
       "      <td>Y</td>\n",
       "      <td>N</td>\n",
       "      <td>4.25</td>\n",
       "      <td>0</td>\n",
       "    </tr>\n",
       "    <tr>\n",
       "      <th>1</th>\n",
       "      <td>1234568</td>\n",
       "      <td>71</td>\n",
       "      <td>12</td>\n",
       "      <td>Male</td>\n",
       "      <td>Married</td>\n",
       "      <td>Y</td>\n",
       "      <td>0</td>\n",
       "      <td>778.0</td>\n",
       "      <td>N</td>\n",
       "      <td>N</td>\n",
       "      <td>N</td>\n",
       "      <td>N</td>\n",
       "      <td>N</td>\n",
       "      <td>Y</td>\n",
       "      <td>N</td>\n",
       "      <td>4.99</td>\n",
       "      <td>0</td>\n",
       "    </tr>\n",
       "    <tr>\n",
       "      <th>2</th>\n",
       "      <td>1234569</td>\n",
       "      <td>28</td>\n",
       "      <td>16</td>\n",
       "      <td>Male</td>\n",
       "      <td>Married</td>\n",
       "      <td>Y</td>\n",
       "      <td>1</td>\n",
       "      <td>677.0</td>\n",
       "      <td>N</td>\n",
       "      <td>N</td>\n",
       "      <td>N</td>\n",
       "      <td>N</td>\n",
       "      <td>N</td>\n",
       "      <td>Y</td>\n",
       "      <td>N</td>\n",
       "      <td>4.49</td>\n",
       "      <td>0</td>\n",
       "    </tr>\n",
       "    <tr>\n",
       "      <th>3</th>\n",
       "      <td>1234570</td>\n",
       "      <td>62</td>\n",
       "      <td>20</td>\n",
       "      <td>Male</td>\n",
       "      <td>Married</td>\n",
       "      <td>Y</td>\n",
       "      <td>0</td>\n",
       "      <td>677.0</td>\n",
       "      <td>N</td>\n",
       "      <td>N</td>\n",
       "      <td>N</td>\n",
       "      <td>N</td>\n",
       "      <td>N</td>\n",
       "      <td>Y</td>\n",
       "      <td>N</td>\n",
       "      <td>4.25</td>\n",
       "      <td>0</td>\n",
       "    </tr>\n",
       "    <tr>\n",
       "      <th>4</th>\n",
       "      <td>1234571</td>\n",
       "      <td>38</td>\n",
       "      <td>12</td>\n",
       "      <td>Not provided by phone/mail app</td>\n",
       "      <td>Unmarried</td>\n",
       "      <td>Y</td>\n",
       "      <td>0</td>\n",
       "      <td>602.0</td>\n",
       "      <td>N</td>\n",
       "      <td>N</td>\n",
       "      <td>N</td>\n",
       "      <td>N</td>\n",
       "      <td>N</td>\n",
       "      <td>Y</td>\n",
       "      <td>N</td>\n",
       "      <td>4.25</td>\n",
       "      <td>0</td>\n",
       "    </tr>\n",
       "  </tbody>\n",
       "</table>\n",
       "</div>"
      ],
      "text/plain": [
       "   APPLICATION_NUM  AGE  SCHOOLING                          GENDER    MARITAL  \\\n",
       "0          1234567   62         14                            Male    Married   \n",
       "1          1234568   71         12                            Male    Married   \n",
       "2          1234569   28         16                            Male    Married   \n",
       "3          1234570   62         20                            Male    Married   \n",
       "4          1234571   38         12  Not provided by phone/mail app  Unmarried   \n",
       "\n",
       "  OCCUPY  DEPEND  BORROWER_CREDIT_SCORE JUDGEMENTS BANKRUPTCY FORECLOSURE  \\\n",
       "0      Y       0                  645.0          N          N           N   \n",
       "1      Y       0                  778.0          N          N           N   \n",
       "2      Y       1                  677.0          N          N           N   \n",
       "3      Y       0                  677.0          N          N           N   \n",
       "4      Y       0                  602.0          N          N           N   \n",
       "\n",
       "  LAWSUIT ALIMONY VETERAN PAST_LOAN  INITIAL_RATE  FALLOUT_FLAG  \n",
       "0       N       N       Y         N          4.25             0  \n",
       "1       N       N       Y         N          4.99             0  \n",
       "2       N       N       Y         N          4.49             0  \n",
       "3       N       N       Y         N          4.25             0  \n",
       "4       N       N       Y         N          4.25             0  "
      ]
     },
     "execution_count": 3,
     "metadata": {},
     "output_type": "execute_result"
    }
   ],
   "source": [
    "df.head()"
   ]
  },
  {
   "cell_type": "code",
   "execution_count": 4,
   "metadata": {},
   "outputs": [
    {
     "data": {
      "text/plain": [
       "Index(['APPLICATION_NUM', 'AGE', 'SCHOOLING', 'GENDER', 'MARITAL', 'OCCUPY',\n",
       "       'DEPEND', 'BORROWER_CREDIT_SCORE', 'JUDGEMENTS', 'BANKRUPTCY',\n",
       "       'FORECLOSURE', 'LAWSUIT', 'ALIMONY', 'VETERAN', 'PAST_LOAN',\n",
       "       'INITIAL_RATE', 'FALLOUT_FLAG'],\n",
       "      dtype='object')"
      ]
     },
     "execution_count": 4,
     "metadata": {},
     "output_type": "execute_result"
    }
   ],
   "source": [
    "#Step 2\n",
    "#Data Quality and Completeness\n",
    "\n",
    "df.columns"
   ]
  },
  {
   "cell_type": "code",
   "execution_count": 5,
   "metadata": {},
   "outputs": [
    {
     "data": {
      "text/html": [
       "<div>\n",
       "<style scoped>\n",
       "    .dataframe tbody tr th:only-of-type {\n",
       "        vertical-align: middle;\n",
       "    }\n",
       "\n",
       "    .dataframe tbody tr th {\n",
       "        vertical-align: top;\n",
       "    }\n",
       "\n",
       "    .dataframe thead th {\n",
       "        text-align: right;\n",
       "    }\n",
       "</style>\n",
       "<table border=\"1\" class=\"dataframe\">\n",
       "  <thead>\n",
       "    <tr style=\"text-align: right;\">\n",
       "      <th></th>\n",
       "      <th>APPLICATION_NUM</th>\n",
       "      <th>AGE</th>\n",
       "      <th>SCHOOLING</th>\n",
       "      <th>DEPEND</th>\n",
       "      <th>BORROWER_CREDIT_SCORE</th>\n",
       "      <th>INITIAL_RATE</th>\n",
       "      <th>FALLOUT_FLAG</th>\n",
       "    </tr>\n",
       "  </thead>\n",
       "  <tbody>\n",
       "    <tr>\n",
       "      <th>count</th>\n",
       "      <td>5.805000e+04</td>\n",
       "      <td>58050.000000</td>\n",
       "      <td>58050.000000</td>\n",
       "      <td>58050.000000</td>\n",
       "      <td>39995.000000</td>\n",
       "      <td>58050.000000</td>\n",
       "      <td>58050.000000</td>\n",
       "    </tr>\n",
       "    <tr>\n",
       "      <th>mean</th>\n",
       "      <td>1.263592e+06</td>\n",
       "      <td>50.630922</td>\n",
       "      <td>12.686856</td>\n",
       "      <td>0.624410</td>\n",
       "      <td>678.596075</td>\n",
       "      <td>4.057728</td>\n",
       "      <td>0.445237</td>\n",
       "    </tr>\n",
       "    <tr>\n",
       "      <th>std</th>\n",
       "      <td>1.675774e+04</td>\n",
       "      <td>14.290258</td>\n",
       "      <td>5.070245</td>\n",
       "      <td>1.303502</td>\n",
       "      <td>77.158999</td>\n",
       "      <td>0.323058</td>\n",
       "      <td>0.496996</td>\n",
       "    </tr>\n",
       "    <tr>\n",
       "      <th>min</th>\n",
       "      <td>1.234567e+06</td>\n",
       "      <td>0.000000</td>\n",
       "      <td>0.000000</td>\n",
       "      <td>0.000000</td>\n",
       "      <td>100.000000</td>\n",
       "      <td>2.250000</td>\n",
       "      <td>0.000000</td>\n",
       "    </tr>\n",
       "    <tr>\n",
       "      <th>25%</th>\n",
       "      <td>1.249079e+06</td>\n",
       "      <td>39.000000</td>\n",
       "      <td>12.000000</td>\n",
       "      <td>0.000000</td>\n",
       "      <td>630.000000</td>\n",
       "      <td>3.750000</td>\n",
       "      <td>0.000000</td>\n",
       "    </tr>\n",
       "    <tr>\n",
       "      <th>50%</th>\n",
       "      <td>1.263592e+06</td>\n",
       "      <td>50.000000</td>\n",
       "      <td>14.000000</td>\n",
       "      <td>0.000000</td>\n",
       "      <td>682.000000</td>\n",
       "      <td>3.990000</td>\n",
       "      <td>0.000000</td>\n",
       "    </tr>\n",
       "    <tr>\n",
       "      <th>75%</th>\n",
       "      <td>1.278104e+06</td>\n",
       "      <td>62.000000</td>\n",
       "      <td>16.000000</td>\n",
       "      <td>1.000000</td>\n",
       "      <td>736.000000</td>\n",
       "      <td>4.250000</td>\n",
       "      <td>1.000000</td>\n",
       "    </tr>\n",
       "    <tr>\n",
       "      <th>max</th>\n",
       "      <td>1.292616e+06</td>\n",
       "      <td>114.000000</td>\n",
       "      <td>35.000000</td>\n",
       "      <td>92.000000</td>\n",
       "      <td>833.000000</td>\n",
       "      <td>5.000000</td>\n",
       "      <td>1.000000</td>\n",
       "    </tr>\n",
       "  </tbody>\n",
       "</table>\n",
       "</div>"
      ],
      "text/plain": [
       "       APPLICATION_NUM           AGE     SCHOOLING        DEPEND  \\\n",
       "count     5.805000e+04  58050.000000  58050.000000  58050.000000   \n",
       "mean      1.263592e+06     50.630922     12.686856      0.624410   \n",
       "std       1.675774e+04     14.290258      5.070245      1.303502   \n",
       "min       1.234567e+06      0.000000      0.000000      0.000000   \n",
       "25%       1.249079e+06     39.000000     12.000000      0.000000   \n",
       "50%       1.263592e+06     50.000000     14.000000      0.000000   \n",
       "75%       1.278104e+06     62.000000     16.000000      1.000000   \n",
       "max       1.292616e+06    114.000000     35.000000     92.000000   \n",
       "\n",
       "       BORROWER_CREDIT_SCORE  INITIAL_RATE  FALLOUT_FLAG  \n",
       "count           39995.000000  58050.000000  58050.000000  \n",
       "mean              678.596075      4.057728      0.445237  \n",
       "std                77.158999      0.323058      0.496996  \n",
       "min               100.000000      2.250000      0.000000  \n",
       "25%               630.000000      3.750000      0.000000  \n",
       "50%               682.000000      3.990000      0.000000  \n",
       "75%               736.000000      4.250000      1.000000  \n",
       "max               833.000000      5.000000      1.000000  "
      ]
     },
     "execution_count": 5,
     "metadata": {},
     "output_type": "execute_result"
    }
   ],
   "source": [
    "df.describe()"
   ]
  },
  {
   "cell_type": "code",
   "execution_count": 6,
   "metadata": {},
   "outputs": [
    {
     "data": {
      "text/plain": [
       "APPLICATION_NUM            int64\n",
       "AGE                        int64\n",
       "SCHOOLING                  int64\n",
       "GENDER                    object\n",
       "MARITAL                   object\n",
       "OCCUPY                    object\n",
       "DEPEND                     int64\n",
       "BORROWER_CREDIT_SCORE    float64\n",
       "JUDGEMENTS                object\n",
       "BANKRUPTCY                object\n",
       "FORECLOSURE               object\n",
       "LAWSUIT                   object\n",
       "ALIMONY                   object\n",
       "VETERAN                   object\n",
       "PAST_LOAN                 object\n",
       "INITIAL_RATE             float64\n",
       "FALLOUT_FLAG               int64\n",
       "dtype: object"
      ]
     },
     "execution_count": 6,
     "metadata": {},
     "output_type": "execute_result"
    }
   ],
   "source": [
    "#Display data types of the dataset\n",
    "df.dtypes"
   ]
  },
  {
   "cell_type": "code",
   "execution_count": 7,
   "metadata": {},
   "outputs": [
    {
     "data": {
      "text/plain": [
       "{int64: ['APPLICATION_NUM', 'AGE', 'SCHOOLING', 'DEPEND', 'FALLOUT_FLAG'], float64: ['BORROWER_CREDIT_SCORE', 'INITIAL_RATE'], object: ['GENDER', 'MARITAL', 'OCCUPY', 'JUDGEMENTS', 'BANKRUPTCY', 'FORECLOSURE', 'LAWSUIT', 'ALIMONY', 'VETERAN', 'PAST_LOAN']}"
      ]
     },
     "execution_count": 7,
     "metadata": {},
     "output_type": "execute_result"
    }
   ],
   "source": [
    "#Display the categorical vs. numerical variables\n",
    "df.columns.to_series().groupby(df.dtypes).groups"
   ]
  },
  {
   "cell_type": "markdown",
   "metadata": {},
   "source": [
    "##### Object variables should be handled before processing into model built and evaluation stage.These are: <br>\n",
    "<b>object</b>: ['GENDER', 'MARITAL', 'OCCUPY', 'JUDGEMENTS', 'BANKRUPTCY', 'FORECLOSURE', 'LAWSUIT', 'ALIMONY', 'VETERAN', 'PAST_LOAN']\n",
    "\n"
   ]
  },
  {
   "cell_type": "code",
   "execution_count": 8,
   "metadata": {},
   "outputs": [
    {
     "name": "stdout",
     "output_type": "stream",
     "text": [
      "<class 'pandas.core.frame.DataFrame'>\n",
      "RangeIndex: 58050 entries, 0 to 58049\n",
      "Data columns (total 17 columns):\n",
      " #   Column                 Non-Null Count  Dtype  \n",
      "---  ------                 --------------  -----  \n",
      " 0   APPLICATION_NUM        58050 non-null  int64  \n",
      " 1   AGE                    58050 non-null  int64  \n",
      " 2   SCHOOLING              58050 non-null  int64  \n",
      " 3   GENDER                 58050 non-null  object \n",
      " 4   MARITAL                58044 non-null  object \n",
      " 5   OCCUPY                 58050 non-null  object \n",
      " 6   DEPEND                 58050 non-null  int64  \n",
      " 7   BORROWER_CREDIT_SCORE  39995 non-null  float64\n",
      " 8   JUDGEMENTS             58050 non-null  object \n",
      " 9   BANKRUPTCY             58050 non-null  object \n",
      " 10  FORECLOSURE            58050 non-null  object \n",
      " 11  LAWSUIT                58050 non-null  object \n",
      " 12  ALIMONY                58050 non-null  object \n",
      " 13  VETERAN                50426 non-null  object \n",
      " 14  PAST_LOAN              58050 non-null  object \n",
      " 15  INITIAL_RATE           58050 non-null  float64\n",
      " 16  FALLOUT_FLAG           58050 non-null  int64  \n",
      "dtypes: float64(2), int64(5), object(10)\n",
      "memory usage: 7.5+ MB\n"
     ]
    }
   ],
   "source": [
    "#Data Completeness\n",
    "#Get the info. for both missing values in each column and also type of variables in each column\n",
    "df.info()"
   ]
  },
  {
   "cell_type": "code",
   "execution_count": 9,
   "metadata": {},
   "outputs": [
    {
     "data": {
      "text/plain": [
       "APPLICATION_NUM          False\n",
       "AGE                      False\n",
       "SCHOOLING                False\n",
       "GENDER                   False\n",
       "MARITAL                   True\n",
       "OCCUPY                   False\n",
       "DEPEND                   False\n",
       "BORROWER_CREDIT_SCORE     True\n",
       "JUDGEMENTS               False\n",
       "BANKRUPTCY               False\n",
       "FORECLOSURE              False\n",
       "LAWSUIT                  False\n",
       "ALIMONY                  False\n",
       "VETERAN                   True\n",
       "PAST_LOAN                False\n",
       "INITIAL_RATE             False\n",
       "FALLOUT_FLAG             False\n",
       "dtype: bool"
      ]
     },
     "execution_count": 9,
     "metadata": {},
     "output_type": "execute_result"
    }
   ],
   "source": [
    "#Display the columns with missing variables if any\n",
    "df.isna().any()"
   ]
  },
  {
   "cell_type": "markdown",
   "metadata": {},
   "source": [
    "As we can see from the above results, \"MARITAL\",\"BORROWER_CREDIT_SCORE\",\"VETERAN\" has some missing values. "
   ]
  },
  {
   "cell_type": "markdown",
   "metadata": {},
   "source": [
    "Let's draw some graphs versus fallout_flag which is a response variable for us. \n",
    "So, it is logical to think that credit score and age of borrower could be effective for loan fallout.\n",
    "Let's observe this situations in a bar plot."
   ]
  },
  {
   "cell_type": "code",
   "execution_count": 10,
   "metadata": {},
   "outputs": [
    {
     "data": {
      "text/plain": [
       "Text(0.5, 0, 'Fallout')"
      ]
     },
     "execution_count": 10,
     "metadata": {},
     "output_type": "execute_result"
    },
    {
     "data": {
      "image/png": "[encoded data removed]",
      "text/plain": [
       "<Figure size 864x576 with 1 Axes>"
      ]
     },
     "metadata": {
      "needs_background": "light"
     },
     "output_type": "display_data"
    }
   ],
   "source": [
    "#Plot histograms of “Credit score” group by “fallout”\n",
    "df2 = df.dropna(subset=['BORROWER_CREDIT_SCORE'])\n",
    "credit_by_fallout=df2[['BORROWER_CREDIT_SCORE','FALLOUT_FLAG']]\n",
    "credit_hist=credit_by_fallout.groupby(by='FALLOUT_FLAG').mean()\n",
    "credit_hist=credit_hist.set_index([pd.Index(['No','Yes'])])\n",
    "ax=credit_hist.plot.bar(title=\"Histogram of credit rates grouped by fallout rates\",legend=True,grid=False,figsize =(12, 8))\n",
    "plt.ylabel('Credits of Borrowers')\n",
    "plt.xlabel('Fallout')"
   ]
  },
  {
   "cell_type": "code",
   "execution_count": 11,
   "metadata": {},
   "outputs": [
    {
     "data": {
      "text/plain": [
       "Text(0.5, 0, 'Fallout')"
      ]
     },
     "execution_count": 11,
     "metadata": {},
     "output_type": "execute_result"
    },
    {
     "data": {
      "image/png": "[encoded data removed]",
      "text/plain": [
       "<Figure size 864x576 with 1 Axes>"
      ]
     },
     "metadata": {
      "needs_background": "light"
     },
     "output_type": "display_data"
    }
   ],
   "source": [
    "#Plot histograms of “age” group by “fallout”\n",
    "age_by_fallout=df[['AGE','FALLOUT_FLAG']]\n",
    "age_hist=age_by_fallout.groupby(by='FALLOUT_FLAG').mean()\n",
    "age_hist=age_hist.set_index([pd.Index(['No','Yes'])])\n",
    "ax=age_hist.plot.bar(title=\"Histogram of age grouped by fallout rates\",legend=True,grid=False,figsize =(12, 8))\n",
    "plt.ylabel('Age of Borrowers')\n",
    "plt.xlabel('Fallout')"
   ]
  },
  {
   "cell_type": "markdown",
   "metadata": {},
   "source": [
    "We can see from these plots that the average age and customer credit of no loan fallout rate is a bit higher than average age and customer credit of the borrower's with loan fallout. This can be observed numerically as following,"
   ]
  },
  {
   "cell_type": "code",
   "execution_count": 12,
   "metadata": {},
   "outputs": [
    {
     "data": {
      "text/html": [
       "<div>\n",
       "<style scoped>\n",
       "    .dataframe tbody tr th:only-of-type {\n",
       "        vertical-align: middle;\n",
       "    }\n",
       "\n",
       "    .dataframe tbody tr th {\n",
       "        vertical-align: top;\n",
       "    }\n",
       "\n",
       "    .dataframe thead th {\n",
       "        text-align: right;\n",
       "    }\n",
       "</style>\n",
       "<table border=\"1\" class=\"dataframe\">\n",
       "  <thead>\n",
       "    <tr style=\"text-align: right;\">\n",
       "      <th></th>\n",
       "      <th>BORROWER_CREDIT_SCORE</th>\n",
       "    </tr>\n",
       "  </thead>\n",
       "  <tbody>\n",
       "    <tr>\n",
       "      <th>No</th>\n",
       "      <td>683.897062</td>\n",
       "    </tr>\n",
       "    <tr>\n",
       "      <th>Yes</th>\n",
       "      <td>656.684508</td>\n",
       "    </tr>\n",
       "  </tbody>\n",
       "</table>\n",
       "</div>"
      ],
      "text/plain": [
       "     BORROWER_CREDIT_SCORE\n",
       "No              683.897062\n",
       "Yes             656.684508"
      ]
     },
     "execution_count": 12,
     "metadata": {},
     "output_type": "execute_result"
    }
   ],
   "source": [
    "credit_hist"
   ]
  },
  {
   "cell_type": "code",
   "execution_count": 13,
   "metadata": {},
   "outputs": [
    {
     "data": {
      "text/html": [
       "<div>\n",
       "<style scoped>\n",
       "    .dataframe tbody tr th:only-of-type {\n",
       "        vertical-align: middle;\n",
       "    }\n",
       "\n",
       "    .dataframe tbody tr th {\n",
       "        vertical-align: top;\n",
       "    }\n",
       "\n",
       "    .dataframe thead th {\n",
       "        text-align: right;\n",
       "    }\n",
       "</style>\n",
       "<table border=\"1\" class=\"dataframe\">\n",
       "  <thead>\n",
       "    <tr style=\"text-align: right;\">\n",
       "      <th></th>\n",
       "      <th>AGE</th>\n",
       "    </tr>\n",
       "  </thead>\n",
       "  <tbody>\n",
       "    <tr>\n",
       "      <th>No</th>\n",
       "      <td>51.474165</td>\n",
       "    </tr>\n",
       "    <tr>\n",
       "      <th>Yes</th>\n",
       "      <td>49.580245</td>\n",
       "    </tr>\n",
       "  </tbody>\n",
       "</table>\n",
       "</div>"
      ],
      "text/plain": [
       "           AGE\n",
       "No   51.474165\n",
       "Yes  49.580245"
      ]
     },
     "execution_count": 13,
     "metadata": {},
     "output_type": "execute_result"
    }
   ],
   "source": [
    "age_hist"
   ]
  },
  {
   "cell_type": "code",
   "execution_count": 14,
   "metadata": {},
   "outputs": [
    {
     "data": {
      "text/plain": [
       "<AxesSubplot:>"
      ]
     },
     "execution_count": 14,
     "metadata": {},
     "output_type": "execute_result"
    },
    {
     "data": {
      "image/png": "[encoded data removed]",
      "text/plain": [
       "<Figure size 864x576 with 2 Axes>"
      ]
     },
     "metadata": {},
     "output_type": "display_data"
    }
   ],
   "source": [
    "#Let's see the correlations among variables.\n",
    "#We can also display the correlation matrix in order to observer collinearity between predictors.\n",
    "#Set and compute the Correlation Matrix:\n",
    "sn.set(style=\"white\")\n",
    "df_corr=df.drop(['APPLICATION_NUM','FALLOUT_FLAG'],axis=1)\n",
    "corr = df_corr.corr()\n",
    "\n",
    "#Generate a mask for the upper triangle:\n",
    "mask = np.zeros_like(corr, dtype=np.bool)\n",
    "mask[np.triu_indices_from(mask)] = True\n",
    "\n",
    "#Set up the matplotlib figure and a diverging colormap:\n",
    "f, ax = plt.subplots(figsize=(12, 8))\n",
    "cmap = sn.diverging_palette(220, 10, as_cmap=True)\n",
    "#Draw the heatmap with the mask and correct aspect ratio:\n",
    "sn.heatmap(corr, mask=mask, cmap=cmap, vmax=.3, center=0,\n",
    "square=True, linewidths=.5, cbar_kws={\"shrink\": .5})"
   ]
  },
  {
   "cell_type": "markdown",
   "metadata": {},
   "source": [
    "#### We only seem to get considerable correlation between \"Schooling and Depend\" and also between \"Age and Borrower Credit Score\""
   ]
  },
  {
   "cell_type": "code",
   "execution_count": 15,
   "metadata": {},
   "outputs": [
    {
     "name": "stdout",
     "output_type": "stream",
     "text": [
      "APPLICATION_NUM              0\n",
      "AGE                          0\n",
      "SCHOOLING                    0\n",
      "GENDER                       0\n",
      "MARITAL                      6\n",
      "OCCUPY                       0\n",
      "DEPEND                       0\n",
      "BORROWER_CREDIT_SCORE    18055\n",
      "JUDGEMENTS                   0\n",
      "BANKRUPTCY                   0\n",
      "FORECLOSURE                  0\n",
      "LAWSUIT                      0\n",
      "ALIMONY                      0\n",
      "VETERAN                   7624\n",
      "PAST_LOAN                    0\n",
      "INITIAL_RATE                 0\n",
      "FALLOUT_FLAG                 0\n",
      "dtype: int64\n"
     ]
    }
   ],
   "source": [
    "#Amount of missing data per variable\n",
    "print(df.isnull().sum())"
   ]
  },
  {
   "cell_type": "code",
   "execution_count": 16,
   "metadata": {},
   "outputs": [
    {
     "data": {
      "text/plain": [
       "count    39995.000000\n",
       "mean       678.596075\n",
       "std         77.158999\n",
       "min        100.000000\n",
       "25%        630.000000\n",
       "50%        682.000000\n",
       "75%        736.000000\n",
       "max        833.000000\n",
       "Name: BORROWER_CREDIT_SCORE, dtype: float64"
      ]
     },
     "execution_count": 16,
     "metadata": {},
     "output_type": "execute_result"
    }
   ],
   "source": [
    "df['BORROWER_CREDIT_SCORE'].describe()"
   ]
  },
  {
   "cell_type": "markdown",
   "metadata": {},
   "source": [
    "As can be seen from the description of borrower's credit score, we have a significant standard deviation over its mean. Methods such as imputation with mean, or interpolatation could be dangerous as it is not correct to replace important feature with a really high deviation. So, we will remove the rows with missing value."
   ]
  },
  {
   "cell_type": "code",
   "execution_count": 17,
   "metadata": {},
   "outputs": [],
   "source": [
    "df.dropna(inplace=True)"
   ]
  },
  {
   "cell_type": "code",
   "execution_count": 18,
   "metadata": {},
   "outputs": [
    {
     "name": "stdout",
     "output_type": "stream",
     "text": [
      "APPLICATION_NUM          0\n",
      "AGE                      0\n",
      "SCHOOLING                0\n",
      "GENDER                   0\n",
      "MARITAL                  0\n",
      "OCCUPY                   0\n",
      "DEPEND                   0\n",
      "BORROWER_CREDIT_SCORE    0\n",
      "JUDGEMENTS               0\n",
      "BANKRUPTCY               0\n",
      "FORECLOSURE              0\n",
      "LAWSUIT                  0\n",
      "ALIMONY                  0\n",
      "VETERAN                  0\n",
      "PAST_LOAN                0\n",
      "INITIAL_RATE             0\n",
      "FALLOUT_FLAG             0\n",
      "dtype: int64\n"
     ]
    }
   ],
   "source": [
    "print(df.isnull().sum())"
   ]
  },
  {
   "cell_type": "code",
   "execution_count": 19,
   "metadata": {},
   "outputs": [
    {
     "name": "stdout",
     "output_type": "stream",
     "text": [
      "GENDER\n",
      "MARITAL\n",
      "OCCUPY\n",
      "JUDGEMENTS\n",
      "BANKRUPTCY\n",
      "FORECLOSURE\n",
      "LAWSUIT\n",
      "ALIMONY\n",
      "VETERAN\n",
      "PAST_LOAN\n",
      "8 columns were label encoded.\n"
     ]
    }
   ],
   "source": [
    "#Create label encoder for feature with less than or equal to 2  unique values\n",
    "#Create a label encoder object\n",
    "le = LabelEncoder()\n",
    "# Label Encoding will be used for columns with 2 or less unique values\n",
    "le_count = 0\n",
    "\n",
    "for col in df.columns[1:]:\n",
    "    if df[col].dtype == 'object':\n",
    "        print(col)\n",
    "        if len(list(df[col].unique())) <= 2:\n",
    "            le.fit(df[col])\n",
    "            df[col] = le.transform(df[col])\n",
    "            le_count += 1\n",
    "            \n",
    "print('{} columns were label encoded.'.format(le_count))"
   ]
  },
  {
   "cell_type": "code",
   "execution_count": 20,
   "metadata": {},
   "outputs": [],
   "source": [
    "#For larger than 2 unique values ,we need to create dummies.\n",
    "#APPLICATION_NUM is an object and we do not want to get dummies for APPLICATION_NUM \n",
    "identity = df[\"APPLICATION_NUM\"]\n",
    "df = df.drop(columns=\"APPLICATION_NUM\")\n",
    "\n",
    "df= pd.get_dummies(df)\n",
    "\n",
    "df = pd.concat([df, identity], axis = 1)"
   ]
  },
  {
   "cell_type": "code",
   "execution_count": 21,
   "metadata": {},
   "outputs": [],
   "source": [
    "#Identify response variable (FALLOUT_FLAG):\n",
    "    \n",
    "response = df[\"FALLOUT_FLAG\"]\n",
    "df = df.drop(columns=\"FALLOUT_FLAG\")"
   ]
  },
  {
   "cell_type": "code",
   "execution_count": 22,
   "metadata": {},
   "outputs": [],
   "source": [
    "# Split the dataset into training and validation sets\n",
    "X_train, X_test, y_train, y_test = train_test_split(df , response,test_size=0.20, random_state=1)"
   ]
  },
  {
   "cell_type": "code",
   "execution_count": 23,
   "metadata": {},
   "outputs": [
    {
     "name": "stdout",
     "output_type": "stream",
     "text": [
      "Number transactions X_train dataset:  (29483, 20)\n",
      "Number transactions X_test dataset:  (7371, 20)\n",
      "Number transactions y_train dataset:  (29483,)\n",
      "Number transactions y_test dataset:  (7371,)\n"
     ]
    }
   ],
   "source": [
    "print(\"Number transactions X_train dataset: \", X_train.shape)\n",
    "print(\"Number transactions X_test dataset: \", X_test.shape)\n",
    "print(\"Number transactions y_train dataset: \", y_train.shape)\n",
    "print(\"Number transactions y_test dataset: \", y_test.shape)"
   ]
  },
  {
   "cell_type": "code",
   "execution_count": 24,
   "metadata": {},
   "outputs": [],
   "source": [
    "train_id = X_train['APPLICATION_NUM']\n",
    "X_train = X_train.drop(columns = ['APPLICATION_NUM'])\n",
    "\n",
    "test_id = X_test['APPLICATION_NUM']\n",
    "X_test = X_test.drop(columns = ['APPLICATION_NUM'])"
   ]
  },
  {
   "cell_type": "markdown",
   "metadata": {},
   "source": [
    "### First Model : Logistic Regression\n"
   ]
  },
  {
   "cell_type": "code",
   "execution_count": 25,
   "metadata": {},
   "outputs": [],
   "source": [
    "#Normalization\n",
    "sc_X = StandardScaler()\n",
    "\n",
    "X_train2 = pd.DataFrame(sc_X.fit_transform(X_train))\n",
    "X_train2.columns = X_train.columns.values\n",
    "X_train2.index = X_train.index.values\n",
    "X_train = X_train2\n",
    "\n",
    "X_test2 = pd.DataFrame(sc_X.transform(X_test))\n",
    "X_test2.columns = X_test.columns.values\n",
    "X_test2.index = X_test.index.values\n",
    "X_test = X_test2"
   ]
  },
  {
   "cell_type": "code",
   "execution_count": 26,
   "metadata": {},
   "outputs": [],
   "source": [
    "#Model Implementation \"Logistic Regression\"\n",
    "model = LogisticRegression(solver= 'liblinear')"
   ]
  },
  {
   "cell_type": "code",
   "execution_count": 27,
   "metadata": {},
   "outputs": [
    {
     "name": "stdout",
     "output_type": "stream",
     "text": [
      "                 Model  Accuracy  Precision   Recall  F1 Score  F2 Score\n",
      "0  Logistic Regression  0.834622   0.712121  0.03769  0.071592  0.046498\n"
     ]
    }
   ],
   "source": [
    "#Test your model performance\n",
    "#Calculate precision, recall, F1-Score, ROC \n",
    "#Plot the ROC and precision-recall curves\n",
    "\n",
    "# Fitting Logistic Regression to the Training set\n",
    "model.fit(X_train, y_train)\n",
    "# Predicting the Test set results\n",
    "y_pred = model.predict(X_test)\n",
    "#Evaluate results\n",
    "acc = accuracy_score(y_test, y_pred )\n",
    "prec = precision_score(y_test, y_pred )\n",
    "rec = recall_score(y_test, y_pred )\n",
    "f1 = f1_score(y_test, y_pred )\n",
    "f2 = fbeta_score(y_test, y_pred, beta=2.0)\n",
    "\n",
    "\n",
    "results = pd.DataFrame([['Logistic Regression', \n",
    "acc, prec, rec, f1, f2]], columns = ['Model', \n",
    "'Accuracy', 'Precision', 'Recall', 'F1 Score', \n",
    "'F2 Score'])\n",
    "results = results.sort_values([\"Precision\", \n",
    "\"Recall\", \"F2 Score\"], ascending = False)\n",
    "print (results)"
   ]
  },
  {
   "cell_type": "code",
   "execution_count": 28,
   "metadata": {},
   "outputs": [
    {
     "data": {
      "text/plain": [
       "Text(0.5, 12.5, 'Predicted label\\n')"
      ]
     },
     "execution_count": 28,
     "metadata": {},
     "output_type": "execute_result"
    },
    {
     "data": {
      "text/plain": [
       "<Figure size 2016x1440 with 0 Axes>"
      ]
     },
     "metadata": {},
     "output_type": "display_data"
    },
    {
     "data": {
      "image/png": "[encoded data removed]",
      "text/plain": [
       "<Figure size 432x288 with 2 Axes>"
      ]
     },
     "metadata": {},
     "output_type": "display_data"
    }
   ],
   "source": [
    "cm = confusion_matrix(y_test, y_pred) \n",
    "df_cm = pd.DataFrame(cm, index = (0, 1), columns = (0, 1))\n",
    "plt.figure(figsize = (28,20))\n",
    "fig, ax = plt.subplots()\n",
    "sn.set(font_scale=1.4)\n",
    "sn.heatmap(df_cm, annot=True, fmt='g',cmap=\"YlGnBu\" )\n",
    "class_names=[0,1]\n",
    "tick_marks = np.arange(len(class_names))\n",
    "plt.tight_layout()\n",
    "plt.title('Confusion matrix for Logistic Regression\\n', y=1.1)\n",
    "plt.xticks(tick_marks, class_names)\n",
    "plt.yticks(tick_marks, class_names)\n",
    "ax.xaxis.set_label_position(\"top\")\n",
    "plt.ylabel('Actual label\\n')\n",
    "plt.xlabel('Predicted label\\n')"
   ]
  },
  {
   "cell_type": "code",
   "execution_count": 29,
   "metadata": {},
   "outputs": [
    {
     "data": {
      "image/png": "[encoded data removed]",
      "text/plain": [
       "<Figure size 864x576 with 1 Axes>"
      ]
     },
     "metadata": {},
     "output_type": "display_data"
    }
   ],
   "source": [
    "#AUC Curve\n",
    "\n",
    "y_pred_proba = model.predict_proba(X_test)[::,1]\n",
    "fpr, tpr, _ = metrics.roc_curve(y_test,  y_pred_proba)\n",
    "auc = metrics.roc_auc_score(y_test, y_pred_proba)\n",
    "fig, ax = plt.subplots(figsize=(12, 8))\n",
    "ax.plot(fpr,tpr,label=\"data, auc score=\"+str(auc),marker='.')\n",
    "plt.xlabel('False Positive Rate')\n",
    "plt.ylabel('True Positive Rate')\n",
    "plt.title('ROC Curve')\n",
    "plt.legend(loc=4)\n",
    "plt.show()"
   ]
  },
  {
   "cell_type": "markdown",
   "metadata": {},
   "source": [
    "## Analysis of Results for Logistic Regression"
   ]
  },
  {
   "cell_type": "markdown",
   "metadata": {},
   "source": [
    "First, let's analyze the scores that we get for Logistic Regression Model. We can see that accuracy of the model 0.834622 which is quite good but we need to analyze other metrics such as precision and recall. If we look at them, we can see that although precision (True Predicted Positive rate) is high, the recall that is true positive rate is really low. This is concerning for our model's needs. **Our model is to predict loan fallouts and in a loan fallout , we want really low false negative rates. This is due to fact that false negatives indicate the loans that is tagged as fallout but our model is predicted it as non loan fallout.** This is not desired from the companys that issue loans as they give huge importance to correctly identify the loans with higher possibilty of fallout. However, they do not give so much importance to FP that is healthy loans but predicted as loan fallout from our model. **Thus, we desire the FNs to be as much low as possible.** So, we can say that the results is not that great and the model is not great for our purposes although it provides accurate results. F1 score also indicates and supports this result as it is low.  <br>\n",
    "If we look at the ROC curve, Area under the curve is approximately 0.65 which indicates a bad AUC score because a base model where we can say \"no classifier\" has 0.5 score. We would like to get a significant TP rate and low FP rate for a good model. This result does not show that.\n"
   ]
  },
  {
   "cell_type": "markdown",
   "metadata": {},
   "source": [
    "### Second Model: Naive Bayes "
   ]
  },
  {
   "cell_type": "code",
   "execution_count": 30,
   "metadata": {},
   "outputs": [],
   "source": [
    "#Create a Gaussian Classifier\n",
    "gnb = GaussianNB()\n",
    "\n",
    "#Train the model using the training sets\n",
    "gnb.fit(X_train, y_train)\n",
    "\n",
    "#Predict the response for test dataset\n",
    "y_pred = gnb.predict(X_test)"
   ]
  },
  {
   "cell_type": "code",
   "execution_count": 31,
   "metadata": {},
   "outputs": [
    {
     "name": "stdout",
     "output_type": "stream",
     "text": [
      "                 Model  Accuracy  Precision    Recall  F1 Score  F2 Score\n",
      "0  Logistic Regression  0.834622   0.712121  0.037690  0.071592  0.046498\n",
      "1          Naive Bayes  0.803826   0.363136  0.211708  0.267477  0.230971\n"
     ]
    }
   ],
   "source": [
    "#Evaluate results\n",
    "acc = accuracy_score(y_test, y_pred )\n",
    "prec = precision_score(y_test, y_pred )\n",
    "rec = recall_score(y_test, y_pred )\n",
    "f1 = f1_score(y_test, y_pred )\n",
    "f2 = fbeta_score(y_test, y_pred, beta=2.0)\n",
    "results.loc[len(results.index)]=['Naive Bayes', \n",
    "acc, prec, rec, f1, f2]\n",
    "print(results)"
   ]
  },
  {
   "cell_type": "code",
   "execution_count": 32,
   "metadata": {},
   "outputs": [
    {
     "data": {
      "text/plain": [
       "Text(0.5, 8.5, 'Predicted label\\n')"
      ]
     },
     "execution_count": 32,
     "metadata": {},
     "output_type": "execute_result"
    },
    {
     "data": {
      "text/plain": [
       "<Figure size 2016x1440 with 0 Axes>"
      ]
     },
     "metadata": {},
     "output_type": "display_data"
    },
    {
     "data": {
      "image/png": "[encoded data removed]",
      "text/plain": [
       "<Figure size 432x288 with 2 Axes>"
      ]
     },
     "metadata": {},
     "output_type": "display_data"
    }
   ],
   "source": [
    "#Confusion Matrix\n",
    "\n",
    "cm = confusion_matrix(y_test, y_pred) \n",
    "df_cm = pd.DataFrame(cm, index = (0, 1), columns = (0, 1))\n",
    "plt.figure(figsize = (28,20))\n",
    "fig, ax = plt.subplots()\n",
    "sn.set(font_scale=1.4)\n",
    "sn.heatmap(df_cm, annot=True, fmt='g',cmap=\"YlGnBu\" )\n",
    "class_names=[0,1]\n",
    "tick_marks = np.arange(len(class_names))\n",
    "plt.tight_layout()\n",
    "plt.title('Confusion matrix for Naive Bayes\\n', y=1.1)\n",
    "plt.xticks(tick_marks, class_names)\n",
    "plt.yticks(tick_marks, class_names)\n",
    "ax.xaxis.set_label_position(\"top\")\n",
    "plt.ylabel('Actual label\\n')\n",
    "plt.xlabel('Predicted label\\n')"
   ]
  },
  {
   "cell_type": "code",
   "execution_count": 33,
   "metadata": {},
   "outputs": [
    {
     "data": {
      "image/png": "[encoded data removed]",
      "text/plain": [
       "<Figure size 864x576 with 1 Axes>"
      ]
     },
     "metadata": {},
     "output_type": "display_data"
    }
   ],
   "source": [
    "#AUC Curve\n",
    "\n",
    "y_pred_proba = gnb.predict_proba(X_test)[::,1]\n",
    "fpr, tpr, _ = metrics.roc_curve(y_test,  y_pred_proba)\n",
    "auc = metrics.roc_auc_score(y_test, y_pred_proba)\n",
    "fig, ax = plt.subplots(figsize=(12, 8))\n",
    "ax.plot(fpr,tpr,label=\"data, auc score=\"+str(auc),marker='.')\n",
    "plt.xlabel('False Positive Rate')\n",
    "plt.ylabel('True Positive Rate')\n",
    "plt.title('ROC Curve')\n",
    "plt.legend(loc=4)\n",
    "plt.show()"
   ]
  },
  {
   "cell_type": "markdown",
   "metadata": {},
   "source": [
    "## Analysis of Results for Naive Bayes Model"
   ]
  },
  {
   "cell_type": "markdown",
   "metadata": {},
   "source": [
    "Naive Bayes model provides worse accuracy if you compare it with Logistic regression model. However, this does not mean that naive bayes model is worse than logistic regression. If we look at the recall and precision scores, we can clearly see that while we lose some considerable precison score, we increase recall score significantly. Moreover, F1 and F2 score is also increased significantly where they are useful for unbalanced datasets and could be said that averaging or balanced score of recall and precision. So, as False Negatives are crucial for us, we can say that Naive Bayes is better than logistic regression in our case.  <br>\n",
    "AUC score is got lower slightly if we compare it with logistic regression and the ROC curve seems really similar to logistic regression ROC curve.\n"
   ]
  },
  {
   "cell_type": "markdown",
   "metadata": {},
   "source": [
    "### Third Model: Decision Trees"
   ]
  },
  {
   "cell_type": "code",
   "execution_count": 34,
   "metadata": {},
   "outputs": [],
   "source": [
    "dtree= DecisionTreeClassifier(max_leaf_nodes=3)\n",
    "\n",
    "dtree.fit(X_train,y_train)\n",
    "y_pred= dtree.predict(X_test)\n"
   ]
  },
  {
   "cell_type": "code",
   "execution_count": 35,
   "metadata": {},
   "outputs": [
    {
     "name": "stdout",
     "output_type": "stream",
     "text": [
      "                 Model  Accuracy  Precision    Recall  F1 Score  F2 Score\n",
      "0  Logistic Regression  0.834622   0.712121  0.037690  0.071592  0.046498\n",
      "1          Naive Bayes  0.803826   0.363136  0.211708  0.267477  0.230971\n",
      "2        Decision Tree  0.837336   0.700000  0.067362  0.122897  0.082224\n"
     ]
    }
   ],
   "source": [
    "#Evaluate results\n",
    "acc = accuracy_score(y_test, y_pred )\n",
    "prec = precision_score(y_test, y_pred )\n",
    "rec = recall_score(y_test, y_pred )\n",
    "f1 = f1_score(y_test, y_pred )\n",
    "f2 = fbeta_score(y_test, y_pred, beta=2.0)\n",
    "results.loc[len(results.index)]=['Decision Tree', \n",
    "acc, prec, rec, f1, f2]\n",
    "print(results)"
   ]
  },
  {
   "cell_type": "code",
   "execution_count": 36,
   "metadata": {},
   "outputs": [
    {
     "data": {
      "text/plain": [
       "Text(0.5, 8.5, 'Predicted label\\n')"
      ]
     },
     "execution_count": 36,
     "metadata": {},
     "output_type": "execute_result"
    },
    {
     "data": {
      "text/plain": [
       "<Figure size 2016x1440 with 0 Axes>"
      ]
     },
     "metadata": {},
     "output_type": "display_data"
    },
    {
     "data": {
      "image/png": "[encoded data removed]",
      "text/plain": [
       "<Figure size 432x288 with 2 Axes>"
      ]
     },
     "metadata": {},
     "output_type": "display_data"
    }
   ],
   "source": [
    "#Confusion Matrix\n",
    "\n",
    "cm = confusion_matrix(y_test, y_pred) \n",
    "df_cm = pd.DataFrame(cm, index = (0, 1), columns = (0, 1))\n",
    "plt.figure(figsize = (28,20))\n",
    "fig, ax = plt.subplots()\n",
    "sn.set(font_scale=1.4)\n",
    "sn.heatmap(df_cm, annot=True, fmt='g',cmap=\"YlGnBu\" )\n",
    "class_names=[0,1]\n",
    "tick_marks = np.arange(len(class_names))\n",
    "plt.tight_layout()\n",
    "plt.title('Confusion matrix for Decision Tree\\n', y=1.1)\n",
    "plt.xticks(tick_marks, class_names)\n",
    "plt.yticks(tick_marks, class_names)\n",
    "ax.xaxis.set_label_position(\"top\")\n",
    "plt.ylabel('Actual label\\n')\n",
    "plt.xlabel('Predicted label\\n')"
   ]
  },
  {
   "cell_type": "code",
   "execution_count": 37,
   "metadata": {},
   "outputs": [
    {
     "data": {
      "image/png": "[encoded data removed]",
      "text/plain": [
       "<Figure size 864x576 with 1 Axes>"
      ]
     },
     "metadata": {},
     "output_type": "display_data"
    }
   ],
   "source": [
    "#AUC Curve\n",
    "\n",
    "y_pred_proba = dtree.predict_proba(X_test)[::,1]\n",
    "fpr, tpr, _ = metrics.roc_curve(y_test,  y_pred_proba)\n",
    "auc = metrics.roc_auc_score(y_test, y_pred_proba)\n",
    "fig, ax = plt.subplots(figsize=(12, 8))\n",
    "ax.plot(fpr,tpr,label=\"data, auc score=\"+str(auc),marker='.')\n",
    "plt.xlabel('False Positive Rate')\n",
    "plt.ylabel('True Positive Rate')\n",
    "plt.title('ROC Curve')\n",
    "plt.legend(loc=4)\n",
    "plt.show()"
   ]
  },
  {
   "cell_type": "markdown",
   "metadata": {},
   "source": [
    "## Analysis of Results for Decision Tree Model"
   ]
  },
  {
   "cell_type": "markdown",
   "metadata": {},
   "source": [
    "If we look at the results that we got for decision tree model, we can see that its performance is in between Naive Bayes and logistic regression. Both the recall and precision values are in between logistic regression and naive bayes. The positive side of this model is higher accuracy that we got in comparison to others, which is slightly better than logistic regression's accuracy. The interesting result here is that auc score is really low if we compare it with other models. This is a good indicator for a good classifier model which in this case, we can conclude that the decision tree model is not that good for modelling loan fallout dataset."
   ]
  },
  {
   "cell_type": "markdown",
   "metadata": {},
   "source": [
    "### Conduct a K-fold cross validation "
   ]
  },
  {
   "cell_type": "code",
   "execution_count": 38,
   "metadata": {},
   "outputs": [],
   "source": [
    "kfold = model_selection.KFold(n_splits=10, random_state=None)"
   ]
  },
  {
   "cell_type": "code",
   "execution_count": 39,
   "metadata": {},
   "outputs": [],
   "source": [
    "#Interpret the result\n",
    "\n",
    "def result_CV(model,xset,yset,cvmodel,model_name):\n",
    "    result = cross_val_score(model , xset, yset, cv = cvmodel)\n",
    "    print(\"Avg accuracy of \" ,model_name, \": {}\".format(result.mean()))\n",
    "    # roc_auc scoring  by cross-validation:\n",
    "    cv_auc_results = model_selection.cross_val_score(  \n",
    "    model, X_train, y_train, cv=kfold, scoring='roc_auc')\n",
    "    print(\"Avg Roc AUC score of Logistic Regression: {}\".format(cv_auc_results.mean()))"
   ]
  },
  {
   "cell_type": "code",
   "execution_count": 40,
   "metadata": {},
   "outputs": [
    {
     "name": "stdout",
     "output_type": "stream",
     "text": [
      "Avg accuracy of  Logistic Regression : 0.8352610617494236\n",
      "Avg Roc AUC score of Logistic Regression: 0.6498715834239153\n"
     ]
    }
   ],
   "source": [
    "result_CV(model,X_train, y_train, kfold,\"Logistic Regression\")"
   ]
  },
  {
   "cell_type": "code",
   "execution_count": 41,
   "metadata": {},
   "outputs": [
    {
     "name": "stdout",
     "output_type": "stream",
     "text": [
      "Avg accuracy of  Naive Bayes : 0.8069740426692948\n",
      "Avg Roc AUC score of Logistic Regression: 0.6390424564851431\n"
     ]
    }
   ],
   "source": [
    "result_CV(gnb,X_train, y_train, kfold,\"Naive Bayes\")"
   ]
  },
  {
   "cell_type": "code",
   "execution_count": 42,
   "metadata": {},
   "outputs": [
    {
     "name": "stdout",
     "output_type": "stream",
     "text": [
      "Avg accuracy of  Decision Tree : 0.8378048948819206\n",
      "Avg Roc AUC score of Logistic Regression: 0.5888064175777006\n"
     ]
    }
   ],
   "source": [
    "result_CV(dtree,X_train, y_train, kfold,\"Decision Tree\")"
   ]
  },
  {
   "cell_type": "markdown",
   "metadata": {},
   "source": [
    "Let's analyze the results of three models. We can observe similarities with results we got without cross validation. So, decision tree is again the most accurate modle among these three models. However, this time logistic regressions AUC score is the highest which indicates that it is has the highest (true positive rate / false positive rate) which is an indication of a better classification model. As teh False negatives are more imprtant in our case and by looking overall performance of three models form CV scores, logistic regression seems as the best model among these three models."
   ]
  },
  {
   "cell_type": "markdown",
   "metadata": {},
   "source": [
    "### Comments about the Results\n"
   ]
  },
  {
   "cell_type": "code",
   "execution_count": 43,
   "metadata": {},
   "outputs": [
    {
     "name": "stdout",
     "output_type": "stream",
     "text": [
      "       APPLICATION_NUM  FALLOUT_FLAG  predictions  fallout_rate(%) Ranking\n",
      "14386          1248953             0            0            10.27       9\n",
      "31869          1266436             0            0             9.82       9\n",
      "14005          1248572             0            0            21.29       2\n",
      "46007          1280574             1            0            11.40       8\n",
      "2393           1236960             0            0             8.65      10\n",
      "...                ...           ...          ...              ...     ...\n",
      "4195           1238762             0            0            22.33       2\n",
      "19191          1253758             0            0            11.52       8\n",
      "26214          1260781             0            0            12.00       7\n",
      "8264           1242831             0            0            17.98       3\n",
      "1991           1236558             0            0            24.42       2\n",
      "\n",
      "[7371 rows x 5 columns]\n"
     ]
    }
   ],
   "source": [
    "#Let's observe the fallout rate calculation with logistic regression model's predicted probabilities for each customer in the database.\n",
    "final_results = pd.concat([test_id, y_test], axis = 1).dropna()\n",
    "#probability score\n",
    "y_pred_probs = model.predict_proba(X_test)\n",
    "y_pred_probs  = y_pred_probs [:, 1]\n",
    "\n",
    "final_results['predictions'] = y_pred\n",
    "final_results[\"fallout_rate(%)\"] = y_pred_probs\n",
    "final_results[\"fallout_rate(%)\"] = final_results[\"fallout_rate(%)\"]*100\n",
    "final_results[\"fallout_rate(%)\"]=final_results[\"fallout_rate(%)\"].round(2)\n",
    "final_results = final_results[['APPLICATION_NUM', 'FALLOUT_FLAG', 'predictions', 'fallout_rate(%)']]\n",
    "final_results ['Ranking'] = pd.qcut(final_results['fallout_rate(%)'].rank(method = 'first'),10,labels=range(10,0,-1))\n",
    "print (final_results)"
   ]
  },
  {
   "cell_type": "code",
   "execution_count": 44,
   "metadata": {
    "scrolled": true
   },
   "outputs": [
    {
     "data": {
      "text/html": [
       "<div>\n",
       "<style scoped>\n",
       "    .dataframe tbody tr th:only-of-type {\n",
       "        vertical-align: middle;\n",
       "    }\n",
       "\n",
       "    .dataframe tbody tr th {\n",
       "        vertical-align: top;\n",
       "    }\n",
       "\n",
       "    .dataframe thead th {\n",
       "        text-align: right;\n",
       "    }\n",
       "</style>\n",
       "<table border=\"1\" class=\"dataframe\">\n",
       "  <thead>\n",
       "    <tr style=\"text-align: right;\">\n",
       "      <th></th>\n",
       "      <th>APPLICATION_NUM</th>\n",
       "      <th>FALLOUT_FLAG</th>\n",
       "      <th>predictions</th>\n",
       "      <th>fallout_rate(%)</th>\n",
       "      <th>Ranking</th>\n",
       "    </tr>\n",
       "  </thead>\n",
       "  <tbody>\n",
       "    <tr>\n",
       "      <th>34198</th>\n",
       "      <td>1268765</td>\n",
       "      <td>1</td>\n",
       "      <td>1</td>\n",
       "      <td>90.10</td>\n",
       "      <td>1</td>\n",
       "    </tr>\n",
       "    <tr>\n",
       "      <th>43642</th>\n",
       "      <td>1278209</td>\n",
       "      <td>1</td>\n",
       "      <td>0</td>\n",
       "      <td>84.76</td>\n",
       "      <td>1</td>\n",
       "    </tr>\n",
       "    <tr>\n",
       "      <th>36111</th>\n",
       "      <td>1270678</td>\n",
       "      <td>1</td>\n",
       "      <td>1</td>\n",
       "      <td>84.30</td>\n",
       "      <td>1</td>\n",
       "    </tr>\n",
       "    <tr>\n",
       "      <th>34547</th>\n",
       "      <td>1269114</td>\n",
       "      <td>1</td>\n",
       "      <td>1</td>\n",
       "      <td>82.91</td>\n",
       "      <td>1</td>\n",
       "    </tr>\n",
       "    <tr>\n",
       "      <th>53978</th>\n",
       "      <td>1288545</td>\n",
       "      <td>1</td>\n",
       "      <td>1</td>\n",
       "      <td>79.99</td>\n",
       "      <td>1</td>\n",
       "    </tr>\n",
       "    <tr>\n",
       "      <th>36150</th>\n",
       "      <td>1270717</td>\n",
       "      <td>1</td>\n",
       "      <td>0</td>\n",
       "      <td>77.66</td>\n",
       "      <td>1</td>\n",
       "    </tr>\n",
       "    <tr>\n",
       "      <th>5657</th>\n",
       "      <td>1240224</td>\n",
       "      <td>0</td>\n",
       "      <td>0</td>\n",
       "      <td>75.42</td>\n",
       "      <td>1</td>\n",
       "    </tr>\n",
       "    <tr>\n",
       "      <th>1480</th>\n",
       "      <td>1236047</td>\n",
       "      <td>0</td>\n",
       "      <td>0</td>\n",
       "      <td>67.31</td>\n",
       "      <td>1</td>\n",
       "    </tr>\n",
       "    <tr>\n",
       "      <th>38756</th>\n",
       "      <td>1273323</td>\n",
       "      <td>1</td>\n",
       "      <td>0</td>\n",
       "      <td>66.65</td>\n",
       "      <td>1</td>\n",
       "    </tr>\n",
       "    <tr>\n",
       "      <th>49424</th>\n",
       "      <td>1283991</td>\n",
       "      <td>1</td>\n",
       "      <td>1</td>\n",
       "      <td>66.46</td>\n",
       "      <td>1</td>\n",
       "    </tr>\n",
       "  </tbody>\n",
       "</table>\n",
       "</div>"
      ],
      "text/plain": [
       "       APPLICATION_NUM  FALLOUT_FLAG  predictions  fallout_rate(%) Ranking\n",
       "34198          1268765             1            1            90.10       1\n",
       "43642          1278209             1            0            84.76       1\n",
       "36111          1270678             1            1            84.30       1\n",
       "34547          1269114             1            1            82.91       1\n",
       "53978          1288545             1            1            79.99       1\n",
       "36150          1270717             1            0            77.66       1\n",
       "5657           1240224             0            0            75.42       1\n",
       "1480           1236047             0            0            67.31       1\n",
       "38756          1273323             1            0            66.65       1\n",
       "49424          1283991             1            1            66.46       1"
      ]
     },
     "execution_count": 44,
     "metadata": {},
     "output_type": "execute_result"
    }
   ],
   "source": [
    "sort_by_ranking=final_results.sort_values('fallout_rate(%)',ascending=False)\n",
    "sort_by_ranking.head(10)"
   ]
  },
  {
   "cell_type": "markdown",
   "metadata": {},
   "source": [
    "If we sort the each customer with most likely to fallout, we can see some interesting results. Our algorithm does not predict fallout for some applications with fallout flag and also highly outcome of fallout as we can see from the %s. This shows us that indeed, our model is not that strong and there could be better models."
   ]
  },
  {
   "cell_type": "code",
   "execution_count": 45,
   "metadata": {},
   "outputs": [
    {
     "data": {
      "text/html": [
       "<div>\n",
       "<style scoped>\n",
       "    .dataframe tbody tr th:only-of-type {\n",
       "        vertical-align: middle;\n",
       "    }\n",
       "\n",
       "    .dataframe tbody tr th {\n",
       "        vertical-align: top;\n",
       "    }\n",
       "\n",
       "    .dataframe thead th {\n",
       "        text-align: right;\n",
       "    }\n",
       "</style>\n",
       "<table border=\"1\" class=\"dataframe\">\n",
       "  <thead>\n",
       "    <tr style=\"text-align: right;\">\n",
       "      <th></th>\n",
       "      <th>APPLICATION_NUM</th>\n",
       "      <th>FALLOUT_FLAG</th>\n",
       "      <th>predictions</th>\n",
       "      <th>fallout_rate(%)</th>\n",
       "      <th>Ranking</th>\n",
       "    </tr>\n",
       "  </thead>\n",
       "  <tbody>\n",
       "    <tr>\n",
       "      <th>21537</th>\n",
       "      <td>1256104</td>\n",
       "      <td>0</td>\n",
       "      <td>0</td>\n",
       "      <td>4.76</td>\n",
       "      <td>10</td>\n",
       "    </tr>\n",
       "    <tr>\n",
       "      <th>28858</th>\n",
       "      <td>1263425</td>\n",
       "      <td>0</td>\n",
       "      <td>0</td>\n",
       "      <td>5.19</td>\n",
       "      <td>10</td>\n",
       "    </tr>\n",
       "    <tr>\n",
       "      <th>28477</th>\n",
       "      <td>1263044</td>\n",
       "      <td>0</td>\n",
       "      <td>0</td>\n",
       "      <td>5.39</td>\n",
       "      <td>10</td>\n",
       "    </tr>\n",
       "    <tr>\n",
       "      <th>15402</th>\n",
       "      <td>1249969</td>\n",
       "      <td>0</td>\n",
       "      <td>0</td>\n",
       "      <td>5.84</td>\n",
       "      <td>10</td>\n",
       "    </tr>\n",
       "    <tr>\n",
       "      <th>30773</th>\n",
       "      <td>1265340</td>\n",
       "      <td>0</td>\n",
       "      <td>0</td>\n",
       "      <td>5.88</td>\n",
       "      <td>10</td>\n",
       "    </tr>\n",
       "    <tr>\n",
       "      <th>23206</th>\n",
       "      <td>1257773</td>\n",
       "      <td>0</td>\n",
       "      <td>0</td>\n",
       "      <td>5.93</td>\n",
       "      <td>10</td>\n",
       "    </tr>\n",
       "    <tr>\n",
       "      <th>26036</th>\n",
       "      <td>1260603</td>\n",
       "      <td>0</td>\n",
       "      <td>0</td>\n",
       "      <td>5.96</td>\n",
       "      <td>10</td>\n",
       "    </tr>\n",
       "    <tr>\n",
       "      <th>30912</th>\n",
       "      <td>1265479</td>\n",
       "      <td>0</td>\n",
       "      <td>0</td>\n",
       "      <td>6.00</td>\n",
       "      <td>10</td>\n",
       "    </tr>\n",
       "    <tr>\n",
       "      <th>30319</th>\n",
       "      <td>1264886</td>\n",
       "      <td>0</td>\n",
       "      <td>0</td>\n",
       "      <td>6.11</td>\n",
       "      <td>10</td>\n",
       "    </tr>\n",
       "    <tr>\n",
       "      <th>31905</th>\n",
       "      <td>1266472</td>\n",
       "      <td>0</td>\n",
       "      <td>0</td>\n",
       "      <td>6.15</td>\n",
       "      <td>10</td>\n",
       "    </tr>\n",
       "  </tbody>\n",
       "</table>\n",
       "</div>"
      ],
      "text/plain": [
       "       APPLICATION_NUM  FALLOUT_FLAG  predictions  fallout_rate(%) Ranking\n",
       "21537          1256104             0            0             4.76      10\n",
       "28858          1263425             0            0             5.19      10\n",
       "28477          1263044             0            0             5.39      10\n",
       "15402          1249969             0            0             5.84      10\n",
       "30773          1265340             0            0             5.88      10\n",
       "23206          1257773             0            0             5.93      10\n",
       "26036          1260603             0            0             5.96      10\n",
       "30912          1265479             0            0             6.00      10\n",
       "30319          1264886             0            0             6.11      10\n",
       "31905          1266472             0            0             6.15      10"
      ]
     },
     "execution_count": 45,
     "metadata": {},
     "output_type": "execute_result"
    }
   ],
   "source": [
    "sort_by_ranking=final_results.sort_values('fallout_rate(%)',ascending=True)\n",
    "sort_by_ranking.head(10)"
   ]
  },
  {
   "cell_type": "markdown",
   "metadata": {},
   "source": [
    "We do not see same issue for no fallouts as we can see all match from above table. It seems that algortihm works better for decisions of no fallout."
   ]
  },
  {
   "cell_type": "code",
   "execution_count": null,
   "metadata": {},
   "outputs": [],
   "source": []
  }
 ],
 "metadata": {
  "kernelspec": {
   "display_name": "Python 3",
   "language": "python",
   "name": "python3"
  },
  "language_info": {
   "codemirror_mode": {
    "name": "ipython",
    "version": 3
   },
   "file_extension": ".py",
   "mimetype": "text/x-python",
   "name": "python",
   "nbconvert_exporter": "python",
   "pygments_lexer": "ipython3",
   "version": "3.8.5"
  }
 },
 "nbformat": 4,
 "nbformat_minor": 4
}
