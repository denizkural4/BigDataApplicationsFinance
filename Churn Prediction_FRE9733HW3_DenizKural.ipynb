{
 "cells": [
  {
   "cell_type": "markdown",
   "metadata": {},
   "source": [
    "### Churn Prediction\n",
    "FRE9733- Homework 3 \n",
    "\n",
    "Deniz Kural - dk3703"
   ]
  },
  {
   "cell_type": "markdown",
   "metadata": {},
   "source": [
    "1. Load Mocked_Customer_Data_With_Missing.xlsx into R/Python and save it as a data frame\n",
    "2. Check the data completeness, and identify numeric vs categorical variables\n",
    "3. Plot histograms of “age” group by “churn”\n",
    "4. Conduct a t-test of “tot_bill” regarding “churn”\n",
    "5. Fill out the missing values if any\n",
    "6. Split the dataset into training and validation sets\n",
    "7. Build a logistic regression model to predict “churn”\n",
    "8. Conduct a K-fold cross validation \n",
    "9. Interpret the result\n",
    "10. Test your model performance\n",
    "\tCalculate precision, recall, F1-Score, ROC \t\n",
    "\tPlot the ROC and precision-recall curves\n",
    "11. See if any data transformation can improve the performance\n",
    "12. Summarize your findings into a brief report"
   ]
  },
  {
   "cell_type": "code",
   "execution_count": 421,
   "metadata": {},
   "outputs": [],
   "source": [
    "#Step 1\n",
    "import pandas as pd\n",
    "import matplotlib.pyplot as plt\n",
    "import numpy as np\n",
    "from scipy.stats import ttest_ind\n",
    "import seaborn as sn\n",
    "from sklearn import metrics\n",
    "from sklearn.linear_model import LogisticRegression\n",
    "from sklearn.metrics import confusion_matrix, accuracy_score \n",
    "from sklearn.metrics import f1_score, precision_score, recall_score, fbeta_score\n",
    "from sklearn.model_selection import cross_val_score\n",
    "from sklearn.model_selection import GridSearchCV\n",
    "from sklearn.model_selection import KFold\n",
    "from sklearn import feature_selection\n",
    "\n",
    "from sklearn.metrics import classification_report, precision_recall_curve\n",
    "from sklearn.metrics import auc, roc_auc_score, roc_curve\n",
    "from sklearn.preprocessing import LabelEncoder, OneHotEncoder\n",
    "from sklearn.preprocessing import OneHotEncoder\n",
    "from sklearn.model_selection import train_test_split\n",
    "from sklearn.preprocessing import StandardScaler\n",
    "from IPython.display import display, HTML"
   ]
  },
  {
   "cell_type": "code",
   "execution_count": 422,
   "metadata": {},
   "outputs": [],
   "source": [
    "#Import the dataset\n",
    "df= pd.read_excel(\"/Users/denizkuraal/Desktop/FRE9733/Mocked_Customer_Data_With_Missing.xlsx\")"
   ]
  },
  {
   "cell_type": "code",
   "execution_count": 423,
   "metadata": {},
   "outputs": [
    {
     "data": {
      "text/html": [
       "<div>\n",
       "<style scoped>\n",
       "    .dataframe tbody tr th:only-of-type {\n",
       "        vertical-align: middle;\n",
       "    }\n",
       "\n",
       "    .dataframe tbody tr th {\n",
       "        vertical-align: top;\n",
       "    }\n",
       "\n",
       "    .dataframe thead th {\n",
       "        text-align: right;\n",
       "    }\n",
       "</style>\n",
       "<table border=\"1\" class=\"dataframe\">\n",
       "  <thead>\n",
       "    <tr style=\"text-align: right;\">\n",
       "      <th></th>\n",
       "      <th>cust_id</th>\n",
       "      <th>churn_flag</th>\n",
       "      <th>gender</th>\n",
       "      <th>marrital</th>\n",
       "      <th>age</th>\n",
       "      <th>home_owner</th>\n",
       "      <th>num_cont</th>\n",
       "      <th>tot_bill</th>\n",
       "      <th>tot_call</th>\n",
       "      <th>tot_bal</th>\n",
       "      <th>fortune</th>\n",
       "      <th>tot_bytes</th>\n",
       "      <th>tot_air</th>\n",
       "      <th>num_out</th>\n",
       "      <th>google_bytes</th>\n",
       "      <th>google_air</th>\n",
       "      <th>yahoo_bytes</th>\n",
       "      <th>yahoo_air</th>\n",
       "    </tr>\n",
       "  </thead>\n",
       "  <tbody>\n",
       "    <tr>\n",
       "      <th>0</th>\n",
       "      <td>c000001</td>\n",
       "      <td>1</td>\n",
       "      <td>Male</td>\n",
       "      <td>divorced</td>\n",
       "      <td>49.0</td>\n",
       "      <td>0</td>\n",
       "      <td>0</td>\n",
       "      <td>134.130817</td>\n",
       "      <td>53</td>\n",
       "      <td>4973.07</td>\n",
       "      <td>Mass</td>\n",
       "      <td>931.28</td>\n",
       "      <td>3046.90</td>\n",
       "      <td>194</td>\n",
       "      <td>320.52</td>\n",
       "      <td>1270.23</td>\n",
       "      <td>194.04</td>\n",
       "      <td>710.45</td>\n",
       "    </tr>\n",
       "    <tr>\n",
       "      <th>1</th>\n",
       "      <td>c000002</td>\n",
       "      <td>1</td>\n",
       "      <td>Male</td>\n",
       "      <td>divorced</td>\n",
       "      <td>33.0</td>\n",
       "      <td>0</td>\n",
       "      <td>1</td>\n",
       "      <td>121.247165</td>\n",
       "      <td>68</td>\n",
       "      <td>4528.01</td>\n",
       "      <td>Low</td>\n",
       "      <td>580.62</td>\n",
       "      <td>3549.74</td>\n",
       "      <td>331</td>\n",
       "      <td>491.50</td>\n",
       "      <td>1484.64</td>\n",
       "      <td>32.14</td>\n",
       "      <td>823.42</td>\n",
       "    </tr>\n",
       "    <tr>\n",
       "      <th>2</th>\n",
       "      <td>c000003</td>\n",
       "      <td>1</td>\n",
       "      <td>Female</td>\n",
       "      <td>divorced</td>\n",
       "      <td>38.0</td>\n",
       "      <td>0</td>\n",
       "      <td>1</td>\n",
       "      <td>164.144198</td>\n",
       "      <td>38</td>\n",
       "      <td>5565.09</td>\n",
       "      <td>Affluent</td>\n",
       "      <td>754.07</td>\n",
       "      <td>2996.59</td>\n",
       "      <td>139</td>\n",
       "      <td>283.24</td>\n",
       "      <td>764.69</td>\n",
       "      <td>182.07</td>\n",
       "      <td>718.69</td>\n",
       "    </tr>\n",
       "    <tr>\n",
       "      <th>3</th>\n",
       "      <td>c000004</td>\n",
       "      <td>1</td>\n",
       "      <td>Female</td>\n",
       "      <td>married</td>\n",
       "      <td>26.0</td>\n",
       "      <td>1</td>\n",
       "      <td>1</td>\n",
       "      <td>177.394137</td>\n",
       "      <td>80</td>\n",
       "      <td>5370.00</td>\n",
       "      <td>Affluent</td>\n",
       "      <td>384.81</td>\n",
       "      <td>2443.78</td>\n",
       "      <td>98</td>\n",
       "      <td>384.81</td>\n",
       "      <td>721.44</td>\n",
       "      <td>145.09</td>\n",
       "      <td>742.61</td>\n",
       "    </tr>\n",
       "    <tr>\n",
       "      <th>4</th>\n",
       "      <td>c000005</td>\n",
       "      <td>0</td>\n",
       "      <td>Male</td>\n",
       "      <td>single</td>\n",
       "      <td>55.0</td>\n",
       "      <td>0</td>\n",
       "      <td>2</td>\n",
       "      <td>155.183919</td>\n",
       "      <td>50</td>\n",
       "      <td>5101.25</td>\n",
       "      <td>Affluent</td>\n",
       "      <td>15.30</td>\n",
       "      <td>2576.98</td>\n",
       "      <td>294</td>\n",
       "      <td>15.30</td>\n",
       "      <td>774.92</td>\n",
       "      <td>15.30</td>\n",
       "      <td>710.88</td>\n",
       "    </tr>\n",
       "  </tbody>\n",
       "</table>\n",
       "</div>"
      ],
      "text/plain": [
       "   cust_id  churn_flag  gender  marrital   age  home_owner  num_cont  \\\n",
       "0  c000001           1    Male  divorced  49.0           0         0   \n",
       "1  c000002           1    Male  divorced  33.0           0         1   \n",
       "2  c000003           1  Female  divorced  38.0           0         1   \n",
       "3  c000004           1  Female   married  26.0           1         1   \n",
       "4  c000005           0    Male    single  55.0           0         2   \n",
       "\n",
       "     tot_bill  tot_call  tot_bal   fortune  tot_bytes  tot_air  num_out  \\\n",
       "0  134.130817        53  4973.07      Mass     931.28  3046.90      194   \n",
       "1  121.247165        68  4528.01       Low     580.62  3549.74      331   \n",
       "2  164.144198        38  5565.09  Affluent     754.07  2996.59      139   \n",
       "3  177.394137        80  5370.00  Affluent     384.81  2443.78       98   \n",
       "4  155.183919        50  5101.25  Affluent      15.30  2576.98      294   \n",
       "\n",
       "   google_bytes  google_air  yahoo_bytes  yahoo_air  \n",
       "0        320.52     1270.23       194.04     710.45  \n",
       "1        491.50     1484.64        32.14     823.42  \n",
       "2        283.24      764.69       182.07     718.69  \n",
       "3        384.81      721.44       145.09     742.61  \n",
       "4         15.30      774.92        15.30     710.88  "
      ]
     },
     "execution_count": 423,
     "metadata": {},
     "output_type": "execute_result"
    }
   ],
   "source": [
    "#Step 2\n",
    "#Evaluation of Dataset\n",
    "\n",
    "#Visualize the dataset \n",
    "df.head()"
   ]
  },
  {
   "cell_type": "code",
   "execution_count": 424,
   "metadata": {},
   "outputs": [
    {
     "data": {
      "text/plain": [
       "Index(['cust_id', 'churn_flag', 'gender', 'marrital', 'age', 'home_owner',\n",
       "       'num_cont', 'tot_bill', 'tot_call', 'tot_bal', 'fortune', 'tot_bytes',\n",
       "       'tot_air', 'num_out', 'google_bytes', 'google_air', 'yahoo_bytes',\n",
       "       'yahoo_air'],\n",
       "      dtype='object')"
      ]
     },
     "execution_count": 424,
     "metadata": {},
     "output_type": "execute_result"
    }
   ],
   "source": [
    "df.columns"
   ]
  },
  {
   "cell_type": "code",
   "execution_count": 425,
   "metadata": {},
   "outputs": [
    {
     "data": {
      "text/html": [
       "<div>\n",
       "<style scoped>\n",
       "    .dataframe tbody tr th:only-of-type {\n",
       "        vertical-align: middle;\n",
       "    }\n",
       "\n",
       "    .dataframe tbody tr th {\n",
       "        vertical-align: top;\n",
       "    }\n",
       "\n",
       "    .dataframe thead th {\n",
       "        text-align: right;\n",
       "    }\n",
       "</style>\n",
       "<table border=\"1\" class=\"dataframe\">\n",
       "  <thead>\n",
       "    <tr style=\"text-align: right;\">\n",
       "      <th></th>\n",
       "      <th>churn_flag</th>\n",
       "      <th>age</th>\n",
       "      <th>home_owner</th>\n",
       "      <th>num_cont</th>\n",
       "      <th>tot_bill</th>\n",
       "      <th>tot_call</th>\n",
       "      <th>tot_bal</th>\n",
       "      <th>tot_bytes</th>\n",
       "      <th>tot_air</th>\n",
       "      <th>num_out</th>\n",
       "      <th>google_bytes</th>\n",
       "      <th>google_air</th>\n",
       "      <th>yahoo_bytes</th>\n",
       "      <th>yahoo_air</th>\n",
       "    </tr>\n",
       "  </thead>\n",
       "  <tbody>\n",
       "    <tr>\n",
       "      <th>count</th>\n",
       "      <td>40000.000000</td>\n",
       "      <td>39957.000000</td>\n",
       "      <td>40000.000000</td>\n",
       "      <td>40000.000000</td>\n",
       "      <td>39967.000000</td>\n",
       "      <td>40000.000000</td>\n",
       "      <td>40000.000000</td>\n",
       "      <td>40000.000000</td>\n",
       "      <td>40000.000000</td>\n",
       "      <td>40000.000000</td>\n",
       "      <td>40000.000000</td>\n",
       "      <td>40000.000000</td>\n",
       "      <td>40000.000000</td>\n",
       "      <td>40000.000000</td>\n",
       "    </tr>\n",
       "    <tr>\n",
       "      <th>mean</th>\n",
       "      <td>0.513050</td>\n",
       "      <td>44.529820</td>\n",
       "      <td>0.600000</td>\n",
       "      <td>1.998875</td>\n",
       "      <td>124.984437</td>\n",
       "      <td>74.549700</td>\n",
       "      <td>5496.517940</td>\n",
       "      <td>1504.349711</td>\n",
       "      <td>2896.281553</td>\n",
       "      <td>153.802650</td>\n",
       "      <td>319.444523</td>\n",
       "      <td>901.499544</td>\n",
       "      <td>222.769098</td>\n",
       "      <td>675.602853</td>\n",
       "    </tr>\n",
       "    <tr>\n",
       "      <th>std</th>\n",
       "      <td>0.499836</td>\n",
       "      <td>11.093269</td>\n",
       "      <td>0.489904</td>\n",
       "      <td>0.773621</td>\n",
       "      <td>35.692830</td>\n",
       "      <td>35.646982</td>\n",
       "      <td>742.751898</td>\n",
       "      <td>696.499597</td>\n",
       "      <td>510.388510</td>\n",
       "      <td>103.381545</td>\n",
       "      <td>107.447809</td>\n",
       "      <td>222.361519</td>\n",
       "      <td>101.929949</td>\n",
       "      <td>159.983881</td>\n",
       "    </tr>\n",
       "    <tr>\n",
       "      <th>min</th>\n",
       "      <td>0.000000</td>\n",
       "      <td>-1.000000</td>\n",
       "      <td>0.000000</td>\n",
       "      <td>0.000000</td>\n",
       "      <td>0.000000</td>\n",
       "      <td>0.000000</td>\n",
       "      <td>2648.750000</td>\n",
       "      <td>0.330000</td>\n",
       "      <td>751.380000</td>\n",
       "      <td>0.000000</td>\n",
       "      <td>0.330000</td>\n",
       "      <td>27.130000</td>\n",
       "      <td>0.090000</td>\n",
       "      <td>161.970000</td>\n",
       "    </tr>\n",
       "    <tr>\n",
       "      <th>25%</th>\n",
       "      <td>0.000000</td>\n",
       "      <td>37.000000</td>\n",
       "      <td>0.000000</td>\n",
       "      <td>1.000000</td>\n",
       "      <td>99.209931</td>\n",
       "      <td>47.000000</td>\n",
       "      <td>4947.027500</td>\n",
       "      <td>977.340000</td>\n",
       "      <td>2554.792500</td>\n",
       "      <td>73.000000</td>\n",
       "      <td>249.170000</td>\n",
       "      <td>749.750000</td>\n",
       "      <td>151.130000</td>\n",
       "      <td>548.985000</td>\n",
       "    </tr>\n",
       "    <tr>\n",
       "      <th>50%</th>\n",
       "      <td>1.000000</td>\n",
       "      <td>45.000000</td>\n",
       "      <td>1.000000</td>\n",
       "      <td>2.000000</td>\n",
       "      <td>129.913113</td>\n",
       "      <td>70.000000</td>\n",
       "      <td>5453.905000</td>\n",
       "      <td>1502.130000</td>\n",
       "      <td>2891.220000</td>\n",
       "      <td>150.000000</td>\n",
       "      <td>321.185000</td>\n",
       "      <td>901.640000</td>\n",
       "      <td>221.905000</td>\n",
       "      <td>676.335000</td>\n",
       "    </tr>\n",
       "    <tr>\n",
       "      <th>75%</th>\n",
       "      <td>1.000000</td>\n",
       "      <td>52.000000</td>\n",
       "      <td>1.000000</td>\n",
       "      <td>3.000000</td>\n",
       "      <td>152.215100</td>\n",
       "      <td>100.000000</td>\n",
       "      <td>6023.875000</td>\n",
       "      <td>2024.902500</td>\n",
       "      <td>3239.507500</td>\n",
       "      <td>226.000000</td>\n",
       "      <td>391.730000</td>\n",
       "      <td>1053.460000</td>\n",
       "      <td>291.952500</td>\n",
       "      <td>801.922500</td>\n",
       "    </tr>\n",
       "    <tr>\n",
       "      <th>max</th>\n",
       "      <td>1.000000</td>\n",
       "      <td>87.000000</td>\n",
       "      <td>1.000000</td>\n",
       "      <td>5.000000</td>\n",
       "      <td>235.785533</td>\n",
       "      <td>219.000000</td>\n",
       "      <td>8158.480000</td>\n",
       "      <td>3827.720000</td>\n",
       "      <td>4977.580000</td>\n",
       "      <td>588.000000</td>\n",
       "      <td>759.000000</td>\n",
       "      <td>1794.100000</td>\n",
       "      <td>648.700000</td>\n",
       "      <td>1207.910000</td>\n",
       "    </tr>\n",
       "  </tbody>\n",
       "</table>\n",
       "</div>"
      ],
      "text/plain": [
       "         churn_flag           age    home_owner      num_cont      tot_bill  \\\n",
       "count  40000.000000  39957.000000  40000.000000  40000.000000  39967.000000   \n",
       "mean       0.513050     44.529820      0.600000      1.998875    124.984437   \n",
       "std        0.499836     11.093269      0.489904      0.773621     35.692830   \n",
       "min        0.000000     -1.000000      0.000000      0.000000      0.000000   \n",
       "25%        0.000000     37.000000      0.000000      1.000000     99.209931   \n",
       "50%        1.000000     45.000000      1.000000      2.000000    129.913113   \n",
       "75%        1.000000     52.000000      1.000000      3.000000    152.215100   \n",
       "max        1.000000     87.000000      1.000000      5.000000    235.785533   \n",
       "\n",
       "           tot_call       tot_bal     tot_bytes       tot_air       num_out  \\\n",
       "count  40000.000000  40000.000000  40000.000000  40000.000000  40000.000000   \n",
       "mean      74.549700   5496.517940   1504.349711   2896.281553    153.802650   \n",
       "std       35.646982    742.751898    696.499597    510.388510    103.381545   \n",
       "min        0.000000   2648.750000      0.330000    751.380000      0.000000   \n",
       "25%       47.000000   4947.027500    977.340000   2554.792500     73.000000   \n",
       "50%       70.000000   5453.905000   1502.130000   2891.220000    150.000000   \n",
       "75%      100.000000   6023.875000   2024.902500   3239.507500    226.000000   \n",
       "max      219.000000   8158.480000   3827.720000   4977.580000    588.000000   \n",
       "\n",
       "       google_bytes    google_air   yahoo_bytes     yahoo_air  \n",
       "count  40000.000000  40000.000000  40000.000000  40000.000000  \n",
       "mean     319.444523    901.499544    222.769098    675.602853  \n",
       "std      107.447809    222.361519    101.929949    159.983881  \n",
       "min        0.330000     27.130000      0.090000    161.970000  \n",
       "25%      249.170000    749.750000    151.130000    548.985000  \n",
       "50%      321.185000    901.640000    221.905000    676.335000  \n",
       "75%      391.730000   1053.460000    291.952500    801.922500  \n",
       "max      759.000000   1794.100000    648.700000   1207.910000  "
      ]
     },
     "execution_count": 425,
     "metadata": {},
     "output_type": "execute_result"
    }
   ],
   "source": [
    "df.describe()"
   ]
  },
  {
   "cell_type": "code",
   "execution_count": 426,
   "metadata": {},
   "outputs": [
    {
     "data": {
      "text/plain": [
       "cust_id          object\n",
       "churn_flag        int64\n",
       "gender           object\n",
       "marrital         object\n",
       "age             float64\n",
       "home_owner        int64\n",
       "num_cont          int64\n",
       "tot_bill        float64\n",
       "tot_call          int64\n",
       "tot_bal         float64\n",
       "fortune          object\n",
       "tot_bytes       float64\n",
       "tot_air         float64\n",
       "num_out           int64\n",
       "google_bytes    float64\n",
       "google_air      float64\n",
       "yahoo_bytes     float64\n",
       "yahoo_air       float64\n",
       "dtype: object"
      ]
     },
     "execution_count": 426,
     "metadata": {},
     "output_type": "execute_result"
    }
   ],
   "source": [
    "#Display data types of the dataset\n",
    "df.dtypes"
   ]
  },
  {
   "cell_type": "code",
   "execution_count": 427,
   "metadata": {},
   "outputs": [],
   "source": [
    "#Display the categorical vs. numerical variables"
   ]
  },
  {
   "cell_type": "code",
   "execution_count": 428,
   "metadata": {},
   "outputs": [
    {
     "data": {
      "text/plain": [
       "{int64: ['churn_flag', 'home_owner', 'num_cont', 'tot_call', 'num_out'], float64: ['age', 'tot_bill', 'tot_bal', 'tot_bytes', 'tot_air', 'google_bytes', 'google_air', 'yahoo_bytes', 'yahoo_air'], object: ['cust_id', 'gender', 'marrital', 'fortune']}"
      ]
     },
     "execution_count": 428,
     "metadata": {},
     "output_type": "execute_result"
    }
   ],
   "source": [
    "df.columns.to_series().groupby(df.dtypes).groups"
   ]
  },
  {
   "cell_type": "markdown",
   "metadata": {},
   "source": [
    " <p> <b>Categorical Features:</b>  ['cust_id', 'gender', 'marrital', 'fortune'] </p>\n",
    " <p> <b>Numerical Features:</b>  </p>\n",
    " <p><b>Type int64</b> :  ['churn_flag', 'home_owner', 'num_cont', 'tot_call', 'num_out']</p>\n",
    " <p><b>Type float64</b>:  ['age', 'tot_bill', 'tot_bal', 'tot_bytes', 'tot_air', 'google_bytes', 'google_air', 'yahoo_bytes', 'yahoo_air']</p>"
   ]
  },
  {
   "cell_type": "code",
   "execution_count": 429,
   "metadata": {},
   "outputs": [
    {
     "name": "stdout",
     "output_type": "stream",
     "text": [
      "<class 'pandas.core.frame.DataFrame'>\n",
      "RangeIndex: 40000 entries, 0 to 39999\n",
      "Data columns (total 18 columns):\n",
      " #   Column        Non-Null Count  Dtype  \n",
      "---  ------        --------------  -----  \n",
      " 0   cust_id       40000 non-null  object \n",
      " 1   churn_flag    40000 non-null  int64  \n",
      " 2   gender        40000 non-null  object \n",
      " 3   marrital      40000 non-null  object \n",
      " 4   age           39957 non-null  float64\n",
      " 5   home_owner    40000 non-null  int64  \n",
      " 6   num_cont      40000 non-null  int64  \n",
      " 7   tot_bill      39967 non-null  float64\n",
      " 8   tot_call      40000 non-null  int64  \n",
      " 9   tot_bal       40000 non-null  float64\n",
      " 10  fortune       39972 non-null  object \n",
      " 11  tot_bytes     40000 non-null  float64\n",
      " 12  tot_air       40000 non-null  float64\n",
      " 13  num_out       40000 non-null  int64  \n",
      " 14  google_bytes  40000 non-null  float64\n",
      " 15  google_air    40000 non-null  float64\n",
      " 16  yahoo_bytes   40000 non-null  float64\n",
      " 17  yahoo_air     40000 non-null  float64\n",
      "dtypes: float64(9), int64(5), object(4)\n",
      "memory usage: 5.5+ MB\n"
     ]
    }
   ],
   "source": [
    "#Data Completeness\n",
    "#Get the info. for both missing values in each column and also type of variables in each column\n",
    "df.info()"
   ]
  },
  {
   "cell_type": "code",
   "execution_count": 430,
   "metadata": {
    "scrolled": true
   },
   "outputs": [
    {
     "data": {
      "text/plain": [
       "cust_id         False\n",
       "churn_flag      False\n",
       "gender          False\n",
       "marrital        False\n",
       "age              True\n",
       "home_owner      False\n",
       "num_cont        False\n",
       "tot_bill         True\n",
       "tot_call        False\n",
       "tot_bal         False\n",
       "fortune          True\n",
       "tot_bytes       False\n",
       "tot_air         False\n",
       "num_out         False\n",
       "google_bytes    False\n",
       "google_air      False\n",
       "yahoo_bytes     False\n",
       "yahoo_air       False\n",
       "dtype: bool"
      ]
     },
     "execution_count": 430,
     "metadata": {},
     "output_type": "execute_result"
    }
   ],
   "source": [
    "#Display the columns with missing variables if any\n",
    "df.isna().any()"
   ]
  },
  {
   "cell_type": "markdown",
   "metadata": {},
   "source": [
    "<h4>We can observe that columns \"age, tot_bill, fortune\" have missing values."
   ]
  },
  {
   "cell_type": "code",
   "execution_count": 431,
   "metadata": {},
   "outputs": [],
   "source": [
    "#A way to check uniquness in a categorical columns / features"
   ]
  },
  {
   "cell_type": "code",
   "execution_count": 432,
   "metadata": {},
   "outputs": [
    {
     "data": {
      "text/plain": [
       "3"
      ]
     },
     "execution_count": 432,
     "metadata": {},
     "output_type": "execute_result"
    }
   ],
   "source": [
    "#Unique values in each categorical variable:\n",
    "df[\"marrital\"].nunique()"
   ]
  },
  {
   "cell_type": "code",
   "execution_count": 433,
   "metadata": {},
   "outputs": [
    {
     "data": {
      "text/plain": [
       "array(['divorced', 'married', 'single'], dtype=object)"
      ]
     },
     "execution_count": 433,
     "metadata": {},
     "output_type": "execute_result"
    }
   ],
   "source": [
    "df[\"marrital\"].unique()"
   ]
  },
  {
   "cell_type": "code",
   "execution_count": 434,
   "metadata": {},
   "outputs": [
    {
     "data": {
      "text/plain": [
       "3"
      ]
     },
     "execution_count": 434,
     "metadata": {},
     "output_type": "execute_result"
    }
   ],
   "source": [
    "df[\"fortune\"].nunique()"
   ]
  },
  {
   "cell_type": "code",
   "execution_count": 435,
   "metadata": {},
   "outputs": [
    {
     "data": {
      "text/plain": [
       "array(['Mass', 'Low', 'Affluent', nan], dtype=object)"
      ]
     },
     "execution_count": 435,
     "metadata": {},
     "output_type": "execute_result"
    }
   ],
   "source": [
    "df[\"fortune\"].unique()"
   ]
  },
  {
   "cell_type": "code",
   "execution_count": 436,
   "metadata": {
    "scrolled": false
   },
   "outputs": [
    {
     "data": {
      "text/plain": [
       "Text(0.5, 0, 'Churn')"
      ]
     },
     "execution_count": 436,
     "metadata": {},
     "output_type": "execute_result"
    },
    {
     "data": {
      "image/png": "[encoded data removed]",
      "text/plain": [
       "<Figure size 864x576 with 1 Axes>"
      ]
     },
     "metadata": {},
     "output_type": "display_data"
    }
   ],
   "source": [
    "#Plot histograms of “age” group by “churn”\n",
    "age_by_churn=df[['age','churn_flag']]\n",
    "age_hist=age_by_churn.groupby(by='churn_flag').mean()\n",
    "age_hist=age_hist.set_index([pd.Index(['No','Yes'])])\n",
    "ax=age_hist.plot.bar(title=\"Histogram of age grouped by churn rates\",legend=True,grid=False,figsize =(12, 8))\n",
    "plt.ylabel('Age of customers')\n",
    "plt.xlabel('Churn')"
   ]
  },
  {
   "cell_type": "code",
   "execution_count": 437,
   "metadata": {},
   "outputs": [
    {
     "data": {
      "text/html": [
       "<div>\n",
       "<style scoped>\n",
       "    .dataframe tbody tr th:only-of-type {\n",
       "        vertical-align: middle;\n",
       "    }\n",
       "\n",
       "    .dataframe tbody tr th {\n",
       "        vertical-align: top;\n",
       "    }\n",
       "\n",
       "    .dataframe thead th {\n",
       "        text-align: right;\n",
       "    }\n",
       "</style>\n",
       "<table border=\"1\" class=\"dataframe\">\n",
       "  <thead>\n",
       "    <tr style=\"text-align: right;\">\n",
       "      <th></th>\n",
       "      <th>age</th>\n",
       "    </tr>\n",
       "  </thead>\n",
       "  <tbody>\n",
       "    <tr>\n",
       "      <th>No</th>\n",
       "      <td>49.512795</td>\n",
       "    </tr>\n",
       "    <tr>\n",
       "      <th>Yes</th>\n",
       "      <td>39.798946</td>\n",
       "    </tr>\n",
       "  </tbody>\n",
       "</table>\n",
       "</div>"
      ],
      "text/plain": [
       "           age\n",
       "No   49.512795\n",
       "Yes  39.798946"
      ]
     },
     "execution_count": 437,
     "metadata": {},
     "output_type": "execute_result"
    }
   ],
   "source": [
    "age_hist"
   ]
  },
  {
   "cell_type": "code",
   "execution_count": 438,
   "metadata": {},
   "outputs": [
    {
     "name": "stderr",
     "output_type": "stream",
     "text": [
      "*c* argument looks like a single numeric RGB or RGBA sequence, which should be avoided as value-mapping will have precedence in case its length matches with *x* & *y*.  Please use the *color* keyword-argument or provide a 2-D array with a single row if you intend to specify the same RGB or RGBA value for all points.\n"
     ]
    },
    {
     "data": {
      "text/plain": [
       "Text(0.5, 0, 'Age of Customers')"
      ]
     },
     "execution_count": 438,
     "metadata": {},
     "output_type": "execute_result"
    },
    {
     "data": {
      "image/png": "[encoded data removed]",
      "text/plain": [
       "<Figure size 864x576 with 1 Axes>"
      ]
     },
     "metadata": {},
     "output_type": "display_data"
    }
   ],
   "source": [
    "#Scatter Plot Observation\n",
    "#Plot histograms of “age” group by “churn”\n",
    "age_scatter=age_by_churn.groupby(by='age').mean().reset_index()\n",
    "ax=age_scatter.plot.scatter(y='churn_flag',x='age',figsize=(12,8))\n",
    "plt.ylabel('Average Churn Rates of Customers')\n",
    "plt.xlabel('Age of Customers')"
   ]
  },
  {
   "cell_type": "code",
   "execution_count": 439,
   "metadata": {},
   "outputs": [
    {
     "data": {
      "text/plain": [
       "Ttest_indResult(statistic=697.3903437102781, pvalue=0.0)"
      ]
     },
     "execution_count": 439,
     "metadata": {},
     "output_type": "execute_result"
    }
   ],
   "source": [
    "#Step 4\n",
    "#Conduct a t-test of “tot_bill” regarding “churn”\n",
    "#We omit the nan values at this point\n",
    "ttest_ind(df['tot_bill'],df['churn_flag'],nan_policy='omit')"
   ]
  },
  {
   "cell_type": "markdown",
   "metadata": {},
   "source": [
    "As we can see from the result, T statistic is really high and p value is also really low as expected. This shows us that we can reject the null hyphotesis and the both distrubutions (populations) are very likely to be different. "
   ]
  },
  {
   "cell_type": "code",
   "execution_count": 440,
   "metadata": {},
   "outputs": [
    {
     "data": {
      "text/plain": [
       "<AxesSubplot:>"
      ]
     },
     "execution_count": 440,
     "metadata": {},
     "output_type": "execute_result"
    },
    {
     "data": {
      "image/png": "[encoded data removed]",
      "text/plain": [
       "<Figure size 864x576 with 2 Axes>"
      ]
     },
     "metadata": {},
     "output_type": "display_data"
    }
   ],
   "source": [
    "#We can also display the correlation matrix in order to observer collinearity between predictors.\n",
    "#Set and compute the Correlation Matrix:\n",
    "sn.set(style=\"white\")\n",
    "df_corr=df.drop(['cust_id','churn_flag'],axis=1)\n",
    "corr = df_corr.corr()\n",
    "\n",
    "#Generate a mask for the upper triangle:\n",
    "mask = np.zeros_like(corr, dtype=np.bool)\n",
    "mask[np.triu_indices_from(mask)] = True\n",
    "\n",
    "#Set up the matplotlib figure and a diverging colormap:\n",
    "f, ax = plt.subplots(figsize=(12, 8))\n",
    "cmap = sn.diverging_palette(220, 10, as_cmap=True)\n",
    "#Draw the heatmap with the mask and correct aspect ratio:\n",
    "sn.heatmap(corr, mask=mask, cmap=cmap, vmax=.3, center=0,\n",
    "square=True, linewidths=.5, cbar_kws={\"shrink\": .5})"
   ]
  },
  {
   "cell_type": "markdown",
   "metadata": {},
   "source": [
    "<p><b>Step 5</b></p>\n",
    "<p>Fill out the missing values if any</p>\n",
    "<p>At the previous  steps, we showed that there are missing values for \"age, tot_bill, fortune\" columns. There are several ways to handle with them.\n",
    "<p>We can now observe how many missing (NaN, NA) values we have for each feature in the below section. "
   ]
  },
  {
   "cell_type": "code",
   "execution_count": 441,
   "metadata": {},
   "outputs": [
    {
     "name": "stdout",
     "output_type": "stream",
     "text": [
      "cust_id          0\n",
      "churn_flag       0\n",
      "gender           0\n",
      "marrital         0\n",
      "age             43\n",
      "home_owner       0\n",
      "num_cont         0\n",
      "tot_bill        33\n",
      "tot_call         0\n",
      "tot_bal          0\n",
      "fortune         28\n",
      "tot_bytes        0\n",
      "tot_air          0\n",
      "num_out          0\n",
      "google_bytes     0\n",
      "google_air       0\n",
      "yahoo_bytes      0\n",
      "yahoo_air        0\n",
      "dtype: int64\n"
     ]
    }
   ],
   "source": [
    "print(df.isnull().sum())"
   ]
  },
  {
   "cell_type": "markdown",
   "metadata": {},
   "source": [
    "As we can see we don't have considerable amount of missing data if we think about the dataset size which is 40000.So, we can basically remove the rows with missing data to handle."
   ]
  },
  {
   "cell_type": "code",
   "execution_count": 442,
   "metadata": {},
   "outputs": [],
   "source": [
    "df.dropna(inplace=True)"
   ]
  },
  {
   "cell_type": "code",
   "execution_count": 443,
   "metadata": {},
   "outputs": [
    {
     "name": "stdout",
     "output_type": "stream",
     "text": [
      "cust_id         0\n",
      "churn_flag      0\n",
      "gender          0\n",
      "marrital        0\n",
      "age             0\n",
      "home_owner      0\n",
      "num_cont        0\n",
      "tot_bill        0\n",
      "tot_call        0\n",
      "tot_bal         0\n",
      "fortune         0\n",
      "tot_bytes       0\n",
      "tot_air         0\n",
      "num_out         0\n",
      "google_bytes    0\n",
      "google_air      0\n",
      "yahoo_bytes     0\n",
      "yahoo_air       0\n",
      "dtype: int64\n"
     ]
    }
   ],
   "source": [
    "print(df.isnull().sum())"
   ]
  },
  {
   "cell_type": "markdown",
   "metadata": {},
   "source": [
    "As we can see, now we have no missing values in the columns."
   ]
  },
  {
   "cell_type": "code",
   "execution_count": 444,
   "metadata": {},
   "outputs": [],
   "source": [
    "#Step 6\n",
    "#Split the dataset into training and validation sets"
   ]
  },
  {
   "cell_type": "code",
   "execution_count": 445,
   "metadata": {},
   "outputs": [
    {
     "name": "stdout",
     "output_type": "stream",
     "text": [
      "1 columns were label encoded.\n"
     ]
    }
   ],
   "source": [
    "#Create label encoder for feature with less than or equal to 2  unique values\n",
    "#In our case, this will be only gender column with 2 unique values ['male','female']\n",
    "\n",
    "#Create a label encoder object\n",
    "le = LabelEncoder()\n",
    "# Label Encoding will be used for columns with 2 or less unique values\n",
    "le_count = 0\n",
    "\n",
    "for col in df.columns[1:]:\n",
    "    if df[col].dtype == 'object':\n",
    "        #print(col)\n",
    "        if len(list(df[col].unique())) <= 2:\n",
    "            le.fit(df[col])\n",
    "            df[col] = le.transform(df[col])\n",
    "            le_count += 1\n",
    "            \n",
    "print('{} columns were label encoded.'.format(le_count))"
   ]
  },
  {
   "cell_type": "code",
   "execution_count": 446,
   "metadata": {},
   "outputs": [],
   "source": [
    "#For larger than 2 unique values ,we need to create dummies.\n",
    "#This will be done for ['fortune', 'marrital'] features in our case.\n",
    "\n",
    "#Cust_id is an object and we do not want to get dummies for cust_id \n",
    "identity = df[\"cust_id\"]\n",
    "df = df.drop(columns=\"cust_id\")\n",
    "\n",
    "df= pd.get_dummies(df)\n",
    "\n",
    "df = pd.concat([df, identity], axis = 1)"
   ]
  },
  {
   "cell_type": "code",
   "execution_count": 447,
   "metadata": {},
   "outputs": [],
   "source": [
    "#Identify response variable (churn):\n",
    "    \n",
    "response = df[\"churn_flag\"]\n",
    "df = df.drop(columns=\"churn_flag\")"
   ]
  },
  {
   "cell_type": "code",
   "execution_count": 448,
   "metadata": {},
   "outputs": [],
   "source": [
    "# Step 6 \n",
    "# Split the dataset into training and validation sets\n",
    "X_train, X_test, y_train, y_test = train_test_split(df , response,test_size=0.25, random_state=1)"
   ]
  },
  {
   "cell_type": "code",
   "execution_count": 449,
   "metadata": {},
   "outputs": [
    {
     "name": "stdout",
     "output_type": "stream",
     "text": [
      "Number transactions X_train dataset:  (29924, 21)\n",
      "Number transactions X_test dataset:  (9975, 21)\n",
      "Number transactions y_train dataset:  (29924,)\n",
      "Number transactions y_test dataset:  (9975,)\n"
     ]
    }
   ],
   "source": [
    "print(\"Number transactions X_train dataset: \", X_train.shape)\n",
    "print(\"Number transactions X_test dataset: \", X_test.shape)\n",
    "print(\"Number transactions y_train dataset: \", y_train.shape)\n",
    "print(\"Number transactions y_test dataset: \", y_test.shape)"
   ]
  },
  {
   "cell_type": "code",
   "execution_count": 450,
   "metadata": {},
   "outputs": [],
   "source": [
    "train_id = X_train['cust_id']\n",
    "X_train = X_train.drop(columns = ['cust_id'])\n",
    "\n",
    "test_id = X_test['cust_id']\n",
    "X_test = X_test.drop(columns = ['cust_id'])"
   ]
  },
  {
   "cell_type": "code",
   "execution_count": 451,
   "metadata": {},
   "outputs": [],
   "source": [
    "# Step 7\n",
    "# Build a logistic regression model to predict “churn”\n",
    "\n",
    "#Normalization\n",
    "\n",
    "sc_X = StandardScaler()\n",
    "\n",
    "X_train2 = pd.DataFrame(sc_X.fit_transform(X_train))\n",
    "X_train2.columns = X_train.columns.values\n",
    "X_train2.index = X_train.index.values\n",
    "X_train = X_train2\n",
    "\n",
    "X_test2 = pd.DataFrame(sc_X.transform(X_test))\n",
    "X_test2.columns = X_test.columns.values\n",
    "X_test2.index = X_test.index.values\n",
    "X_test = X_test2"
   ]
  },
  {
   "cell_type": "code",
   "execution_count": 452,
   "metadata": {},
   "outputs": [],
   "source": [
    "#Model Implementation \"Logistic Regression\"\n",
    "model = LogisticRegression(solver= 'liblinear')"
   ]
  },
  {
   "cell_type": "code",
   "execution_count": 453,
   "metadata": {},
   "outputs": [],
   "source": [
    "#Conduct a K-fold cross validation \n",
    "kfold = model_selection.KFold(n_splits=10, random_state=None)"
   ]
  },
  {
   "cell_type": "code",
   "execution_count": 454,
   "metadata": {},
   "outputs": [
    {
     "name": "stdout",
     "output_type": "stream",
     "text": [
      "Avg accuracy: 0.9344007228988852\n"
     ]
    }
   ],
   "source": [
    "#Interpret the result\n",
    "result = cross_val_score(model , X_train, y_train, cv = kfold)\n",
    "print(\"Avg accuracy: {}\".format(result.mean()))"
   ]
  },
  {
   "cell_type": "code",
   "execution_count": 455,
   "metadata": {},
   "outputs": [
    {
     "name": "stdout",
     "output_type": "stream",
     "text": [
      "Avg accuracy: 0.9344007228988852\n",
      "Avg Roc AUC score: 0.9499072682699193\n"
     ]
    }
   ],
   "source": [
    "# accuracy scoring by cross-validation:\n",
    "cv_acc_results = model_selection.cross_val_score(  \n",
    "model, X_train, y_train, cv=kfold, scoring='accuracy')\n",
    "print(\"Avg accuracy: {}\".format(cv_acc_results.mean()))\n",
    "\n",
    "# roc_auc scoring  by cross-validation:\n",
    "cv_auc_results = model_selection.cross_val_score(  \n",
    "model, X_train, y_train, cv=kfold, scoring='roc_auc')\n",
    "print(\"Avg Roc AUC score: {}\".format(cv_auc_results.mean()))\n"
   ]
  },
  {
   "cell_type": "code",
   "execution_count": 456,
   "metadata": {},
   "outputs": [
    {
     "name": "stdout",
     "output_type": "stream",
     "text": [
      "                 Model  Accuracy  Precision    Recall  F1 Score  F2 Score\n",
      "0  Logistic Regression  0.933634   0.943673  0.926402  0.934958  0.929805\n"
     ]
    }
   ],
   "source": [
    "#Test your model performance\n",
    "#Calculate precision, recall, F1-Score, ROC \n",
    "#Plot the ROC and precision-recall curves\n",
    "\n",
    "# Fitting Logistic Regression to the Training set\n",
    "model.fit(X_train, y_train)\n",
    "# Predicting the Test set results\n",
    "y_pred = model.predict(X_test)\n",
    "#Evaluate results\n",
    "acc = accuracy_score(y_test, y_pred )\n",
    "prec = precision_score(y_test, y_pred )\n",
    "rec = recall_score(y_test, y_pred )\n",
    "f1 = f1_score(y_test, y_pred )\n",
    "f2 = fbeta_score(y_test, y_pred, beta=2.0)\n",
    "\n",
    "\n",
    "results = pd.DataFrame([['Logistic Regression', \n",
    "acc, prec, rec, f1, f2]], columns = ['Model', \n",
    "'Accuracy', 'Precision', 'Recall', 'F1 Score', \n",
    "'F2 Score'])\n",
    "results = results.sort_values([\"Precision\", \n",
    "\"Recall\", \"F2 Score\"], ascending = False)\n",
    "print (results)"
   ]
  },
  {
   "cell_type": "markdown",
   "metadata": {},
   "source": [
    "As we can see form the results, the model is very accurate and we can explain up tp 95% variance in the test set with predictions. Also, both recall and precision scores are very high indicating good predictive model."
   ]
  },
  {
   "cell_type": "code",
   "execution_count": 457,
   "metadata": {},
   "outputs": [
    {
     "data": {
      "text/plain": [
       "Text(0.5, 510.88, 'Predicted label')"
      ]
     },
     "execution_count": 457,
     "metadata": {},
     "output_type": "execute_result"
    },
    {
     "data": {
      "image/png": "[encoded data removed]",
      "text/plain": [
       "<Figure size 864x576 with 2 Axes>"
      ]
     },
     "metadata": {},
     "output_type": "display_data"
    }
   ],
   "source": [
    "#Confusion Matrix\n",
    "\n",
    "class_names=[0,1] # name  of classes\n",
    "fig, ax = plt.subplots(figsize=(12,8))\n",
    "tick_marks = np.arange(len(class_names))\n",
    "plt.xticks(tick_marks, class_names)\n",
    "plt.yticks(tick_marks, class_names)\n",
    "# create heatmap\n",
    "sn.heatmap(pd.DataFrame(cm), annot=True, cmap=\"YlGnBu\" ,fmt='g')\n",
    "ax.xaxis.set_label_position(\"top\")\n",
    "plt.tight_layout()\n",
    "plt.title('Confusion matrix', y=1.1)\n",
    "plt.ylabel('Actual label')\n",
    "plt.xlabel('Predicted label')"
   ]
  },
  {
   "cell_type": "markdown",
   "metadata": {},
   "source": [
    "\n",
    "<p> </p>\n",
    "From the confusion matrix, we can again observe the recall and precision scores. If we examine the confusion matrix, we can see that TP=4758, TN= 4555 while FN=378 and FP=284. These scores help us to calculate recall, precision and f-score. Remember that recall=TP/(TP+FN) and Precision= TP/(TP+FP)"
   ]
  },
  {
   "cell_type": "code",
   "execution_count": 458,
   "metadata": {
    "scrolled": false
   },
   "outputs": [
    {
     "data": {
      "image/png": "[encoded data removed]",
      "text/plain": [
       "<Figure size 864x576 with 1 Axes>"
      ]
     },
     "metadata": {},
     "output_type": "display_data"
    }
   ],
   "source": [
    "#AUC Curve\n",
    "\n",
    "y_pred_proba = model.predict_proba(X_test)[::,1]\n",
    "fpr, tpr, _ = metrics.roc_curve(y_test,  y_pred_proba)\n",
    "auc = metrics.roc_auc_score(y_test, y_pred_proba)\n",
    "fig, ax = plt.subplots(figsize=(12, 8))\n",
    "ax.plot(fpr,tpr,label=\"data, auc score=\"+str(auc),marker='.')\n",
    "plt.xlabel('False Positive Rate')\n",
    "plt.ylabel('True Positive Rate')\n",
    "plt.title('ROC Curve')\n",
    "plt.legend(loc=4)\n",
    "plt.show()"
   ]
  },
  {
   "cell_type": "markdown",
   "metadata": {},
   "source": [
    "ROC curve can be observed above with an AUC score of 0.95 approximately. We are interested in AUC score to identify how well our model is a classifier. Random classifier would have AUC score of 0.50 and we have 0.95 which is significantly better and shows that we can use the model as a very good classifier!"
   ]
  },
  {
   "cell_type": "code",
   "execution_count": 459,
   "metadata": {},
   "outputs": [
    {
     "data": {
      "image/png": "[encoded data removed]",
      "text/plain": [
       "<Figure size 864x576 with 1 Axes>"
      ]
     },
     "metadata": {},
     "output_type": "display_data"
    }
   ],
   "source": [
    "#Recall Precision Curve\n",
    "\n",
    "lr_precision, lr_recall, _ = precision_recall_curve(y_test, y_pred_proba)\n",
    "fig, ax = plt.subplots(figsize=(12, 8))\n",
    "ax.plot(lr_recall, lr_precision, marker='.', label='Logistic')\n",
    "plt.xlabel('Recall')\n",
    "plt.ylabel('Precision')\n",
    "plt.title('Recall-Precision Curve')\n",
    "plt.legend()\n",
    "plt.show()"
   ]
  },
  {
   "cell_type": "markdown",
   "metadata": {},
   "source": [
    "In the given above figure, we can observe the tradeoff between recall-precision and in a good classifier model, we both want recall and precision to be high close to 1. This is because high recall indicates low false negative rate and high precision rate indicates, low false positive rate. The results of precision and recall in our model was 0.943673  0.926402 ,respectively. Thus, we can say that our model is very close to ideal where it predicts the labels of the dataset almost correctly with very few FP and FN rates."
   ]
  },
  {
   "cell_type": "code",
   "execution_count": 460,
   "metadata": {},
   "outputs": [
    {
     "data": {
      "text/html": [
       "<div>\n",
       "<style scoped>\n",
       "    .dataframe tbody tr th:only-of-type {\n",
       "        vertical-align: middle;\n",
       "    }\n",
       "\n",
       "    .dataframe tbody tr th {\n",
       "        vertical-align: top;\n",
       "    }\n",
       "\n",
       "    .dataframe thead th {\n",
       "        text-align: right;\n",
       "    }\n",
       "</style>\n",
       "<table border=\"1\" class=\"dataframe\">\n",
       "  <thead>\n",
       "    <tr style=\"text-align: right;\">\n",
       "      <th></th>\n",
       "      <th>features</th>\n",
       "      <th>coef</th>\n",
       "    </tr>\n",
       "  </thead>\n",
       "  <tbody>\n",
       "    <tr>\n",
       "      <th>13</th>\n",
       "      <td>yahoo_air</td>\n",
       "      <td>0.735915</td>\n",
       "    </tr>\n",
       "    <tr>\n",
       "      <th>4</th>\n",
       "      <td>tot_bill</td>\n",
       "      <td>0.487623</td>\n",
       "    </tr>\n",
       "    <tr>\n",
       "      <th>11</th>\n",
       "      <td>google_air</td>\n",
       "      <td>0.215078</td>\n",
       "    </tr>\n",
       "    <tr>\n",
       "      <th>9</th>\n",
       "      <td>num_out</td>\n",
       "      <td>0.176250</td>\n",
       "    </tr>\n",
       "    <tr>\n",
       "      <th>8</th>\n",
       "      <td>tot_air</td>\n",
       "      <td>0.048483</td>\n",
       "    </tr>\n",
       "    <tr>\n",
       "      <th>19</th>\n",
       "      <td>fortune_Mass</td>\n",
       "      <td>0.037693</td>\n",
       "    </tr>\n",
       "    <tr>\n",
       "      <th>16</th>\n",
       "      <td>marrital_single</td>\n",
       "      <td>0.008384</td>\n",
       "    </tr>\n",
       "    <tr>\n",
       "      <th>15</th>\n",
       "      <td>marrital_married</td>\n",
       "      <td>0.006835</td>\n",
       "    </tr>\n",
       "    <tr>\n",
       "      <th>14</th>\n",
       "      <td>marrital_divorced</td>\n",
       "      <td>-0.015308</td>\n",
       "    </tr>\n",
       "    <tr>\n",
       "      <th>18</th>\n",
       "      <td>fortune_Low</td>\n",
       "      <td>-0.015941</td>\n",
       "    </tr>\n",
       "    <tr>\n",
       "      <th>17</th>\n",
       "      <td>fortune_Affluent</td>\n",
       "      <td>-0.021813</td>\n",
       "    </tr>\n",
       "    <tr>\n",
       "      <th>0</th>\n",
       "      <td>gender</td>\n",
       "      <td>-0.030461</td>\n",
       "    </tr>\n",
       "    <tr>\n",
       "      <th>10</th>\n",
       "      <td>google_bytes</td>\n",
       "      <td>-0.083707</td>\n",
       "    </tr>\n",
       "    <tr>\n",
       "      <th>12</th>\n",
       "      <td>yahoo_bytes</td>\n",
       "      <td>-0.097968</td>\n",
       "    </tr>\n",
       "    <tr>\n",
       "      <th>2</th>\n",
       "      <td>home_owner</td>\n",
       "      <td>-0.152381</td>\n",
       "    </tr>\n",
       "    <tr>\n",
       "      <th>6</th>\n",
       "      <td>tot_bal</td>\n",
       "      <td>-0.395729</td>\n",
       "    </tr>\n",
       "    <tr>\n",
       "      <th>5</th>\n",
       "      <td>tot_call</td>\n",
       "      <td>-0.457792</td>\n",
       "    </tr>\n",
       "    <tr>\n",
       "      <th>7</th>\n",
       "      <td>tot_bytes</td>\n",
       "      <td>-0.497435</td>\n",
       "    </tr>\n",
       "    <tr>\n",
       "      <th>1</th>\n",
       "      <td>age</td>\n",
       "      <td>-0.620169</td>\n",
       "    </tr>\n",
       "    <tr>\n",
       "      <th>3</th>\n",
       "      <td>num_cont</td>\n",
       "      <td>-0.709284</td>\n",
       "    </tr>\n",
       "    <tr>\n",
       "      <th>20</th>\n",
       "      <td>cust_id</td>\n",
       "      <td>NaN</td>\n",
       "    </tr>\n",
       "  </tbody>\n",
       "</table>\n",
       "</div>"
      ],
      "text/plain": [
       "             features      coef\n",
       "13          yahoo_air  0.735915\n",
       "4            tot_bill  0.487623\n",
       "11         google_air  0.215078\n",
       "9             num_out  0.176250\n",
       "8             tot_air  0.048483\n",
       "19       fortune_Mass  0.037693\n",
       "16    marrital_single  0.008384\n",
       "15   marrital_married  0.006835\n",
       "14  marrital_divorced -0.015308\n",
       "18        fortune_Low -0.015941\n",
       "17   fortune_Affluent -0.021813\n",
       "0              gender -0.030461\n",
       "10       google_bytes -0.083707\n",
       "12        yahoo_bytes -0.097968\n",
       "2          home_owner -0.152381\n",
       "6             tot_bal -0.395729\n",
       "5            tot_call -0.457792\n",
       "7           tot_bytes -0.497435\n",
       "1                 age -0.620169\n",
       "3            num_cont -0.709284\n",
       "20            cust_id       NaN"
      ]
     },
     "execution_count": 460,
     "metadata": {},
     "output_type": "execute_result"
    }
   ],
   "source": [
    "#Let's observe feature importance in our dataset\n",
    "feature_importances = pd.concat([\n",
    "pd.DataFrame(df.columns, columns = [\"features\"]),\n",
    "pd.DataFrame(np.transpose(model.coef_), \n",
    "columns = [\"coef\"])],axis = 1)\n",
    "feature_importances.sort_values(\"coef\", ascending = False)"
   ]
  },
  {
   "cell_type": "markdown",
   "metadata": {},
   "source": [
    "As we can see from above table, yahoo_air is by far most effective feature while predicting churn rate and also, we can conclude that churn rate seems to increase when we observe customer's total bill, yahoo air time, google air time and number of timeouts increases. Meanwhile, we can also conclude that churn rate decreases when number of contracts, the age of customer and total bytes increases. "
   ]
  },
  {
   "cell_type": "markdown",
   "metadata": {},
   "source": [
    "We can use transformation methods such as hypermater selection in order to get more accurate results by adding a penaly term which can be Ridge or Lasso penalty terms or regression."
   ]
  },
  {
   "cell_type": "code",
   "execution_count": 461,
   "metadata": {},
   "outputs": [
    {
     "name": "stdout",
     "output_type": "stream",
     "text": [
      "The best score and the corresponding parameters for the score are: 0.9360789117778185      {'C': 0.001, 'penalty': 'l2'}\n"
     ]
    }
   ],
   "source": [
    "#Regularization by Grid Search which means we will enter each hypermater to find optimal penalty value.\n",
    "\n",
    "penalty=['l1','l2'] #L1 -> Ridge  ;  L2-> Lasso\n",
    "C = [0.001, 0.01, 0.1, 1, 10, 100, 1000] # Create regularization hyperparameter space\n",
    "parameters=dict(C=C,penalty=penalty)\n",
    "\n",
    "logit_method=GridSearchCV(estimator=model,param_grid=parameters,scoring=\"balanced_accuracy\",cv=10,n_jobs=-1)\n",
    "logit_method.fit(X_train,y_train)\n",
    "\n",
    "\n",
    "best_accuracy_reg=logit_method.best_score_\n",
    "best_parameters_reg=logit_method.best_params_\n",
    "print(\"The best score and the corresponding parameters for the score are:\" ,best_accuracy_reg,\"    \",best_parameters_reg)\n"
   ]
  },
  {
   "cell_type": "markdown",
   "metadata": {},
   "source": [
    "As observed from the score above, we can conclude that with l2 (lasso) regressioa and a penalty value of 0.001 did give us more accurate solution comparison to without using penalty term which indicates that indeed, we were overfitting the model a little bit as the accuracy goes up by 0.002 with regularization."
   ]
  },
  {
   "cell_type": "code",
   "execution_count": 462,
   "metadata": {},
   "outputs": [],
   "source": [
    "lr_classifier = LogisticRegression(random_state = 0, penalty = 'l2')\n",
    "lr_classifier.fit(X_train, y_train)\n",
    "# Predict the Test set results\n",
    "y_pred = lr_classifier.predict(X_test)\n",
    "#probability score\n",
    "y_pred_probs = lr_classifier.predict_proba(X_test)\n",
    "y_pred_probs  = y_pred_probs [:, 1]"
   ]
  },
  {
   "cell_type": "code",
   "execution_count": 463,
   "metadata": {},
   "outputs": [
    {
     "name": "stdout",
     "output_type": "stream",
     "text": [
      "                 Model  Accuracy  Precision    Recall  F1 Score  F2 Score\n",
      "0  Logistic Regression  0.933534   0.943486  0.926402  0.934866  0.929769\n"
     ]
    }
   ],
   "source": [
    "#Evaluate test set results when we use l2 penalty \n",
    "acc = accuracy_score(y_test, y_pred )\n",
    "prec = precision_score(y_test, y_pred )\n",
    "rec = recall_score(y_test, y_pred )\n",
    "f1 = f1_score(y_test, y_pred )\n",
    "f2 = fbeta_score(y_test, y_pred, beta=2.0)\n",
    "\n",
    "\n",
    "\n",
    "results = pd.DataFrame([['Logistic Regression', \n",
    "acc, prec, rec, f1, f2]], columns = ['Model', \n",
    "'Accuracy', 'Precision', 'Recall', 'F1 Score', \n",
    "'F2 Score'])\n",
    "results = results.sort_values([\"Precision\", \n",
    "\"Recall\", \"F2 Score\"], ascending = False)\n",
    "print (results)"
   ]
  },
  {
   "cell_type": "code",
   "execution_count": 464,
   "metadata": {},
   "outputs": [
    {
     "name": "stdout",
     "output_type": "stream",
     "text": [
      "       cust_id  churn_flag  predictions  churn_rate(%) Ranking\n",
      "37267  c037268           0            0           3.66       9\n",
      "36289  c036290           0            0           6.61       8\n",
      "21411  c021412           0            0          37.23       6\n",
      "13592  c013593           1            1          93.02       4\n",
      "17964  c017965           1            1          97.98       2\n",
      "...        ...         ...          ...            ...     ...\n",
      "37830  c037831           0            0          11.37       7\n",
      "10028  c010029           1            1          98.50       1\n",
      "9984   c009985           1            1          96.05       3\n",
      "6355   c006356           1            1          96.18       3\n",
      "37208  c037209           1            0           1.83      10\n",
      "\n",
      "[9975 rows x 5 columns]\n"
     ]
    }
   ],
   "source": [
    "#Comments about the Results\n",
    "\n",
    "final_results = pd.concat([test_id, y_test], axis = 1).dropna()\n",
    "\n",
    "final_results['predictions'] = y_pred\n",
    "final_results[\"churn_rate(%)\"] = y_pred_probs\n",
    "final_results[\"churn_rate(%)\"] = final_results[\"churn_rate(%)\"]*100\n",
    "final_results[\"churn_rate(%)\"]=final_results[\"churn_rate(%)\"].round(2)\n",
    "final_results = final_results[['cust_id', 'churn_flag', 'predictions', 'churn_rate(%)']]\n",
    "final_results ['Ranking'] = pd.qcut(final_results['churn_rate(%)'].rank(method = 'first'),10,labels=range(10,0,-1))\n",
    "print (final_results)"
   ]
  },
  {
   "cell_type": "code",
   "execution_count": 465,
   "metadata": {},
   "outputs": [],
   "source": [
    "#This is to display all result / unnecessary for now...\n",
    "#display(HTML(final_results.to_html()))"
   ]
  },
  {
   "cell_type": "code",
   "execution_count": 466,
   "metadata": {
    "scrolled": true
   },
   "outputs": [
    {
     "data": {
      "text/html": [
       "<div>\n",
       "<style scoped>\n",
       "    .dataframe tbody tr th:only-of-type {\n",
       "        vertical-align: middle;\n",
       "    }\n",
       "\n",
       "    .dataframe tbody tr th {\n",
       "        vertical-align: top;\n",
       "    }\n",
       "\n",
       "    .dataframe thead th {\n",
       "        text-align: right;\n",
       "    }\n",
       "</style>\n",
       "<table border=\"1\" class=\"dataframe\">\n",
       "  <thead>\n",
       "    <tr style=\"text-align: right;\">\n",
       "      <th></th>\n",
       "      <th>cust_id</th>\n",
       "      <th>churn_flag</th>\n",
       "      <th>predictions</th>\n",
       "      <th>churn_rate(%)</th>\n",
       "      <th>Ranking</th>\n",
       "    </tr>\n",
       "  </thead>\n",
       "  <tbody>\n",
       "    <tr>\n",
       "      <th>18129</th>\n",
       "      <td>c018130</td>\n",
       "      <td>0</td>\n",
       "      <td>1</td>\n",
       "      <td>98.61</td>\n",
       "      <td>1</td>\n",
       "    </tr>\n",
       "    <tr>\n",
       "      <th>7103</th>\n",
       "      <td>c007104</td>\n",
       "      <td>1</td>\n",
       "      <td>1</td>\n",
       "      <td>98.44</td>\n",
       "      <td>1</td>\n",
       "    </tr>\n",
       "    <tr>\n",
       "      <th>6477</th>\n",
       "      <td>c006478</td>\n",
       "      <td>1</td>\n",
       "      <td>1</td>\n",
       "      <td>98.71</td>\n",
       "      <td>1</td>\n",
       "    </tr>\n",
       "    <tr>\n",
       "      <th>8481</th>\n",
       "      <td>c008482</td>\n",
       "      <td>1</td>\n",
       "      <td>1</td>\n",
       "      <td>98.73</td>\n",
       "      <td>1</td>\n",
       "    </tr>\n",
       "    <tr>\n",
       "      <th>8042</th>\n",
       "      <td>c008043</td>\n",
       "      <td>1</td>\n",
       "      <td>1</td>\n",
       "      <td>98.45</td>\n",
       "      <td>1</td>\n",
       "    </tr>\n",
       "    <tr>\n",
       "      <th>2066</th>\n",
       "      <td>c002067</td>\n",
       "      <td>1</td>\n",
       "      <td>1</td>\n",
       "      <td>98.31</td>\n",
       "      <td>1</td>\n",
       "    </tr>\n",
       "    <tr>\n",
       "      <th>3649</th>\n",
       "      <td>c003650</td>\n",
       "      <td>1</td>\n",
       "      <td>1</td>\n",
       "      <td>98.28</td>\n",
       "      <td>1</td>\n",
       "    </tr>\n",
       "    <tr>\n",
       "      <th>5061</th>\n",
       "      <td>c005062</td>\n",
       "      <td>1</td>\n",
       "      <td>1</td>\n",
       "      <td>98.61</td>\n",
       "      <td>1</td>\n",
       "    </tr>\n",
       "    <tr>\n",
       "      <th>4402</th>\n",
       "      <td>c004403</td>\n",
       "      <td>1</td>\n",
       "      <td>1</td>\n",
       "      <td>99.06</td>\n",
       "      <td>1</td>\n",
       "    </tr>\n",
       "    <tr>\n",
       "      <th>15266</th>\n",
       "      <td>c015267</td>\n",
       "      <td>1</td>\n",
       "      <td>1</td>\n",
       "      <td>99.58</td>\n",
       "      <td>1</td>\n",
       "    </tr>\n",
       "  </tbody>\n",
       "</table>\n",
       "</div>"
      ],
      "text/plain": [
       "       cust_id  churn_flag  predictions  churn_rate(%) Ranking\n",
       "18129  c018130           0            1          98.61       1\n",
       "7103   c007104           1            1          98.44       1\n",
       "6477   c006478           1            1          98.71       1\n",
       "8481   c008482           1            1          98.73       1\n",
       "8042   c008043           1            1          98.45       1\n",
       "2066   c002067           1            1          98.31       1\n",
       "3649   c003650           1            1          98.28       1\n",
       "5061   c005062           1            1          98.61       1\n",
       "4402   c004403           1            1          99.06       1\n",
       "15266  c015267           1            1          99.58       1"
      ]
     },
     "execution_count": 466,
     "metadata": {},
     "output_type": "execute_result"
    }
   ],
   "source": [
    "sort_by_ranking=final_results.sort_values('Ranking',ascending=False)\n",
    "sort_by_ranking.head(10)"
   ]
  },
  {
   "cell_type": "markdown",
   "metadata": {},
   "source": [
    "As we can see from the above table, these customers with given identities are very likely to churn or churn already as can be observed from the churn_flags. By doing estimations and ranking the customers with the probabilities of churn, we can approach the customer's problems and them in order to continue their subscriptions."
   ]
  },
  {
   "cell_type": "code",
   "execution_count": 467,
   "metadata": {},
   "outputs": [
    {
     "data": {
      "text/html": [
       "<div>\n",
       "<style scoped>\n",
       "    .dataframe tbody tr th:only-of-type {\n",
       "        vertical-align: middle;\n",
       "    }\n",
       "\n",
       "    .dataframe tbody tr th {\n",
       "        vertical-align: top;\n",
       "    }\n",
       "\n",
       "    .dataframe thead th {\n",
       "        text-align: right;\n",
       "    }\n",
       "</style>\n",
       "<table border=\"1\" class=\"dataframe\">\n",
       "  <thead>\n",
       "    <tr style=\"text-align: right;\">\n",
       "      <th></th>\n",
       "      <th>cust_id</th>\n",
       "      <th>churn_flag</th>\n",
       "      <th>predictions</th>\n",
       "      <th>churn_rate(%)</th>\n",
       "      <th>Ranking</th>\n",
       "    </tr>\n",
       "  </thead>\n",
       "  <tbody>\n",
       "    <tr>\n",
       "      <th>37208</th>\n",
       "      <td>c037209</td>\n",
       "      <td>1</td>\n",
       "      <td>0</td>\n",
       "      <td>1.83</td>\n",
       "      <td>10</td>\n",
       "    </tr>\n",
       "    <tr>\n",
       "      <th>31048</th>\n",
       "      <td>c031049</td>\n",
       "      <td>0</td>\n",
       "      <td>0</td>\n",
       "      <td>2.04</td>\n",
       "      <td>10</td>\n",
       "    </tr>\n",
       "    <tr>\n",
       "      <th>33233</th>\n",
       "      <td>c033234</td>\n",
       "      <td>0</td>\n",
       "      <td>0</td>\n",
       "      <td>1.66</td>\n",
       "      <td>10</td>\n",
       "    </tr>\n",
       "    <tr>\n",
       "      <th>30227</th>\n",
       "      <td>c030228</td>\n",
       "      <td>0</td>\n",
       "      <td>0</td>\n",
       "      <td>1.91</td>\n",
       "      <td>10</td>\n",
       "    </tr>\n",
       "    <tr>\n",
       "      <th>30355</th>\n",
       "      <td>c030356</td>\n",
       "      <td>0</td>\n",
       "      <td>0</td>\n",
       "      <td>2.14</td>\n",
       "      <td>10</td>\n",
       "    </tr>\n",
       "    <tr>\n",
       "      <th>25908</th>\n",
       "      <td>c025909</td>\n",
       "      <td>0</td>\n",
       "      <td>0</td>\n",
       "      <td>1.84</td>\n",
       "      <td>10</td>\n",
       "    </tr>\n",
       "    <tr>\n",
       "      <th>27677</th>\n",
       "      <td>c027678</td>\n",
       "      <td>0</td>\n",
       "      <td>0</td>\n",
       "      <td>2.22</td>\n",
       "      <td>10</td>\n",
       "    </tr>\n",
       "    <tr>\n",
       "      <th>29770</th>\n",
       "      <td>c029771</td>\n",
       "      <td>0</td>\n",
       "      <td>0</td>\n",
       "      <td>1.50</td>\n",
       "      <td>10</td>\n",
       "    </tr>\n",
       "    <tr>\n",
       "      <th>36258</th>\n",
       "      <td>c036259</td>\n",
       "      <td>0</td>\n",
       "      <td>0</td>\n",
       "      <td>0.91</td>\n",
       "      <td>10</td>\n",
       "    </tr>\n",
       "    <tr>\n",
       "      <th>23430</th>\n",
       "      <td>c023431</td>\n",
       "      <td>0</td>\n",
       "      <td>0</td>\n",
       "      <td>0.51</td>\n",
       "      <td>10</td>\n",
       "    </tr>\n",
       "  </tbody>\n",
       "</table>\n",
       "</div>"
      ],
      "text/plain": [
       "       cust_id  churn_flag  predictions  churn_rate(%) Ranking\n",
       "37208  c037209           1            0           1.83      10\n",
       "31048  c031049           0            0           2.04      10\n",
       "33233  c033234           0            0           1.66      10\n",
       "30227  c030228           0            0           1.91      10\n",
       "30355  c030356           0            0           2.14      10\n",
       "25908  c025909           0            0           1.84      10\n",
       "27677  c027678           0            0           2.22      10\n",
       "29770  c029771           0            0           1.50      10\n",
       "36258  c036259           0            0           0.91      10\n",
       "23430  c023431           0            0           0.51      10"
      ]
     },
     "execution_count": 467,
     "metadata": {},
     "output_type": "execute_result"
    }
   ],
   "source": [
    "sort_by_ranking=final_results.sort_values('Ranking',ascending=True)\n",
    "sort_by_ranking.head(10)"
   ]
  },
  {
   "cell_type": "markdown",
   "metadata": {},
   "source": [
    "Again, if we want to display low risk profile customers for churning we can just simply filter like this. And if there are some unexpected mislabel results, we can approach to customers to learn the reasons for churning. "
   ]
  },
  {
   "cell_type": "markdown",
   "metadata": {},
   "source": [
    "As conclusion, we built a logistic regression model with given dataset in order to find the probability of churn for the future ccustomers. We observe that the logistic regression model with L2 penalty term give us highlya ccurate outcomes. Also, we interpret the results by metrics/scores such as accuracy, recall, precision and F1. We also display the ROC curve besides recall-precision curve. At the end, we illustrate the risky profile and low risk profile customers in a table."
   ]
  }
 ],
 "metadata": {
  "kernelspec": {
   "display_name": "Python 3",
   "language": "python",
   "name": "python3"
  },
  "language_info": {
   "codemirror_mode": {
    "name": "ipython",
    "version": 3
   },
   "file_extension": ".py",
   "mimetype": "text/x-python",
   "name": "python",
   "nbconvert_exporter": "python",
   "pygments_lexer": "ipython3",
   "version": "3.8.5"
  }
 },
 "nbformat": 4,
 "nbformat_minor": 4
}
